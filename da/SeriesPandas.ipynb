{
 "cells": [
  {
   "cell_type": "markdown",
   "id": "e27044dd-808f-417b-b671-1ac3137843e4",
   "metadata": {},
   "source": [
    "# Series\n",
    "* 1차원 배열"
   ]
  },
  {
   "cell_type": "code",
   "execution_count": 1,
   "id": "b8ddff6a-993c-4f1b-9c11-dae151ad1e5b",
   "metadata": {},
   "outputs": [],
   "source": [
    "import pandas as pd"
   ]
  },
  {
   "cell_type": "code",
   "execution_count": 2,
   "id": "b318101d-519e-45ce-9da9-72f579cf54e2",
   "metadata": {},
   "outputs": [
    {
     "name": "stdout",
     "output_type": "stream",
     "text": [
      "['monday', 'tuesday', 'wednesday', 'Thursday', 4, 5]\n",
      "<class 'list'>\n"
     ]
    }
   ],
   "source": [
    "list1 = ['monday', 'tuesday', 'wednesday', 'Thursday', 4, 5]\n",
    "print(list1)\n",
    "print(type(list1))"
   ]
  },
  {
   "cell_type": "code",
   "execution_count": 3,
   "id": "c06af68f-9c05-47b8-8a0c-61aea9043eb0",
   "metadata": {},
   "outputs": [
    {
     "name": "stdout",
     "output_type": "stream",
     "text": [
      "0       monday\n",
      "1      tuesday\n",
      "2    wednesday\n",
      "3     Thursday\n",
      "4            4\n",
      "5            5\n",
      "dtype: object\n",
      "<class 'pandas.core.series.Series'>\n"
     ]
    }
   ],
   "source": [
    "series1 = pd.Series(list1)\n",
    "print(series1) # index: 0 ~ \n",
    "print(type(series1))"
   ]
  },
  {
   "cell_type": "code",
   "execution_count": 4,
   "id": "5344b05a-5e47-43c9-b0b0-0629f73de691",
   "metadata": {},
   "outputs": [
    {
     "name": "stdout",
     "output_type": "stream",
     "text": [
      "0       monday\n",
      "1      tuesday\n",
      "2    wednesday\n",
      "3     Thursday\n",
      "4            4\n",
      "5            5\n",
      "Name: week, dtype: object\n"
     ]
    }
   ],
   "source": [
    "series1.name = 'week' # 컬럼명\n",
    "print(series1)"
   ]
  },
  {
   "cell_type": "code",
   "execution_count": 5,
   "id": "2fbe92a5-c95c-43a9-b04d-9b59e1a75871",
   "metadata": {},
   "outputs": [
    {
     "name": "stdout",
     "output_type": "stream",
     "text": [
      "{'mon': 'monday', 'tue': 'tuesday', 'wed': 'wednesday'}\n",
      "<class 'dict'>\n"
     ]
    }
   ],
   "source": [
    "dict1 = {'mon': 'monday', 'tue': 'tuesday', 'wed': 'wednesday'}\n",
    "print(dict1)\n",
    "print(type(dict1))"
   ]
  },
  {
   "cell_type": "code",
   "execution_count": 6,
   "id": "4e6cdc99-f357-4cd3-9ff7-4db7a102c911",
   "metadata": {},
   "outputs": [
    {
     "name": "stdout",
     "output_type": "stream",
     "text": [
      "mon       monday\n",
      "tue      tuesday\n",
      "wed    wednesday\n",
      "dtype: object\n"
     ]
    }
   ],
   "source": [
    "series2 = pd.Series(dict1)\n",
    "print(series2)"
   ]
  },
  {
   "cell_type": "code",
   "execution_count": 7,
   "id": "9a3f0f8b-7061-47f0-825c-66a1c758606e",
   "metadata": {},
   "outputs": [
    {
     "data": {
      "text/html": [
       "<div>\n",
       "<style scoped>\n",
       "    .dataframe tbody tr th:only-of-type {\n",
       "        vertical-align: middle;\n",
       "    }\n",
       "\n",
       "    .dataframe tbody tr th {\n",
       "        vertical-align: top;\n",
       "    }\n",
       "\n",
       "    .dataframe thead th {\n",
       "        text-align: right;\n",
       "    }\n",
       "</style>\n",
       "<table border=\"1\" class=\"dataframe\">\n",
       "  <thead>\n",
       "    <tr style=\"text-align: right;\">\n",
       "      <th></th>\n",
       "      <th>Open</th>\n",
       "      <th>High</th>\n",
       "      <th>Low</th>\n",
       "      <th>Close</th>\n",
       "      <th>Volume</th>\n",
       "      <th>Change</th>\n",
       "    </tr>\n",
       "    <tr>\n",
       "      <th>Date</th>\n",
       "      <th></th>\n",
       "      <th></th>\n",
       "      <th></th>\n",
       "      <th></th>\n",
       "      <th></th>\n",
       "      <th></th>\n",
       "    </tr>\n",
       "  </thead>\n",
       "  <tbody>\n",
       "    <tr>\n",
       "      <th>2020-01-02</th>\n",
       "      <td>55500</td>\n",
       "      <td>56000</td>\n",
       "      <td>55000</td>\n",
       "      <td>55200</td>\n",
       "      <td>12993228</td>\n",
       "      <td>-0.010753</td>\n",
       "    </tr>\n",
       "    <tr>\n",
       "      <th>2020-01-03</th>\n",
       "      <td>56000</td>\n",
       "      <td>56600</td>\n",
       "      <td>54900</td>\n",
       "      <td>55500</td>\n",
       "      <td>15422255</td>\n",
       "      <td>0.005435</td>\n",
       "    </tr>\n",
       "  </tbody>\n",
       "</table>\n",
       "</div>"
      ],
      "text/plain": [
       "             Open   High    Low  Close    Volume    Change\n",
       "Date                                                      \n",
       "2020-01-02  55500  56000  55000  55200  12993228 -0.010753\n",
       "2020-01-03  56000  56600  54900  55500  15422255  0.005435"
      ]
     },
     "execution_count": 7,
     "metadata": {},
     "output_type": "execute_result"
    }
   ],
   "source": [
    "df = pd.read_csv('./data/samsung.csv', index_col=0, header=0)\n",
    "df.head(2)"
   ]
  },
  {
   "cell_type": "code",
   "execution_count": 8,
   "id": "3afaf577-48e9-49cb-9657-2d528553cdda",
   "metadata": {},
   "outputs": [
    {
     "name": "stdout",
     "output_type": "stream",
     "text": [
      "<class 'pandas.core.frame.DataFrame'>\n"
     ]
    }
   ],
   "source": [
    "print(type(df))"
   ]
  },
  {
   "cell_type": "code",
   "execution_count": 9,
   "id": "a1acf2fc-dc80-4a57-bbc7-13210bd0ece8",
   "metadata": {},
   "outputs": [
    {
     "name": "stdout",
     "output_type": "stream",
     "text": [
      "<class 'pandas.core.series.Series'>\n",
      "Date\n",
      "2020-01-02    55200\n",
      "2020-01-03    55500\n",
      "2020-01-06    55500\n",
      "2020-01-07    55800\n",
      "2020-01-08    56800\n",
      "              ...  \n",
      "2024-04-30    77500\n",
      "2024-05-02    78000\n",
      "2024-05-03    77600\n",
      "2024-05-07    81300\n",
      "2024-05-08    80900\n",
      "Name: Close, Length: 1073, dtype: int64\n"
     ]
    }
   ],
   "source": [
    "close = df['Close']\n",
    "print(type(close))\n",
    "print(close)"
   ]
  },
  {
   "cell_type": "code",
   "execution_count": 10,
   "id": "a87a47e1-44ea-4d00-91e8-381cf191d5dc",
   "metadata": {},
   "outputs": [
    {
     "data": {
      "text/plain": [
       "Index(['2020-01-02', '2020-01-03', '2020-01-06', '2020-01-07', '2020-01-08',\n",
       "       '2020-01-09', '2020-01-10', '2020-01-13', '2020-01-14', '2020-01-15',\n",
       "       ...\n",
       "       '2024-04-23', '2024-04-24', '2024-04-25', '2024-04-26', '2024-04-29',\n",
       "       '2024-04-30', '2024-05-02', '2024-05-03', '2024-05-07', '2024-05-08'],\n",
       "      dtype='object', name='Date', length=1073)"
      ]
     },
     "execution_count": 10,
     "metadata": {},
     "output_type": "execute_result"
    }
   ],
   "source": [
    "close.index"
   ]
  },
  {
   "cell_type": "code",
   "execution_count": 11,
   "id": "74c82275-7b41-476a-86a7-4f07a86d4f54",
   "metadata": {},
   "outputs": [
    {
     "data": {
      "text/plain": [
       "80900"
      ]
     },
     "execution_count": 11,
     "metadata": {},
     "output_type": "execute_result"
    }
   ],
   "source": [
    "close.loc['2024-05-08'] # index 명으로 접근"
   ]
  },
  {
   "cell_type": "code",
   "execution_count": 12,
   "id": "c2fd8e06-dd82-484e-ac21-196b74221607",
   "metadata": {},
   "outputs": [
    {
     "data": {
      "text/plain": [
       "Date\n",
       "2024-05-07    81300\n",
       "2024-05-08    80900\n",
       "Name: Close, dtype: int64"
      ]
     },
     "execution_count": 12,
     "metadata": {},
     "output_type": "execute_result"
    }
   ],
   "source": [
    "close.loc[['2024-05-07', '2024-05-08']] "
   ]
  },
  {
   "cell_type": "code",
   "execution_count": 13,
   "id": "77e6a517-46b4-43db-981b-9eff8886701b",
   "metadata": {},
   "outputs": [
    {
     "data": {
      "text/plain": [
       "Date\n",
       "2020-01-02    55200\n",
       "2024-05-08    80900\n",
       "Name: Close, dtype: int64"
      ]
     },
     "execution_count": 13,
     "metadata": {},
     "output_type": "execute_result"
    }
   ],
   "source": [
    "close.iloc[[0, -1]] # -1 : 마지막 값"
   ]
  },
  {
   "cell_type": "code",
   "execution_count": 14,
   "id": "135e0657-67ce-419f-b1d0-9fb90483cdd7",
   "metadata": {},
   "outputs": [
    {
     "data": {
      "text/plain": [
       "(1073,)"
      ]
     },
     "execution_count": 14,
     "metadata": {},
     "output_type": "execute_result"
    }
   ],
   "source": [
    "close.shape"
   ]
  },
  {
   "cell_type": "code",
   "execution_count": 15,
   "id": "40f0d3e4-81e7-4b41-b05d-330972c1313c",
   "metadata": {},
   "outputs": [
    {
     "name": "stdout",
     "output_type": "stream",
     "text": [
      "<class 'tuple'>\n",
      "1073\n"
     ]
    }
   ],
   "source": [
    "print(type(close.shape))\n",
    "print(close.shape[0])"
   ]
  },
  {
   "cell_type": "markdown",
   "id": "23b2a838-002b-4ff6-add0-932e238f488e",
   "metadata": {},
   "source": [
    "## 2023년 주가만 추출하여 samsung_2023.xlsx 저장"
   ]
  },
  {
   "cell_type": "code",
   "execution_count": 16,
   "id": "cb7b67a9-8a78-4ac1-ad2b-07ae624a090a",
   "metadata": {},
   "outputs": [
    {
     "name": "stdout",
     "output_type": "stream",
     "text": [
      "<class 'pandas.core.indexes.base.Index'>\n"
     ]
    },
    {
     "data": {
      "text/plain": [
       "Date\n",
       "2020-01-02    False\n",
       "2020-01-03    False\n",
       "2020-01-06    False\n",
       "2020-01-07    False\n",
       "2020-01-08    False\n",
       "              ...  \n",
       "2024-04-30    False\n",
       "2024-05-02    False\n",
       "2024-05-03    False\n",
       "2024-05-07    False\n",
       "2024-05-08    False\n",
       "Name: Date, Length: 1073, dtype: bool"
      ]
     },
     "execution_count": 16,
     "metadata": {},
     "output_type": "execute_result"
    }
   ],
   "source": [
    "print(type(close.index))\n",
    "close.index.to_series().str.startswith('2023')"
   ]
  },
  {
   "cell_type": "code",
   "execution_count": 17,
   "id": "c1e69c3a-e5d9-48f7-b53a-b433ffaf4901",
   "metadata": {},
   "outputs": [],
   "source": [
    "# print(type(close.index.str.startswith('2023'))) # <class 'numpy.ndarray'>"
   ]
  },
  {
   "cell_type": "code",
   "execution_count": 18,
   "id": "c226ac35-6d35-4655-bbc9-332f1ad19da6",
   "metadata": {},
   "outputs": [
    {
     "name": "stdout",
     "output_type": "stream",
     "text": [
      "Date\n",
      "2023-01-02    55500\n",
      "2023-01-03    55400\n",
      "2023-01-04    57800\n",
      "2023-01-05    58200\n",
      "2023-01-06    59000\n",
      "              ...  \n",
      "2023-12-21    75000\n",
      "2023-12-22    75900\n",
      "2023-12-26    76600\n",
      "2023-12-27    78000\n",
      "2023-12-28    78500\n",
      "Name: Close, Length: 245, dtype: int64\n"
     ]
    }
   ],
   "source": [
    "samsung_2023 = close[close.index.to_series().str.startswith('2023')]\n",
    "print(samsung_2023)"
   ]
  },
  {
   "cell_type": "code",
   "execution_count": 19,
   "id": "2047c039-f635-43df-a086-e6cd02861b2c",
   "metadata": {},
   "outputs": [],
   "source": [
    "samsung_2023.to_excel('./data/samsung_2023.xlsx', index=True, header=True)"
   ]
  },
  {
   "cell_type": "code",
   "execution_count": 20,
   "id": "f69cf642-d7aa-49e5-ac18-62e5e4178c2f",
   "metadata": {},
   "outputs": [
    {
     "data": {
      "text/plain": [
       "Date\n",
       "2023-01-02    55500\n",
       "2023-01-03    55400\n",
       "2023-01-04    57800\n",
       "2023-01-05    58200\n",
       "2023-01-06    59000\n",
       "              ...  \n",
       "2023-12-21    75000\n",
       "2023-12-22    75900\n",
       "2023-12-26    76600\n",
       "2023-12-27    78000\n",
       "2023-12-28    78500\n",
       "Name: Close, Length: 245, dtype: int64"
      ]
     },
     "execution_count": 20,
     "metadata": {},
     "output_type": "execute_result"
    }
   ],
   "source": [
    "samsung_2023 = pd.read_excel('./data/samsung_2023.xlsx', sheet_name='Sheet1', index_col='Date')['Close']\n",
    "samsung_2023"
   ]
  },
  {
   "cell_type": "markdown",
   "id": "02afa9ae-8d78-45f9-a637-e7dcbf8bed89",
   "metadata": {},
   "source": [
    "## 2024년 주가만 추출하여 samsung_2023.xlsx 저장"
   ]
  },
  {
   "cell_type": "code",
   "execution_count": 21,
   "id": "5a3d7f5f-c532-4bb0-a8c0-63729eca989d",
   "metadata": {},
   "outputs": [
    {
     "data": {
      "text/plain": [
       "Date\n",
       "2024-01-02    79600\n",
       "2024-01-03    77000\n",
       "2024-01-04    76600\n",
       "2024-01-05    76600\n",
       "2024-01-08    76500\n",
       "              ...  \n",
       "2024-04-30    77500\n",
       "2024-05-02    78000\n",
       "2024-05-03    77600\n",
       "2024-05-07    81300\n",
       "2024-05-08    80900\n",
       "Name: Close, Length: 86, dtype: int64"
      ]
     },
     "execution_count": 21,
     "metadata": {},
     "output_type": "execute_result"
    }
   ],
   "source": [
    "samsung_2024 = close[close.index.to_series().str.startswith('2024')]\n",
    "samsung_2024.to_excel('./data/samsung_2024.xlsx', index=True, header=True)\n",
    "samsung_2024 = pd.read_excel('./data/samsung_2024.xlsx', sheet_name='Sheet1', index_col='Date')['Close']\n",
    "samsung_2024"
   ]
  },
  {
   "cell_type": "code",
   "execution_count": 22,
   "id": "08a341a0-6a32-4c51-aa3c-86a435c23877",
   "metadata": {},
   "outputs": [
    {
     "data": {
      "text/plain": [
       "Date\n",
       "2023-01-02    55500\n",
       "2023-01-03    55400\n",
       "2023-01-04    57800\n",
       "2023-01-05    58200\n",
       "2023-01-06    59000\n",
       "              ...  \n",
       "2024-04-30    77500\n",
       "2024-05-02    78000\n",
       "2024-05-03    77600\n",
       "2024-05-07    81300\n",
       "2024-05-08    80900\n",
       "Name: Close, Length: 331, dtype: int64"
      ]
     },
     "execution_count": 22,
     "metadata": {},
     "output_type": "execute_result"
    }
   ],
   "source": [
    "# 2023년 주가만 추출하여 samsung_2023.xlsx 저장 + 2024년 주가만 추출하여 samsung_2023.xlsx 저장\n",
    "# samsung = samsung_2023.append(samsung_2024, ignore_index = False) # ignore_index = False : index 사용하지 말것\n",
    "\n",
    "# samsung_2023, samsung_2024를 DataFrame으로 변환하여 데이터를 가져옴\n",
    "samsung = pd.concat([samsung_2023, samsung_2024], ignore_index=False)\n",
    "samsung"
   ]
  },
  {
   "cell_type": "code",
   "execution_count": 23,
   "id": "a389cb6e-6181-413b-a4b2-06ffd588c748",
   "metadata": {},
   "outputs": [
    {
     "data": {
      "text/html": [
       "<div>\n",
       "<style scoped>\n",
       "    .dataframe tbody tr th:only-of-type {\n",
       "        vertical-align: middle;\n",
       "    }\n",
       "\n",
       "    .dataframe tbody tr th {\n",
       "        vertical-align: top;\n",
       "    }\n",
       "\n",
       "    .dataframe thead th {\n",
       "        text-align: right;\n",
       "    }\n",
       "</style>\n",
       "<table border=\"1\" class=\"dataframe\">\n",
       "  <thead>\n",
       "    <tr style=\"text-align: right;\">\n",
       "      <th></th>\n",
       "      <th>Open</th>\n",
       "      <th>High</th>\n",
       "      <th>Low</th>\n",
       "      <th>Close</th>\n",
       "      <th>Volume</th>\n",
       "      <th>Change</th>\n",
       "    </tr>\n",
       "    <tr>\n",
       "      <th>Date</th>\n",
       "      <th></th>\n",
       "      <th></th>\n",
       "      <th></th>\n",
       "      <th></th>\n",
       "      <th></th>\n",
       "      <th></th>\n",
       "    </tr>\n",
       "  </thead>\n",
       "  <tbody>\n",
       "    <tr>\n",
       "      <th>2020-01-02</th>\n",
       "      <td>55500</td>\n",
       "      <td>56000</td>\n",
       "      <td>55000</td>\n",
       "      <td>55200</td>\n",
       "      <td>12993228</td>\n",
       "      <td>-0.010753</td>\n",
       "    </tr>\n",
       "    <tr>\n",
       "      <th>2020-01-03</th>\n",
       "      <td>56000</td>\n",
       "      <td>56600</td>\n",
       "      <td>54900</td>\n",
       "      <td>55500</td>\n",
       "      <td>15422255</td>\n",
       "      <td>0.005435</td>\n",
       "    </tr>\n",
       "    <tr>\n",
       "      <th>2020-01-06</th>\n",
       "      <td>54900</td>\n",
       "      <td>55600</td>\n",
       "      <td>54600</td>\n",
       "      <td>55500</td>\n",
       "      <td>10278951</td>\n",
       "      <td>0.000000</td>\n",
       "    </tr>\n",
       "    <tr>\n",
       "      <th>2020-01-07</th>\n",
       "      <td>55700</td>\n",
       "      <td>56400</td>\n",
       "      <td>55600</td>\n",
       "      <td>55800</td>\n",
       "      <td>10009778</td>\n",
       "      <td>0.005405</td>\n",
       "    </tr>\n",
       "    <tr>\n",
       "      <th>2020-01-08</th>\n",
       "      <td>56200</td>\n",
       "      <td>57400</td>\n",
       "      <td>55900</td>\n",
       "      <td>56800</td>\n",
       "      <td>23501171</td>\n",
       "      <td>0.017921</td>\n",
       "    </tr>\n",
       "    <tr>\n",
       "      <th>...</th>\n",
       "      <td>...</td>\n",
       "      <td>...</td>\n",
       "      <td>...</td>\n",
       "      <td>...</td>\n",
       "      <td>...</td>\n",
       "      <td>...</td>\n",
       "    </tr>\n",
       "    <tr>\n",
       "      <th>2024-04-30</th>\n",
       "      <td>77000</td>\n",
       "      <td>78500</td>\n",
       "      <td>76600</td>\n",
       "      <td>77500</td>\n",
       "      <td>19007007</td>\n",
       "      <td>0.010430</td>\n",
       "    </tr>\n",
       "    <tr>\n",
       "      <th>2024-05-02</th>\n",
       "      <td>77600</td>\n",
       "      <td>78600</td>\n",
       "      <td>77300</td>\n",
       "      <td>78000</td>\n",
       "      <td>18900640</td>\n",
       "      <td>0.006452</td>\n",
       "    </tr>\n",
       "    <tr>\n",
       "      <th>2024-05-03</th>\n",
       "      <td>79000</td>\n",
       "      <td>79000</td>\n",
       "      <td>77500</td>\n",
       "      <td>77600</td>\n",
       "      <td>13151889</td>\n",
       "      <td>-0.005128</td>\n",
       "    </tr>\n",
       "    <tr>\n",
       "      <th>2024-05-07</th>\n",
       "      <td>79600</td>\n",
       "      <td>81300</td>\n",
       "      <td>79400</td>\n",
       "      <td>81300</td>\n",
       "      <td>26238868</td>\n",
       "      <td>0.047680</td>\n",
       "    </tr>\n",
       "    <tr>\n",
       "      <th>2024-05-08</th>\n",
       "      <td>80800</td>\n",
       "      <td>81200</td>\n",
       "      <td>80500</td>\n",
       "      <td>80900</td>\n",
       "      <td>6669168</td>\n",
       "      <td>-0.004920</td>\n",
       "    </tr>\n",
       "  </tbody>\n",
       "</table>\n",
       "<p>1073 rows × 6 columns</p>\n",
       "</div>"
      ],
      "text/plain": [
       "             Open   High    Low  Close    Volume    Change\n",
       "Date                                                      \n",
       "2020-01-02  55500  56000  55000  55200  12993228 -0.010753\n",
       "2020-01-03  56000  56600  54900  55500  15422255  0.005435\n",
       "2020-01-06  54900  55600  54600  55500  10278951  0.000000\n",
       "2020-01-07  55700  56400  55600  55800  10009778  0.005405\n",
       "2020-01-08  56200  57400  55900  56800  23501171  0.017921\n",
       "...           ...    ...    ...    ...       ...       ...\n",
       "2024-04-30  77000  78500  76600  77500  19007007  0.010430\n",
       "2024-05-02  77600  78600  77300  78000  18900640  0.006452\n",
       "2024-05-03  79000  79000  77500  77600  13151889 -0.005128\n",
       "2024-05-07  79600  81300  79400  81300  26238868  0.047680\n",
       "2024-05-08  80800  81200  80500  80900   6669168 -0.004920\n",
       "\n",
       "[1073 rows x 6 columns]"
      ]
     },
     "execution_count": 23,
     "metadata": {},
     "output_type": "execute_result"
    }
   ],
   "source": [
    "df = pd.read_csv('./data/samsung.csv', index_col=0, header=0) # 2020 ~ 2024-05-08\n",
    "df"
   ]
  },
  {
   "cell_type": "code",
   "execution_count": 24,
   "id": "83395d77-c2cc-432f-8f0a-4d3e3b06a743",
   "metadata": {},
   "outputs": [],
   "source": [
    "samsung = df['Close'] # 종가 기준"
   ]
  },
  {
   "cell_type": "code",
   "execution_count": 25,
   "id": "2889943b-e8a2-4448-a07b-48f33baea2f1",
   "metadata": {},
   "outputs": [
    {
     "name": "stdout",
     "output_type": "stream",
     "text": [
      "<class 'pandas.core.series.Series'>\n",
      "Date\n",
      "2020-01-02    55200\n",
      "2020-01-03    55500\n",
      "2020-01-06    55500\n",
      "2020-01-07    55800\n",
      "2020-01-08    56800\n",
      "Name: Close, dtype: int64\n"
     ]
    }
   ],
   "source": [
    "print(type(samsung))\n",
    "print(samsung.head())"
   ]
  },
  {
   "cell_type": "code",
   "execution_count": 26,
   "id": "a0ce8add-c5d4-4f71-b499-5a617d4331d7",
   "metadata": {},
   "outputs": [
    {
     "data": {
      "text/plain": [
       "'42,500'"
      ]
     },
     "execution_count": 26,
     "metadata": {},
     "output_type": "execute_result"
    }
   ],
   "source": [
    "format(samsung.min(), \",\")"
   ]
  },
  {
   "cell_type": "code",
   "execution_count": 27,
   "id": "27ad4ed1-9f1c-4c0a-a834-5e94f2a40fc2",
   "metadata": {},
   "outputs": [
    {
     "data": {
      "text/plain": [
       "'91,000'"
      ]
     },
     "execution_count": 27,
     "metadata": {},
     "output_type": "execute_result"
    }
   ],
   "source": [
    "format(samsung.max(), \",\")"
   ]
  },
  {
   "cell_type": "code",
   "execution_count": 28,
   "id": "dbb60da0-cecf-4690-a9a4-dfb5873db402",
   "metadata": {},
   "outputs": [
    {
     "name": "stdout",
     "output_type": "stream",
     "text": [
      "214.12 %\n"
     ]
    }
   ],
   "source": [
    "print(round((samsung.max() / samsung.min()) * 100, 2), \"%\")"
   ]
  },
  {
   "cell_type": "code",
   "execution_count": 29,
   "id": "3713ee3f-652b-4ac3-a4e3-ac6ee10c13a1",
   "metadata": {},
   "outputs": [
    {
     "name": "stdout",
     "output_type": "stream",
     "text": [
      "114.12 %\n"
     ]
    }
   ],
   "source": [
    "print(round(((samsung.max() / samsung.min()) -1) * 100, 2), \"%\")"
   ]
  },
  {
   "cell_type": "code",
   "execution_count": 30,
   "id": "fc9ba09b-d3f1-4a3b-b5ac-c6ec9338d2e8",
   "metadata": {},
   "outputs": [
    {
     "data": {
      "text/plain": [
       "count     1073.000000\n",
       "mean     67682.385834\n",
       "std       9898.532422\n",
       "min      42500.000000\n",
       "25%      59800.000000\n",
       "50%      68400.000000\n",
       "75%      74900.000000\n",
       "max      91000.000000\n",
       "Name: Close, dtype: float64"
      ]
     },
     "execution_count": 30,
     "metadata": {},
     "output_type": "execute_result"
    }
   ],
   "source": [
    "samsung.describe()\n",
    "# 2023 ~ 2024\n",
    "# count      331.000000\n",
    "# mean     69759.818731 # 평균 주가\n",
    "# std       5822.296639 # 주가 변동성, 일반적 상식: 크면 단타를 실행하면 높은 수익률이나 손해를 볼 수 있음\n",
    "# min      55400.000000 # 최저 \n",
    "# 25%      65450.000000 # 사분위 수, 정렬을 했을 때 25% 지점\n",
    "# 50%      70500.000000 # 중앙값\n",
    "# 75%      73000.000000 # 3/4 사분위 위치\n",
    "# max      85300.000000 # 최고가"
   ]
  },
  {
   "cell_type": "code",
   "execution_count": 31,
   "id": "51a07814-0605-4d57-9ef1-938a0e910bb1",
   "metadata": {},
   "outputs": [
    {
     "data": {
      "text/plain": [
       "1073.0"
      ]
     },
     "execution_count": 31,
     "metadata": {},
     "output_type": "execute_result"
    }
   ],
   "source": [
    "desc = samsung.describe()\n",
    "desc.iloc[0] # 1년 동안 거래일 수"
   ]
  },
  {
   "cell_type": "code",
   "execution_count": 32,
   "id": "a92fc6f5-22d9-465f-ba94-fba178be021c",
   "metadata": {},
   "outputs": [
    {
     "name": "stdout",
     "output_type": "stream",
     "text": [
      "<class 'numpy.ndarray'>\n"
     ]
    }
   ],
   "source": [
    "print(type(samsung.values))"
   ]
  },
  {
   "cell_type": "code",
   "execution_count": 33,
   "id": "e9568847-f681-4606-ae8d-de86fe17155e",
   "metadata": {},
   "outputs": [],
   "source": [
    "samsung_price = samsung.values"
   ]
  },
  {
   "cell_type": "markdown",
   "id": "57b7a4d8-6b9d-4208-9c95-4ee20b28358e",
   "metadata": {},
   "source": [
    "# 삼성전자 주가 분석 "
   ]
  },
  {
   "cell_type": "markdown",
   "id": "7e4b551e-3405-41dc-aaba-e1f823414c82",
   "metadata": {},
   "source": [
    "## 최저/최고가는 언제 였는가?"
   ]
  },
  {
   "cell_type": "code",
   "execution_count": 34,
   "id": "a7d3147d-d93f-4836-a4cb-71be019fc7ad",
   "metadata": {},
   "outputs": [
    {
     "data": {
      "text/plain": [
       "Date\n",
       "2020-01-02    False\n",
       "2020-01-03    False\n",
       "2020-01-06    False\n",
       "2020-01-07    False\n",
       "2020-01-08    False\n",
       "              ...  \n",
       "2024-04-30    False\n",
       "2024-05-02    False\n",
       "2024-05-03    False\n",
       "2024-05-07    False\n",
       "2024-05-08    False\n",
       "Name: Close, Length: 1073, dtype: bool"
      ]
     },
     "execution_count": 34,
     "metadata": {},
     "output_type": "execute_result"
    }
   ],
   "source": [
    "samsung == samsung.min()"
   ]
  },
  {
   "cell_type": "code",
   "execution_count": 35,
   "id": "898291aa-ff08-4dec-9602-a567638833cd",
   "metadata": {},
   "outputs": [
    {
     "data": {
      "text/plain": [
       "Index(['2020-03-23'], dtype='object', name='Date')"
      ]
     },
     "execution_count": 35,
     "metadata": {},
     "output_type": "execute_result"
    }
   ],
   "source": [
    "samsung.index[samsung_price == samsung.min()]"
   ]
  },
  {
   "cell_type": "code",
   "execution_count": 36,
   "id": "b4e22307-b8a2-42ee-90a1-8b96d7725bc1",
   "metadata": {},
   "outputs": [
    {
     "data": {
      "text/plain": [
       "'2020-03-23'"
      ]
     },
     "execution_count": 36,
     "metadata": {},
     "output_type": "execute_result"
    }
   ],
   "source": [
    "samsung.index[samsung_price == samsung.min()][0]"
   ]
  },
  {
   "cell_type": "markdown",
   "id": "6c1fad96-8162-419f-b712-6d4529081808",
   "metadata": {},
   "source": [
    "## 2020-03-23 뉴스 검색"
   ]
  },
  {
   "cell_type": "code",
   "execution_count": 37,
   "id": "949c3ce7-6088-4b91-a9f8-a827b633ae78",
   "metadata": {},
   "outputs": [
    {
     "data": {
      "text/plain": [
       "'2021-01-11'"
      ]
     },
     "execution_count": 37,
     "metadata": {},
     "output_type": "execute_result"
    }
   ],
   "source": [
    "samsung.index[samsung == samsung.max()][0]"
   ]
  },
  {
   "cell_type": "markdown",
   "id": "ec8d2770-d3fb-4b25-bbc4-f8666d1d5cef",
   "metadata": {},
   "source": [
    "## 2021-01-11 뉴스 검색\n",
    "- 코로나로 인한 비대면 교육 증가\n",
    "- 메모리 및 컴퓨터 관련 상품 소비의 증가\n",
    "- 삼성전자 주가 상승으로 이루어짐\n",
    "- 시장에 돈이 넘쳐서 인플레이션이 일어나고\n",
    "- 주가가 하락하게 됨"
   ]
  },
  {
   "cell_type": "code",
   "execution_count": 38,
   "id": "395e87f5-d5c8-455c-b222-7150442ced1e",
   "metadata": {},
   "outputs": [
    {
     "data": {
      "text/plain": [
       "55"
      ]
     },
     "execution_count": 38,
     "metadata": {},
     "output_type": "execute_result"
    }
   ],
   "source": [
    "samsung.argmin() # 최고값이 있는 행의 index, 0~"
   ]
  },
  {
   "cell_type": "code",
   "execution_count": 39,
   "id": "a4f7839d-e7eb-4568-a5e5-72675dfde23f",
   "metadata": {},
   "outputs": [
    {
     "data": {
      "text/plain": [
       "42500"
      ]
     },
     "execution_count": 39,
     "metadata": {},
     "output_type": "execute_result"
    }
   ],
   "source": [
    "samsung.iloc[samsung.argmin()] # 고유한 행 수로 접근"
   ]
  },
  {
   "cell_type": "code",
   "execution_count": 40,
   "id": "d9400000-d75c-410b-af0e-34b95fb97eac",
   "metadata": {},
   "outputs": [
    {
     "name": "stdout",
     "output_type": "stream",
     "text": [
      "42500\n",
      "2020-03-23\n"
     ]
    }
   ],
   "source": [
    "print(samsung.iloc[samsung.argmin()])\n",
    "print(samsung.index[samsung.argmin()])"
   ]
  },
  {
   "cell_type": "code",
   "execution_count": 41,
   "id": "3448421a-9c1b-4afc-b433-ef58ddba00af",
   "metadata": {},
   "outputs": [
    {
     "name": "stdout",
     "output_type": "stream",
     "text": [
      "91000\n",
      "2021-01-11\n"
     ]
    }
   ],
   "source": [
    "# 장중 최고가\n",
    "print(samsung.iloc[samsung.argmax()])\n",
    "print(samsung.index[samsung.argmax()])"
   ]
  },
  {
   "cell_type": "code",
   "execution_count": 42,
   "id": "cb0a75d4-fc6d-413f-9dc5-44ef08d8c468",
   "metadata": {},
   "outputs": [
    {
     "name": "stdout",
     "output_type": "stream",
     "text": [
      "42400\n",
      "2020-03-23\n"
     ]
    }
   ],
   "source": [
    "# 장중 최저가\n",
    "print(df['Low'].iloc[df['High'].argmin()])\n",
    "print(df['Low'].index[df['High'].argmin()])"
   ]
  },
  {
   "cell_type": "markdown",
   "id": "8e31f350-09d2-4e40-9db3-cbdc903ae8fa",
   "metadata": {},
   "source": [
    "## 삼성전자의 수익률은?"
   ]
  },
  {
   "cell_type": "code",
   "execution_count": 79,
   "id": "e89c0055-31ea-43e8-9066-af843b5a99d2",
   "metadata": {},
   "outputs": [
    {
     "data": {
      "text/html": [
       "<div>\n",
       "<style scoped>\n",
       "    .dataframe tbody tr th:only-of-type {\n",
       "        vertical-align: middle;\n",
       "    }\n",
       "\n",
       "    .dataframe tbody tr th {\n",
       "        vertical-align: top;\n",
       "    }\n",
       "\n",
       "    .dataframe thead th {\n",
       "        text-align: right;\n",
       "    }\n",
       "</style>\n",
       "<table border=\"1\" class=\"dataframe\">\n",
       "  <thead>\n",
       "    <tr style=\"text-align: right;\">\n",
       "      <th></th>\n",
       "      <th>Open</th>\n",
       "      <th>High</th>\n",
       "      <th>Low</th>\n",
       "      <th>Close</th>\n",
       "      <th>Volume</th>\n",
       "      <th>Change</th>\n",
       "    </tr>\n",
       "    <tr>\n",
       "      <th>Date</th>\n",
       "      <th></th>\n",
       "      <th></th>\n",
       "      <th></th>\n",
       "      <th></th>\n",
       "      <th></th>\n",
       "      <th></th>\n",
       "    </tr>\n",
       "  </thead>\n",
       "  <tbody>\n",
       "    <tr>\n",
       "      <th>2020-01-02</th>\n",
       "      <td>55500</td>\n",
       "      <td>56000</td>\n",
       "      <td>55000</td>\n",
       "      <td>55200</td>\n",
       "      <td>12993228</td>\n",
       "      <td>-0.010753</td>\n",
       "    </tr>\n",
       "    <tr>\n",
       "      <th>2020-01-03</th>\n",
       "      <td>56000</td>\n",
       "      <td>56600</td>\n",
       "      <td>54900</td>\n",
       "      <td>55500</td>\n",
       "      <td>15422255</td>\n",
       "      <td>0.005435</td>\n",
       "    </tr>\n",
       "    <tr>\n",
       "      <th>2020-01-06</th>\n",
       "      <td>54900</td>\n",
       "      <td>55600</td>\n",
       "      <td>54600</td>\n",
       "      <td>55500</td>\n",
       "      <td>10278951</td>\n",
       "      <td>0.000000</td>\n",
       "    </tr>\n",
       "    <tr>\n",
       "      <th>2020-01-07</th>\n",
       "      <td>55700</td>\n",
       "      <td>56400</td>\n",
       "      <td>55600</td>\n",
       "      <td>55800</td>\n",
       "      <td>10009778</td>\n",
       "      <td>0.005405</td>\n",
       "    </tr>\n",
       "    <tr>\n",
       "      <th>2020-01-08</th>\n",
       "      <td>56200</td>\n",
       "      <td>57400</td>\n",
       "      <td>55900</td>\n",
       "      <td>56800</td>\n",
       "      <td>23501171</td>\n",
       "      <td>0.017921</td>\n",
       "    </tr>\n",
       "  </tbody>\n",
       "</table>\n",
       "</div>"
      ],
      "text/plain": [
       "             Open   High    Low  Close    Volume    Change\n",
       "Date                                                      \n",
       "2020-01-02  55500  56000  55000  55200  12993228 -0.010753\n",
       "2020-01-03  56000  56600  54900  55500  15422255  0.005435\n",
       "2020-01-06  54900  55600  54600  55500  10278951  0.000000\n",
       "2020-01-07  55700  56400  55600  55800  10009778  0.005405\n",
       "2020-01-08  56200  57400  55900  56800  23501171  0.017921"
      ]
     },
     "execution_count": 79,
     "metadata": {},
     "output_type": "execute_result"
    }
   ],
   "source": [
    "df.head()"
   ]
  },
  {
   "cell_type": "code",
   "execution_count": 80,
   "id": "5e5101b3-260f-4882-910b-dacea2a9eb26",
   "metadata": {
    "scrolled": true
   },
   "outputs": [
    {
     "data": {
      "text/html": [
       "<div>\n",
       "<style scoped>\n",
       "    .dataframe tbody tr th:only-of-type {\n",
       "        vertical-align: middle;\n",
       "    }\n",
       "\n",
       "    .dataframe tbody tr th {\n",
       "        vertical-align: top;\n",
       "    }\n",
       "\n",
       "    .dataframe thead th {\n",
       "        text-align: right;\n",
       "    }\n",
       "</style>\n",
       "<table border=\"1\" class=\"dataframe\">\n",
       "  <thead>\n",
       "    <tr style=\"text-align: right;\">\n",
       "      <th></th>\n",
       "      <th>Close</th>\n",
       "    </tr>\n",
       "    <tr>\n",
       "      <th>Date</th>\n",
       "      <th></th>\n",
       "    </tr>\n",
       "  </thead>\n",
       "  <tbody>\n",
       "    <tr>\n",
       "      <th>2020-01-02</th>\n",
       "      <td>55200</td>\n",
       "    </tr>\n",
       "    <tr>\n",
       "      <th>2020-01-03</th>\n",
       "      <td>55500</td>\n",
       "    </tr>\n",
       "    <tr>\n",
       "      <th>2020-01-06</th>\n",
       "      <td>55500</td>\n",
       "    </tr>\n",
       "    <tr>\n",
       "      <th>2020-01-07</th>\n",
       "      <td>55800</td>\n",
       "    </tr>\n",
       "    <tr>\n",
       "      <th>2020-01-08</th>\n",
       "      <td>56800</td>\n",
       "    </tr>\n",
       "  </tbody>\n",
       "</table>\n",
       "</div>"
      ],
      "text/plain": [
       "            Close\n",
       "Date             \n",
       "2020-01-02  55200\n",
       "2020-01-03  55500\n",
       "2020-01-06  55500\n",
       "2020-01-07  55800\n",
       "2020-01-08  56800"
      ]
     },
     "execution_count": 80,
     "metadata": {},
     "output_type": "execute_result"
    }
   ],
   "source": [
    "samsung = df[['Close']]\n",
    "samsung.head(5)"
   ]
  },
  {
   "cell_type": "code",
   "execution_count": 81,
   "id": "c995b23e-0c90-4f80-9251-f87412da3971",
   "metadata": {
    "scrolled": true
   },
   "outputs": [
    {
     "data": {
      "text/plain": [
       "Date\n",
       "2020-01-02        NaN\n",
       "2020-01-03    55200.0\n",
       "2020-01-06    55500.0\n",
       "2020-01-07    55500.0\n",
       "2020-01-08    55800.0\n",
       "               ...   \n",
       "2024-04-30    76700.0\n",
       "2024-05-02    77500.0\n",
       "2024-05-03    78000.0\n",
       "2024-05-07    77600.0\n",
       "2024-05-08    81300.0\n",
       "Name: Close, Length: 1073, dtype: float64"
      ]
     },
     "execution_count": 81,
     "metadata": {},
     "output_type": "execute_result"
    }
   ],
   "source": [
    "samsung['Close'].shift(1)"
   ]
  },
  {
   "cell_type": "code",
   "execution_count": 82,
   "id": "7fd60cc5-ffe8-4e23-b70b-8f0b2d438f1a",
   "metadata": {},
   "outputs": [
    {
     "data": {
      "text/html": [
       "<div>\n",
       "<style scoped>\n",
       "    .dataframe tbody tr th:only-of-type {\n",
       "        vertical-align: middle;\n",
       "    }\n",
       "\n",
       "    .dataframe tbody tr th {\n",
       "        vertical-align: top;\n",
       "    }\n",
       "\n",
       "    .dataframe thead th {\n",
       "        text-align: right;\n",
       "    }\n",
       "</style>\n",
       "<table border=\"1\" class=\"dataframe\">\n",
       "  <thead>\n",
       "    <tr style=\"text-align: right;\">\n",
       "      <th></th>\n",
       "      <th>Close</th>\n",
       "      <th>Prev</th>\n",
       "    </tr>\n",
       "    <tr>\n",
       "      <th>Date</th>\n",
       "      <th></th>\n",
       "      <th></th>\n",
       "    </tr>\n",
       "  </thead>\n",
       "  <tbody>\n",
       "    <tr>\n",
       "      <th>2020-01-02</th>\n",
       "      <td>55200</td>\n",
       "      <td>NaN</td>\n",
       "    </tr>\n",
       "    <tr>\n",
       "      <th>2020-01-03</th>\n",
       "      <td>55500</td>\n",
       "      <td>55200.0</td>\n",
       "    </tr>\n",
       "    <tr>\n",
       "      <th>2020-01-06</th>\n",
       "      <td>55500</td>\n",
       "      <td>55500.0</td>\n",
       "    </tr>\n",
       "    <tr>\n",
       "      <th>2020-01-07</th>\n",
       "      <td>55800</td>\n",
       "      <td>55500.0</td>\n",
       "    </tr>\n",
       "    <tr>\n",
       "      <th>2020-01-08</th>\n",
       "      <td>56800</td>\n",
       "      <td>55800.0</td>\n",
       "    </tr>\n",
       "  </tbody>\n",
       "</table>\n",
       "</div>"
      ],
      "text/plain": [
       "            Close     Prev\n",
       "Date                      \n",
       "2020-01-02  55200      NaN\n",
       "2020-01-03  55500  55200.0\n",
       "2020-01-06  55500  55500.0\n",
       "2020-01-07  55800  55500.0\n",
       "2020-01-08  56800  55800.0"
      ]
     },
     "execution_count": 82,
     "metadata": {},
     "output_type": "execute_result"
    }
   ],
   "source": [
    "import warnings\n",
    "warnings.filterwarnings(action='ignore')\n",
    "\n",
    "samsung['Prev'] = samsung['Close'].shift(1)\n",
    "samsung.head()"
   ]
  },
  {
   "cell_type": "code",
   "execution_count": 83,
   "id": "57d0bd15-1088-4e4f-8156-4000edf7577d",
   "metadata": {},
   "outputs": [
    {
     "data": {
      "text/html": [
       "<div>\n",
       "<style scoped>\n",
       "    .dataframe tbody tr th:only-of-type {\n",
       "        vertical-align: middle;\n",
       "    }\n",
       "\n",
       "    .dataframe tbody tr th {\n",
       "        vertical-align: top;\n",
       "    }\n",
       "\n",
       "    .dataframe thead th {\n",
       "        text-align: right;\n",
       "    }\n",
       "</style>\n",
       "<table border=\"1\" class=\"dataframe\">\n",
       "  <thead>\n",
       "    <tr style=\"text-align: right;\">\n",
       "      <th></th>\n",
       "      <th>Close</th>\n",
       "      <th>Prev</th>\n",
       "      <th>Rate</th>\n",
       "    </tr>\n",
       "    <tr>\n",
       "      <th>Date</th>\n",
       "      <th></th>\n",
       "      <th></th>\n",
       "      <th></th>\n",
       "    </tr>\n",
       "  </thead>\n",
       "  <tbody>\n",
       "    <tr>\n",
       "      <th>2020-01-02</th>\n",
       "      <td>55200</td>\n",
       "      <td>NaN</td>\n",
       "      <td>NaN</td>\n",
       "    </tr>\n",
       "    <tr>\n",
       "      <th>2020-01-03</th>\n",
       "      <td>55500</td>\n",
       "      <td>55200.0</td>\n",
       "      <td>0.543478</td>\n",
       "    </tr>\n",
       "    <tr>\n",
       "      <th>2020-01-06</th>\n",
       "      <td>55500</td>\n",
       "      <td>55500.0</td>\n",
       "      <td>0.000000</td>\n",
       "    </tr>\n",
       "    <tr>\n",
       "      <th>2020-01-07</th>\n",
       "      <td>55800</td>\n",
       "      <td>55500.0</td>\n",
       "      <td>0.540541</td>\n",
       "    </tr>\n",
       "    <tr>\n",
       "      <th>2020-01-08</th>\n",
       "      <td>56800</td>\n",
       "      <td>55800.0</td>\n",
       "      <td>1.792115</td>\n",
       "    </tr>\n",
       "  </tbody>\n",
       "</table>\n",
       "</div>"
      ],
      "text/plain": [
       "            Close     Prev      Rate\n",
       "Date                                \n",
       "2020-01-02  55200      NaN       NaN\n",
       "2020-01-03  55500  55200.0  0.543478\n",
       "2020-01-06  55500  55500.0  0.000000\n",
       "2020-01-07  55800  55500.0  0.540541\n",
       "2020-01-08  56800  55800.0  1.792115"
      ]
     },
     "execution_count": 83,
     "metadata": {},
     "output_type": "execute_result"
    }
   ],
   "source": [
    "samsung['Rate'] = ((samsung['Close'] / samsung['Prev']) -1) * 100\n",
    "samsung.head()"
   ]
  },
  {
   "cell_type": "code",
   "execution_count": 84,
   "id": "24f5cbd3-b5c9-42e2-a852-474ad46f5aed",
   "metadata": {},
   "outputs": [
    {
     "data": {
      "text/html": [
       "<div>\n",
       "<style scoped>\n",
       "    .dataframe tbody tr th:only-of-type {\n",
       "        vertical-align: middle;\n",
       "    }\n",
       "\n",
       "    .dataframe tbody tr th {\n",
       "        vertical-align: top;\n",
       "    }\n",
       "\n",
       "    .dataframe thead th {\n",
       "        text-align: right;\n",
       "    }\n",
       "</style>\n",
       "<table border=\"1\" class=\"dataframe\">\n",
       "  <thead>\n",
       "    <tr style=\"text-align: right;\">\n",
       "      <th></th>\n",
       "      <th>Close</th>\n",
       "      <th>Prev</th>\n",
       "      <th>Rate</th>\n",
       "    </tr>\n",
       "    <tr>\n",
       "      <th>Date</th>\n",
       "      <th></th>\n",
       "      <th></th>\n",
       "      <th></th>\n",
       "    </tr>\n",
       "  </thead>\n",
       "  <tbody>\n",
       "    <tr>\n",
       "      <th>2020-01-02</th>\n",
       "      <td>55200</td>\n",
       "      <td>0.0</td>\n",
       "      <td>0.000000</td>\n",
       "    </tr>\n",
       "    <tr>\n",
       "      <th>2020-01-03</th>\n",
       "      <td>55500</td>\n",
       "      <td>55200.0</td>\n",
       "      <td>0.543478</td>\n",
       "    </tr>\n",
       "    <tr>\n",
       "      <th>2020-01-06</th>\n",
       "      <td>55500</td>\n",
       "      <td>55500.0</td>\n",
       "      <td>0.000000</td>\n",
       "    </tr>\n",
       "    <tr>\n",
       "      <th>2020-01-07</th>\n",
       "      <td>55800</td>\n",
       "      <td>55500.0</td>\n",
       "      <td>0.540541</td>\n",
       "    </tr>\n",
       "    <tr>\n",
       "      <th>2020-01-08</th>\n",
       "      <td>56800</td>\n",
       "      <td>55800.0</td>\n",
       "      <td>1.792115</td>\n",
       "    </tr>\n",
       "  </tbody>\n",
       "</table>\n",
       "</div>"
      ],
      "text/plain": [
       "            Close     Prev      Rate\n",
       "Date                                \n",
       "2020-01-02  55200      0.0  0.000000\n",
       "2020-01-03  55500  55200.0  0.543478\n",
       "2020-01-06  55500  55500.0  0.000000\n",
       "2020-01-07  55800  55500.0  0.540541\n",
       "2020-01-08  56800  55800.0  1.792115"
      ]
     },
     "execution_count": 84,
     "metadata": {},
     "output_type": "execute_result"
    }
   ],
   "source": [
    "samsung = samsung.fillna(0)\n",
    "samsung.head()"
   ]
  },
  {
   "cell_type": "code",
   "execution_count": 85,
   "id": "b7c8ea8d-2633-4609-9325-46370f3e826b",
   "metadata": {},
   "outputs": [
    {
     "data": {
      "text/html": [
       "<div>\n",
       "<style scoped>\n",
       "    .dataframe tbody tr th:only-of-type {\n",
       "        vertical-align: middle;\n",
       "    }\n",
       "\n",
       "    .dataframe tbody tr th {\n",
       "        vertical-align: top;\n",
       "    }\n",
       "\n",
       "    .dataframe thead th {\n",
       "        text-align: right;\n",
       "    }\n",
       "</style>\n",
       "<table border=\"1\" class=\"dataframe\">\n",
       "  <thead>\n",
       "    <tr style=\"text-align: right;\">\n",
       "      <th></th>\n",
       "      <th>Close</th>\n",
       "      <th>Prev</th>\n",
       "      <th>Rate</th>\n",
       "    </tr>\n",
       "    <tr>\n",
       "      <th>Date</th>\n",
       "      <th></th>\n",
       "      <th></th>\n",
       "      <th></th>\n",
       "    </tr>\n",
       "  </thead>\n",
       "  <tbody>\n",
       "    <tr>\n",
       "      <th>2020-01-02</th>\n",
       "      <td>55200</td>\n",
       "      <td>0.0</td>\n",
       "      <td>inf</td>\n",
       "    </tr>\n",
       "    <tr>\n",
       "      <th>2020-01-03</th>\n",
       "      <td>55500</td>\n",
       "      <td>55200.0</td>\n",
       "      <td>0.543478</td>\n",
       "    </tr>\n",
       "    <tr>\n",
       "      <th>2020-01-06</th>\n",
       "      <td>55500</td>\n",
       "      <td>55500.0</td>\n",
       "      <td>0.000000</td>\n",
       "    </tr>\n",
       "    <tr>\n",
       "      <th>2020-01-07</th>\n",
       "      <td>55800</td>\n",
       "      <td>55500.0</td>\n",
       "      <td>0.540541</td>\n",
       "    </tr>\n",
       "    <tr>\n",
       "      <th>2020-01-08</th>\n",
       "      <td>56800</td>\n",
       "      <td>55800.0</td>\n",
       "      <td>1.792115</td>\n",
       "    </tr>\n",
       "  </tbody>\n",
       "</table>\n",
       "</div>"
      ],
      "text/plain": [
       "            Close     Prev      Rate\n",
       "Date                                \n",
       "2020-01-02  55200      0.0       inf\n",
       "2020-01-03  55500  55200.0  0.543478\n",
       "2020-01-06  55500  55500.0  0.000000\n",
       "2020-01-07  55800  55500.0  0.540541\n",
       "2020-01-08  56800  55800.0  1.792115"
      ]
     },
     "execution_count": 85,
     "metadata": {},
     "output_type": "execute_result"
    }
   ],
   "source": [
    "samsung['Rate'] = ((samsung['Close'] / samsung['Prev'])-1)*100\n",
    "samsung.head()"
   ]
  },
  {
   "cell_type": "code",
   "execution_count": 86,
   "id": "53e72b64-658f-470b-a9bf-6e4026555b1c",
   "metadata": {},
   "outputs": [
    {
     "data": {
      "text/plain": [
       "'2020-01-02'"
      ]
     },
     "execution_count": 86,
     "metadata": {},
     "output_type": "execute_result"
    }
   ],
   "source": [
    "samsung.index[0]"
   ]
  },
  {
   "cell_type": "code",
   "execution_count": 87,
   "id": "7ef1f9ed-5efd-4313-980c-5010304b7e5b",
   "metadata": {},
   "outputs": [
    {
     "data": {
      "text/html": [
       "<div>\n",
       "<style scoped>\n",
       "    .dataframe tbody tr th:only-of-type {\n",
       "        vertical-align: middle;\n",
       "    }\n",
       "\n",
       "    .dataframe tbody tr th {\n",
       "        vertical-align: top;\n",
       "    }\n",
       "\n",
       "    .dataframe thead th {\n",
       "        text-align: right;\n",
       "    }\n",
       "</style>\n",
       "<table border=\"1\" class=\"dataframe\">\n",
       "  <thead>\n",
       "    <tr style=\"text-align: right;\">\n",
       "      <th></th>\n",
       "      <th>Close</th>\n",
       "      <th>Prev</th>\n",
       "      <th>Rate</th>\n",
       "    </tr>\n",
       "    <tr>\n",
       "      <th>Date</th>\n",
       "      <th></th>\n",
       "      <th></th>\n",
       "      <th></th>\n",
       "    </tr>\n",
       "  </thead>\n",
       "  <tbody>\n",
       "    <tr>\n",
       "      <th>2020-01-03</th>\n",
       "      <td>55500</td>\n",
       "      <td>55200.0</td>\n",
       "      <td>0.543478</td>\n",
       "    </tr>\n",
       "    <tr>\n",
       "      <th>2020-01-06</th>\n",
       "      <td>55500</td>\n",
       "      <td>55500.0</td>\n",
       "      <td>0.000000</td>\n",
       "    </tr>\n",
       "    <tr>\n",
       "      <th>2020-01-07</th>\n",
       "      <td>55800</td>\n",
       "      <td>55500.0</td>\n",
       "      <td>0.540541</td>\n",
       "    </tr>\n",
       "    <tr>\n",
       "      <th>2020-01-08</th>\n",
       "      <td>56800</td>\n",
       "      <td>55800.0</td>\n",
       "      <td>1.792115</td>\n",
       "    </tr>\n",
       "    <tr>\n",
       "      <th>2020-01-09</th>\n",
       "      <td>58600</td>\n",
       "      <td>56800.0</td>\n",
       "      <td>3.169014</td>\n",
       "    </tr>\n",
       "  </tbody>\n",
       "</table>\n",
       "</div>"
      ],
      "text/plain": [
       "            Close     Prev      Rate\n",
       "Date                                \n",
       "2020-01-03  55500  55200.0  0.543478\n",
       "2020-01-06  55500  55500.0  0.000000\n",
       "2020-01-07  55800  55500.0  0.540541\n",
       "2020-01-08  56800  55800.0  1.792115\n",
       "2020-01-09  58600  56800.0  3.169014"
      ]
     },
     "execution_count": 87,
     "metadata": {},
     "output_type": "execute_result"
    }
   ],
   "source": [
    "samsung = samsung.drop(samsung.index[0], axis=0) # axis=0: 행, 기본값\n",
    "samsung.head()"
   ]
  },
  {
   "cell_type": "code",
   "execution_count": 88,
   "id": "958d764a-ce4e-4b8b-a307-003ca0e72538",
   "metadata": {
    "scrolled": true
   },
   "outputs": [
    {
     "data": {
      "text/html": [
       "<div>\n",
       "<style scoped>\n",
       "    .dataframe tbody tr th:only-of-type {\n",
       "        vertical-align: middle;\n",
       "    }\n",
       "\n",
       "    .dataframe tbody tr th {\n",
       "        vertical-align: top;\n",
       "    }\n",
       "\n",
       "    .dataframe thead th {\n",
       "        text-align: right;\n",
       "    }\n",
       "</style>\n",
       "<table border=\"1\" class=\"dataframe\">\n",
       "  <thead>\n",
       "    <tr style=\"text-align: right;\">\n",
       "      <th></th>\n",
       "      <th>Close</th>\n",
       "      <th>Prev</th>\n",
       "      <th>Rate</th>\n",
       "      <th>test</th>\n",
       "    </tr>\n",
       "    <tr>\n",
       "      <th>Date</th>\n",
       "      <th></th>\n",
       "      <th></th>\n",
       "      <th></th>\n",
       "      <th></th>\n",
       "    </tr>\n",
       "  </thead>\n",
       "  <tbody>\n",
       "    <tr>\n",
       "      <th>2020-01-03</th>\n",
       "      <td>55500</td>\n",
       "      <td>55200.0</td>\n",
       "      <td>0.543478</td>\n",
       "      <td>low</td>\n",
       "    </tr>\n",
       "    <tr>\n",
       "      <th>2020-01-06</th>\n",
       "      <td>55500</td>\n",
       "      <td>55500.0</td>\n",
       "      <td>0.000000</td>\n",
       "      <td>low</td>\n",
       "    </tr>\n",
       "    <tr>\n",
       "      <th>2020-01-07</th>\n",
       "      <td>55800</td>\n",
       "      <td>55500.0</td>\n",
       "      <td>0.540541</td>\n",
       "      <td>low</td>\n",
       "    </tr>\n",
       "    <tr>\n",
       "      <th>2020-01-08</th>\n",
       "      <td>56800</td>\n",
       "      <td>55800.0</td>\n",
       "      <td>1.792115</td>\n",
       "      <td>high</td>\n",
       "    </tr>\n",
       "    <tr>\n",
       "      <th>2020-01-09</th>\n",
       "      <td>58600</td>\n",
       "      <td>56800.0</td>\n",
       "      <td>3.169014</td>\n",
       "      <td>high</td>\n",
       "    </tr>\n",
       "  </tbody>\n",
       "</table>\n",
       "</div>"
      ],
      "text/plain": [
       "            Close     Prev      Rate  test\n",
       "Date                                      \n",
       "2020-01-03  55500  55200.0  0.543478   low\n",
       "2020-01-06  55500  55500.0  0.000000   low\n",
       "2020-01-07  55800  55500.0  0.540541   low\n",
       "2020-01-08  56800  55800.0  1.792115  high\n",
       "2020-01-09  58600  56800.0  3.169014  high"
      ]
     },
     "execution_count": 88,
     "metadata": {},
     "output_type": "execute_result"
    }
   ],
   "source": [
    "import numpy as np\n",
    "\n",
    "samsung['test'] = np.where(samsung['Rate'] > 1, 'high', 'low') # 파생 변수의 생성\n",
    "samsung.head()"
   ]
  },
  {
   "cell_type": "code",
   "execution_count": 89,
   "id": "af2e7f85-2182-48f3-a97e-02216d2c25fb",
   "metadata": {},
   "outputs": [
    {
     "data": {
      "text/html": [
       "<div>\n",
       "<style scoped>\n",
       "    .dataframe tbody tr th:only-of-type {\n",
       "        vertical-align: middle;\n",
       "    }\n",
       "\n",
       "    .dataframe tbody tr th {\n",
       "        vertical-align: top;\n",
       "    }\n",
       "\n",
       "    .dataframe thead th {\n",
       "        text-align: right;\n",
       "    }\n",
       "</style>\n",
       "<table border=\"1\" class=\"dataframe\">\n",
       "  <thead>\n",
       "    <tr style=\"text-align: right;\">\n",
       "      <th></th>\n",
       "      <th>Close</th>\n",
       "      <th>Prev</th>\n",
       "      <th>Rate</th>\n",
       "    </tr>\n",
       "    <tr>\n",
       "      <th>Date</th>\n",
       "      <th></th>\n",
       "      <th></th>\n",
       "      <th></th>\n",
       "    </tr>\n",
       "  </thead>\n",
       "  <tbody>\n",
       "    <tr>\n",
       "      <th>2020-01-03</th>\n",
       "      <td>55500</td>\n",
       "      <td>55200.0</td>\n",
       "      <td>0.543478</td>\n",
       "    </tr>\n",
       "    <tr>\n",
       "      <th>2020-01-06</th>\n",
       "      <td>55500</td>\n",
       "      <td>55500.0</td>\n",
       "      <td>0.000000</td>\n",
       "    </tr>\n",
       "    <tr>\n",
       "      <th>2020-01-07</th>\n",
       "      <td>55800</td>\n",
       "      <td>55500.0</td>\n",
       "      <td>0.540541</td>\n",
       "    </tr>\n",
       "    <tr>\n",
       "      <th>2020-01-08</th>\n",
       "      <td>56800</td>\n",
       "      <td>55800.0</td>\n",
       "      <td>1.792115</td>\n",
       "    </tr>\n",
       "    <tr>\n",
       "      <th>2020-01-09</th>\n",
       "      <td>58600</td>\n",
       "      <td>56800.0</td>\n",
       "      <td>3.169014</td>\n",
       "    </tr>\n",
       "  </tbody>\n",
       "</table>\n",
       "</div>"
      ],
      "text/plain": [
       "            Close     Prev      Rate\n",
       "Date                                \n",
       "2020-01-03  55500  55200.0  0.543478\n",
       "2020-01-06  55500  55500.0  0.000000\n",
       "2020-01-07  55800  55500.0  0.540541\n",
       "2020-01-08  56800  55800.0  1.792115\n",
       "2020-01-09  58600  56800.0  3.169014"
      ]
     },
     "execution_count": 89,
     "metadata": {},
     "output_type": "execute_result"
    }
   ],
   "source": [
    "samsung = samsung.drop('test', axis=1) # 열 삭제\n",
    "samsung.head()"
   ]
  },
  {
   "cell_type": "code",
   "execution_count": 90,
   "id": "fe38ef36-bdcc-415a-80dd-fb0efc0acbbe",
   "metadata": {},
   "outputs": [
    {
     "data": {
      "text/html": [
       "<div>\n",
       "<style scoped>\n",
       "    .dataframe tbody tr th:only-of-type {\n",
       "        vertical-align: middle;\n",
       "    }\n",
       "\n",
       "    .dataframe tbody tr th {\n",
       "        vertical-align: top;\n",
       "    }\n",
       "\n",
       "    .dataframe thead th {\n",
       "        text-align: right;\n",
       "    }\n",
       "</style>\n",
       "<table border=\"1\" class=\"dataframe\">\n",
       "  <thead>\n",
       "    <tr style=\"text-align: right;\">\n",
       "      <th></th>\n",
       "      <th>Close</th>\n",
       "      <th>Prev</th>\n",
       "      <th>Rate</th>\n",
       "    </tr>\n",
       "    <tr>\n",
       "      <th>Date</th>\n",
       "      <th></th>\n",
       "      <th></th>\n",
       "      <th></th>\n",
       "    </tr>\n",
       "  </thead>\n",
       "  <tbody>\n",
       "    <tr>\n",
       "      <th>2024-05-08</th>\n",
       "      <td>80900</td>\n",
       "      <td>81300.0</td>\n",
       "      <td>-0.492005</td>\n",
       "    </tr>\n",
       "    <tr>\n",
       "      <th>2024-05-07</th>\n",
       "      <td>81300</td>\n",
       "      <td>77600.0</td>\n",
       "      <td>4.768041</td>\n",
       "    </tr>\n",
       "    <tr>\n",
       "      <th>2024-05-03</th>\n",
       "      <td>77600</td>\n",
       "      <td>78000.0</td>\n",
       "      <td>-0.512821</td>\n",
       "    </tr>\n",
       "    <tr>\n",
       "      <th>2024-05-02</th>\n",
       "      <td>78000</td>\n",
       "      <td>77500.0</td>\n",
       "      <td>0.645161</td>\n",
       "    </tr>\n",
       "    <tr>\n",
       "      <th>2024-04-30</th>\n",
       "      <td>77500</td>\n",
       "      <td>76700.0</td>\n",
       "      <td>1.043025</td>\n",
       "    </tr>\n",
       "    <tr>\n",
       "      <th>...</th>\n",
       "      <td>...</td>\n",
       "      <td>...</td>\n",
       "      <td>...</td>\n",
       "    </tr>\n",
       "    <tr>\n",
       "      <th>2020-01-09</th>\n",
       "      <td>58600</td>\n",
       "      <td>56800.0</td>\n",
       "      <td>3.169014</td>\n",
       "    </tr>\n",
       "    <tr>\n",
       "      <th>2020-01-08</th>\n",
       "      <td>56800</td>\n",
       "      <td>55800.0</td>\n",
       "      <td>1.792115</td>\n",
       "    </tr>\n",
       "    <tr>\n",
       "      <th>2020-01-07</th>\n",
       "      <td>55800</td>\n",
       "      <td>55500.0</td>\n",
       "      <td>0.540541</td>\n",
       "    </tr>\n",
       "    <tr>\n",
       "      <th>2020-01-06</th>\n",
       "      <td>55500</td>\n",
       "      <td>55500.0</td>\n",
       "      <td>0.000000</td>\n",
       "    </tr>\n",
       "    <tr>\n",
       "      <th>2020-01-03</th>\n",
       "      <td>55500</td>\n",
       "      <td>55200.0</td>\n",
       "      <td>0.543478</td>\n",
       "    </tr>\n",
       "  </tbody>\n",
       "</table>\n",
       "<p>1072 rows × 3 columns</p>\n",
       "</div>"
      ],
      "text/plain": [
       "            Close     Prev      Rate\n",
       "Date                                \n",
       "2024-05-08  80900  81300.0 -0.492005\n",
       "2024-05-07  81300  77600.0  4.768041\n",
       "2024-05-03  77600  78000.0 -0.512821\n",
       "2024-05-02  78000  77500.0  0.645161\n",
       "2024-04-30  77500  76700.0  1.043025\n",
       "...           ...      ...       ...\n",
       "2020-01-09  58600  56800.0  3.169014\n",
       "2020-01-08  56800  55800.0  1.792115\n",
       "2020-01-07  55800  55500.0  0.540541\n",
       "2020-01-06  55500  55500.0  0.000000\n",
       "2020-01-03  55500  55200.0  0.543478\n",
       "\n",
       "[1072 rows x 3 columns]"
      ]
     },
     "execution_count": 90,
     "metadata": {},
     "output_type": "execute_result"
    }
   ],
   "source": [
    "# 수익률 정렬\n",
    "samsung.sort_index(ascending=False) # index"
   ]
  },
  {
   "cell_type": "code",
   "execution_count": 91,
   "id": "5358348f-4fe2-42f9-846e-94d16694e6ff",
   "metadata": {},
   "outputs": [
    {
     "data": {
      "text/plain": [
       "Date\n",
       "2020-03-24    10.470588\n",
       "2021-01-08     7.117008\n",
       "2023-09-01     6.128550\n",
       "2020-06-03     6.031128\n",
       "2020-03-20     5.704307\n",
       "2024-03-20     5.631868\n",
       "2020-07-28     5.395683\n",
       "2020-12-24     5.277402\n",
       "2021-11-22     5.196629\n",
       "2020-11-16     4.905063\n",
       "2020-04-17     4.897959\n",
       "2024-05-07     4.768041\n",
       "2022-09-13     4.496403\n",
       "2020-06-16     4.408818\n",
       "2022-07-15     4.347826\n",
       "2021-12-01     4.347826\n",
       "2023-04-07     4.333868\n",
       "2023-01-04     4.332130\n",
       "2020-11-23     4.327666\n",
       "2024-01-19     4.184100\n",
       "Name: Rate, dtype: float64"
      ]
     },
     "execution_count": 91,
     "metadata": {},
     "output_type": "execute_result"
    }
   ],
   "source": [
    "samsung['Rate'].sort_values(ascending=False).head(20) # Series 내림 차순"
   ]
  },
  {
   "cell_type": "code",
   "execution_count": 92,
   "id": "b291ca95-25b8-435d-9ea3-ec35a2edb401",
   "metadata": {},
   "outputs": [
    {
     "data": {
      "text/plain": [
       "Date\n",
       "2020-01-03    (0.356, 2.041]\n",
       "2020-01-06    (-1.33, 0.356]\n",
       "2020-01-07    (0.356, 2.041]\n",
       "2020-01-08    (0.356, 2.041]\n",
       "2020-01-09    (2.041, 3.727]\n",
       "                   ...      \n",
       "2024-04-30    (0.356, 2.041]\n",
       "2024-05-02    (0.356, 2.041]\n",
       "2024-05-03    (-1.33, 0.356]\n",
       "2024-05-07    (3.727, 5.413]\n",
       "2024-05-08    (-1.33, 0.356]\n",
       "Name: Rate, Length: 1072, dtype: category\n",
       "Categories (10, interval[float64, right]): [(-6.405, -4.702] < (-4.702, -3.016] < (-3.016, -1.33] < (-1.33, 0.356] ... (3.727, 5.413] < (5.413, 7.099] < (7.099, 8.785] < (8.785, 10.471]]"
      ]
     },
     "execution_count": 92,
     "metadata": {},
     "output_type": "execute_result"
    }
   ],
   "source": [
    "# 2020-01-03\t55500\t55200.0\t0.543478 \n",
    "# -> 2020-01-03    (0.356, 2.041]\n",
    "# (: 열린 구간, 0.356은 구간에 포함 안됨, ]: 닫힌 구간, 2.041은 구간에 포함됨.\n",
    "# 0.356 초과 2.041 이하의 값들의 구간\n",
    "pd.cut(samsung['Rate'], bins=10) # 10개의 그룹으로 분할"
   ]
  },
  {
   "cell_type": "code",
   "execution_count": 93,
   "id": "a26347ac-e2c2-4fab-85ae-3995b4918ca4",
   "metadata": {},
   "outputs": [
    {
     "data": {
      "text/plain": [
       "Rate\n",
       "(-1.33, 0.356]      488\n",
       "(0.356, 2.041]      311\n",
       "(-3.016, -1.33]     157\n",
       "(2.041, 3.727]       66\n",
       "(-4.702, -3.016]     22\n",
       "(3.727, 5.413]       20\n",
       "(5.413, 7.099]        4\n",
       "(-6.405, -4.702]      2\n",
       "(7.099, 8.785]        1\n",
       "(8.785, 10.471]       1\n",
       "Name: count, dtype: int64"
      ]
     },
     "execution_count": 93,
     "metadata": {},
     "output_type": "execute_result"
    }
   ],
   "source": [
    "pd.cut(samsung['Rate'], bins=10).value_counts() "
   ]
  },
  {
   "cell_type": "code",
   "execution_count": 94,
   "id": "234b44ac-9a3e-47d9-b7c9-166c29040394",
   "metadata": {},
   "outputs": [
    {
     "name": "stdout",
     "output_type": "stream",
     "text": [
      "count    1072.000000\n",
      "mean        0.048398\n",
      "std         1.602158\n",
      "min        -6.387665\n",
      "25%        -0.976418\n",
      "50%         0.000000\n",
      "75%         0.840336\n",
      "max        10.470588\n",
      "Name: Rate, dtype: float64\n"
     ]
    }
   ],
   "source": [
    "print(samsung['Rate'].describe())"
   ]
  },
  {
   "cell_type": "markdown",
   "id": "538205e8-b56a-47e0-a4d2-9ef86c8f3fc9",
   "metadata": {},
   "source": [
    "## 주가의 시각화"
   ]
  },
  {
   "cell_type": "code",
   "execution_count": 95,
   "id": "a59822cf-fc1d-4a9e-a3ce-f7a484edd0fe",
   "metadata": {},
   "outputs": [
    {
     "data": {
      "image/png": "[encoded data removed]",
      "text/plain": [
       "<Figure size 1200x400 with 1 Axes>"
      ]
     },
     "metadata": {},
     "output_type": "display_data"
    }
   ],
   "source": [
    "chart=samsung['Rate'].plot(figsize=(12,4))"
   ]
  },
  {
   "cell_type": "code",
   "execution_count": 96,
   "id": "a146fe94-7de9-4fbc-bfd9-555d256e3f0f",
   "metadata": {},
   "outputs": [
    {
     "data": {
      "image/png": "[encoded data removed]",
      "text/plain": [
       "<Figure size 1200x400 with 1 Axes>"
      ]
     },
     "metadata": {},
     "output_type": "display_data"
    }
   ],
   "source": [
    "chart=samsung['Close'].plot(figsize=(12,4)) # 매일의 주가"
   ]
  },
  {
   "cell_type": "code",
   "execution_count": 97,
   "id": "e77cf09d-27e2-41f0-becf-ea4eb229992a",
   "metadata": {},
   "outputs": [
    {
     "data": {
      "text/plain": [
       "Date\n",
       "2020-01-03        NaN\n",
       "2020-01-06        NaN\n",
       "2020-01-07        NaN\n",
       "2020-01-08        NaN\n",
       "2020-01-09    56440.0\n",
       "2020-01-10    57240.0\n",
       "2020-01-13    58140.0\n",
       "2020-01-14    58980.0\n",
       "2020-01-15    59420.0\n",
       "2020-01-16    59840.0\n",
       "Name: Close, dtype: float64"
      ]
     },
     "execution_count": 97,
     "metadata": {},
     "output_type": "execute_result"
    }
   ],
   "source": [
    "# 5일 이동 평균선을 이용한 주가 흐름, 5일치의 평균 주가\n",
    "samsung['Close'].rolling(window=5).mean().head(10)"
   ]
  },
  {
   "cell_type": "code",
   "execution_count": 98,
   "id": "78a37f5a-e13d-4b4b-abe4-02a73336e999",
   "metadata": {},
   "outputs": [
    {
     "data": {
      "image/png": "[encoded data removed]",
      "text/plain": [
       "<Figure size 1200x400 with 1 Axes>"
      ]
     },
     "metadata": {},
     "output_type": "display_data"
    }
   ],
   "source": [
    "chart=samsung['Close'].rolling(window=5).mean().plot(figsize=(12,4)) # 5일 이동 평균"
   ]
  },
  {
   "cell_type": "code",
   "execution_count": 99,
   "id": "ccc46145-8570-4b39-8092-f9ccfb92b681",
   "metadata": {},
   "outputs": [
    {
     "data": {
      "image/png": "[encoded data removed]",
      "text/plain": [
       "<Figure size 1200x400 with 1 Axes>"
      ]
     },
     "metadata": {},
     "output_type": "display_data"
    }
   ],
   "source": [
    "chart=samsung['Close'].rolling(window=20).mean().plot(figsize=(12,4)) # 5일 이동 평균"
   ]
  },
  {
   "cell_type": "code",
   "execution_count": 100,
   "id": "096b1b3f-a1df-4d98-82b4-1b53140d9eac",
   "metadata": {
    "scrolled": true
   },
   "outputs": [
    {
     "data": {
      "image/png": "[encoded data removed]",
      "text/plain": [
       "<Figure size 1200x400 with 1 Axes>"
      ]
     },
     "metadata": {},
     "output_type": "display_data"
    }
   ],
   "source": [
    "chart=samsung['Close'].rolling(window=30).mean().plot(figsize=(12,4)) # 30일 이동 평균"
   ]
  },
  {
   "cell_type": "markdown",
   "id": "c817667d-e8b0-4288-a917-5b2f4c4e201e",
   "metadata": {},
   "source": [
    "## KOSPI 지수와 삼성전자의 주가 상관성\n",
    "- 삼성 전자의 주가가 우리나라의 경제에 영향을 미치는 영향력 파악"
   ]
  },
  {
   "cell_type": "code",
   "execution_count": 101,
   "id": "029ebdb1-779e-4e10-b235-8c5bbd3290a6",
   "metadata": {},
   "outputs": [],
   "source": [
    "import FinanceDataReader as fdr"
   ]
  },
  {
   "cell_type": "code",
   "execution_count": 102,
   "id": "77b07fd4-bc17-46bd-b66a-596a0c6e720e",
   "metadata": {},
   "outputs": [
    {
     "data": {
      "text/html": [
       "<div>\n",
       "<style scoped>\n",
       "    .dataframe tbody tr th:only-of-type {\n",
       "        vertical-align: middle;\n",
       "    }\n",
       "\n",
       "    .dataframe tbody tr th {\n",
       "        vertical-align: top;\n",
       "    }\n",
       "\n",
       "    .dataframe thead th {\n",
       "        text-align: right;\n",
       "    }\n",
       "</style>\n",
       "<table border=\"1\" class=\"dataframe\">\n",
       "  <thead>\n",
       "    <tr style=\"text-align: right;\">\n",
       "      <th></th>\n",
       "      <th>Open</th>\n",
       "      <th>High</th>\n",
       "      <th>Low</th>\n",
       "      <th>Close</th>\n",
       "      <th>Volume</th>\n",
       "      <th>Change</th>\n",
       "      <th>UpDown</th>\n",
       "      <th>Comp</th>\n",
       "      <th>Amount</th>\n",
       "      <th>MarCap</th>\n",
       "    </tr>\n",
       "    <tr>\n",
       "      <th>Date</th>\n",
       "      <th></th>\n",
       "      <th></th>\n",
       "      <th></th>\n",
       "      <th></th>\n",
       "      <th></th>\n",
       "      <th></th>\n",
       "      <th></th>\n",
       "      <th></th>\n",
       "      <th></th>\n",
       "      <th></th>\n",
       "    </tr>\n",
       "  </thead>\n",
       "  <tbody>\n",
       "    <tr>\n",
       "      <th>2020-01-03</th>\n",
       "      <td>2192.58</td>\n",
       "      <td>2203.38</td>\n",
       "      <td>2165.39</td>\n",
       "      <td>2176.46</td>\n",
       "      <td>631562785</td>\n",
       "      <td>0.0006</td>\n",
       "      <td>1</td>\n",
       "      <td>1.29</td>\n",
       "      <td>5763662746548</td>\n",
       "      <td>1462298971774498</td>\n",
       "    </tr>\n",
       "    <tr>\n",
       "      <th>2020-01-06</th>\n",
       "      <td>2154.97</td>\n",
       "      <td>2164.42</td>\n",
       "      <td>2149.95</td>\n",
       "      <td>2155.07</td>\n",
       "      <td>592670719</td>\n",
       "      <td>-0.0098</td>\n",
       "      <td>2</td>\n",
       "      <td>-21.39</td>\n",
       "      <td>5156540935534</td>\n",
       "      <td>1448385085188395</td>\n",
       "    </tr>\n",
       "    <tr>\n",
       "      <th>2020-01-07</th>\n",
       "      <td>2166.60</td>\n",
       "      <td>2181.62</td>\n",
       "      <td>2164.27</td>\n",
       "      <td>2175.54</td>\n",
       "      <td>568235609</td>\n",
       "      <td>0.0095</td>\n",
       "      <td>1</td>\n",
       "      <td>20.47</td>\n",
       "      <td>5143511908278</td>\n",
       "      <td>1462298814406954</td>\n",
       "    </tr>\n",
       "    <tr>\n",
       "      <th>2020-01-08</th>\n",
       "      <td>2156.27</td>\n",
       "      <td>2162.32</td>\n",
       "      <td>2137.72</td>\n",
       "      <td>2151.31</td>\n",
       "      <td>913830628</td>\n",
       "      <td>-0.0111</td>\n",
       "      <td>2</td>\n",
       "      <td>-24.23</td>\n",
       "      <td>8750722208310</td>\n",
       "      <td>1446631314388659</td>\n",
       "    </tr>\n",
       "    <tr>\n",
       "      <th>2020-01-09</th>\n",
       "      <td>2182.20</td>\n",
       "      <td>2186.45</td>\n",
       "      <td>2172.16</td>\n",
       "      <td>2186.45</td>\n",
       "      <td>592603655</td>\n",
       "      <td>0.0163</td>\n",
       "      <td>1</td>\n",
       "      <td>35.14</td>\n",
       "      <td>7261591245997</td>\n",
       "      <td>1470805018622162</td>\n",
       "    </tr>\n",
       "    <tr>\n",
       "      <th>...</th>\n",
       "      <td>...</td>\n",
       "      <td>...</td>\n",
       "      <td>...</td>\n",
       "      <td>...</td>\n",
       "      <td>...</td>\n",
       "      <td>...</td>\n",
       "      <td>...</td>\n",
       "      <td>...</td>\n",
       "      <td>...</td>\n",
       "      <td>...</td>\n",
       "    </tr>\n",
       "    <tr>\n",
       "      <th>2024-04-30</th>\n",
       "      <td>2693.22</td>\n",
       "      <td>2710.23</td>\n",
       "      <td>2687.29</td>\n",
       "      <td>2692.06</td>\n",
       "      <td>460083516</td>\n",
       "      <td>0.0017</td>\n",
       "      <td>1</td>\n",
       "      <td>4.62</td>\n",
       "      <td>11347130197832</td>\n",
       "      <td>2193843858061216</td>\n",
       "    </tr>\n",
       "    <tr>\n",
       "      <th>2024-05-02</th>\n",
       "      <td>2679.04</td>\n",
       "      <td>2692.47</td>\n",
       "      <td>2678.84</td>\n",
       "      <td>2683.65</td>\n",
       "      <td>351087270</td>\n",
       "      <td>-0.0031</td>\n",
       "      <td>2</td>\n",
       "      <td>-8.41</td>\n",
       "      <td>9059052787751</td>\n",
       "      <td>2186876849586271</td>\n",
       "    </tr>\n",
       "    <tr>\n",
       "      <th>2024-05-03</th>\n",
       "      <td>2704.31</td>\n",
       "      <td>2705.26</td>\n",
       "      <td>2676.63</td>\n",
       "      <td>2676.63</td>\n",
       "      <td>338612027</td>\n",
       "      <td>-0.0026</td>\n",
       "      <td>2</td>\n",
       "      <td>-7.02</td>\n",
       "      <td>7850446650277</td>\n",
       "      <td>2180854242187852</td>\n",
       "    </tr>\n",
       "    <tr>\n",
       "      <th>2024-05-07</th>\n",
       "      <td>2718.17</td>\n",
       "      <td>2734.36</td>\n",
       "      <td>2716.62</td>\n",
       "      <td>2734.36</td>\n",
       "      <td>532203424</td>\n",
       "      <td>0.0216</td>\n",
       "      <td>1</td>\n",
       "      <td>57.73</td>\n",
       "      <td>11153672379482</td>\n",
       "      <td>2228259503005163</td>\n",
       "    </tr>\n",
       "    <tr>\n",
       "      <th>2024-05-08</th>\n",
       "      <td>2732.11</td>\n",
       "      <td>2745.05</td>\n",
       "      <td>2727.93</td>\n",
       "      <td>2745.05</td>\n",
       "      <td>436315210</td>\n",
       "      <td>0.0039</td>\n",
       "      <td>1</td>\n",
       "      <td>10.69</td>\n",
       "      <td>10293632989622</td>\n",
       "      <td>2243933670998562</td>\n",
       "    </tr>\n",
       "  </tbody>\n",
       "</table>\n",
       "<p>1072 rows × 10 columns</p>\n",
       "</div>"
      ],
      "text/plain": [
       "               Open     High      Low    Close     Volume  Change  UpDown  \\\n",
       "Date                                                                        \n",
       "2020-01-03  2192.58  2203.38  2165.39  2176.46  631562785  0.0006       1   \n",
       "2020-01-06  2154.97  2164.42  2149.95  2155.07  592670719 -0.0098       2   \n",
       "2020-01-07  2166.60  2181.62  2164.27  2175.54  568235609  0.0095       1   \n",
       "2020-01-08  2156.27  2162.32  2137.72  2151.31  913830628 -0.0111       2   \n",
       "2020-01-09  2182.20  2186.45  2172.16  2186.45  592603655  0.0163       1   \n",
       "...             ...      ...      ...      ...        ...     ...     ...   \n",
       "2024-04-30  2693.22  2710.23  2687.29  2692.06  460083516  0.0017       1   \n",
       "2024-05-02  2679.04  2692.47  2678.84  2683.65  351087270 -0.0031       2   \n",
       "2024-05-03  2704.31  2705.26  2676.63  2676.63  338612027 -0.0026       2   \n",
       "2024-05-07  2718.17  2734.36  2716.62  2734.36  532203424  0.0216       1   \n",
       "2024-05-08  2732.11  2745.05  2727.93  2745.05  436315210  0.0039       1   \n",
       "\n",
       "             Comp          Amount            MarCap  \n",
       "Date                                                 \n",
       "2020-01-03   1.29   5763662746548  1462298971774498  \n",
       "2020-01-06 -21.39   5156540935534  1448385085188395  \n",
       "2020-01-07  20.47   5143511908278  1462298814406954  \n",
       "2020-01-08 -24.23   8750722208310  1446631314388659  \n",
       "2020-01-09  35.14   7261591245997  1470805018622162  \n",
       "...           ...             ...               ...  \n",
       "2024-04-30   4.62  11347130197832  2193843858061216  \n",
       "2024-05-02  -8.41   9059052787751  2186876849586271  \n",
       "2024-05-03  -7.02   7850446650277  2180854242187852  \n",
       "2024-05-07  57.73  11153672379482  2228259503005163  \n",
       "2024-05-08  10.69  10293632989622  2243933670998562  \n",
       "\n",
       "[1072 rows x 10 columns]"
      ]
     },
     "execution_count": 102,
     "metadata": {},
     "output_type": "execute_result"
    }
   ],
   "source": [
    "kospi = fdr.DataReader('KOSPI', \"2020-01-03\", \"2024-05-08\") # 삼성전자의 주가와 index를 일치\n",
    "kospi"
   ]
  },
  {
   "cell_type": "code",
   "execution_count": 103,
   "id": "a117158e-12dc-4cb7-a509-3c8cb311727d",
   "metadata": {},
   "outputs": [
    {
     "data": {
      "text/plain": [
       "nan"
      ]
     },
     "execution_count": 103,
     "metadata": {},
     "output_type": "execute_result"
    }
   ],
   "source": [
    "samsung['Rate'].corr(kospi['Change']) # nan"
   ]
  },
  {
   "cell_type": "code",
   "execution_count": 104,
   "id": "40861cec-e86a-4c9d-8b04-56e1c64c36da",
   "metadata": {},
   "outputs": [
    {
     "data": {
      "text/plain": [
       "Date\n",
       "2020-01-03    0.543478\n",
       "2020-01-06    0.000000\n",
       "2020-01-07    0.540541\n",
       "2020-01-08    1.792115\n",
       "2020-01-09    3.169014\n",
       "                ...   \n",
       "2024-04-30    1.043025\n",
       "2024-05-02    0.645161\n",
       "2024-05-03   -0.512821\n",
       "2024-05-07    4.768041\n",
       "2024-05-08   -0.492005\n",
       "Name: Rate, Length: 1072, dtype: float64"
      ]
     },
     "execution_count": 104,
     "metadata": {},
     "output_type": "execute_result"
    }
   ],
   "source": [
    "samsung['Rate']"
   ]
  },
  {
   "cell_type": "code",
   "execution_count": 105,
   "id": "aacba67c-1ac3-42fd-bc27-a968178dcbdb",
   "metadata": {},
   "outputs": [
    {
     "data": {
      "text/plain": [
       "Date\n",
       "2020-01-03    0.0006\n",
       "2020-01-06   -0.0098\n",
       "2020-01-07    0.0095\n",
       "2020-01-08   -0.0111\n",
       "2020-01-09    0.0163\n",
       "               ...  \n",
       "2024-04-30    0.0017\n",
       "2024-05-02   -0.0031\n",
       "2024-05-03   -0.0026\n",
       "2024-05-07    0.0216\n",
       "2024-05-08    0.0039\n",
       "Name: Change, Length: 1072, dtype: float64"
      ]
     },
     "execution_count": 105,
     "metadata": {},
     "output_type": "execute_result"
    }
   ],
   "source": [
    "kospi['Change']"
   ]
  },
  {
   "cell_type": "code",
   "execution_count": 106,
   "id": "dd14e0d4-fea3-4bf1-a94f-fb137de05e38",
   "metadata": {},
   "outputs": [
    {
     "data": {
      "text/plain": [
       "array([[1.        , 0.79537261],\n",
       "       [0.79537261, 1.        ]])"
      ]
     },
     "execution_count": 106,
     "metadata": {},
     "output_type": "execute_result"
    }
   ],
   "source": [
    "# 2일간의 비율을 가지고 비교하는 것은 2일간의 주가가 상쇄효가가 있음으로 상관성이 적게 나올 수 있음.\n",
    "np.corrcoef(samsung['Rate'], kospi['Change']) "
   ]
  },
  {
   "cell_type": "code",
   "execution_count": 107,
   "id": "998c8c9f-eb00-49b0-ab7c-49087e22e119",
   "metadata": {},
   "outputs": [
    {
     "data": {
      "text/plain": [
       "array([[1.        , 0.90206679],\n",
       "       [0.90206679, 1.        ]])"
      ]
     },
     "execution_count": 107,
     "metadata": {},
     "output_type": "execute_result"
    }
   ],
   "source": [
    "np.corrcoef(samsung['Close'], kospi['Close']) # 1일간의 종가와 지수 비교가 더 정확"
   ]
  },
  {
   "cell_type": "markdown",
   "id": "74af6499-a3e2-43e6-8c06-8e13de9e866e",
   "metadata": {},
   "source": [
    "# DataFrame"
   ]
  },
  {
   "cell_type": "code",
   "execution_count": 108,
   "id": "c8048b9a-1194-4081-a8e9-219a149fe1ed",
   "metadata": {},
   "outputs": [],
   "source": [
    "import pandas as pd"
   ]
  },
  {
   "cell_type": "code",
   "execution_count": 111,
   "id": "12e54bdc-6cc7-4746-8358-f858b292a95e",
   "metadata": {},
   "outputs": [
    {
     "data": {
      "text/html": [
       "<div>\n",
       "<style scoped>\n",
       "    .dataframe tbody tr th:only-of-type {\n",
       "        vertical-align: middle;\n",
       "    }\n",
       "\n",
       "    .dataframe tbody tr th {\n",
       "        vertical-align: top;\n",
       "    }\n",
       "\n",
       "    .dataframe thead th {\n",
       "        text-align: right;\n",
       "    }\n",
       "</style>\n",
       "<table border=\"1\" class=\"dataframe\">\n",
       "  <thead>\n",
       "    <tr style=\"text-align: right;\">\n",
       "      <th></th>\n",
       "      <th>0</th>\n",
       "    </tr>\n",
       "  </thead>\n",
       "  <tbody>\n",
       "    <tr>\n",
       "      <th>0</th>\n",
       "      <td>1월</td>\n",
       "    </tr>\n",
       "    <tr>\n",
       "      <th>1</th>\n",
       "      <td>2월</td>\n",
       "    </tr>\n",
       "    <tr>\n",
       "      <th>2</th>\n",
       "      <td>3월</td>\n",
       "    </tr>\n",
       "  </tbody>\n",
       "</table>\n",
       "</div>"
      ],
      "text/plain": [
       "    0\n",
       "0  1월\n",
       "1  2월\n",
       "2  3월"
      ]
     },
     "execution_count": 111,
     "metadata": {},
     "output_type": "execute_result"
    }
   ],
   "source": [
    "df = pd.DataFrame(['1월', '2월', '3월'])\n",
    "df"
   ]
  },
  {
   "cell_type": "code",
   "execution_count": 119,
   "id": "71087ad8-32fd-4d38-b600-811727d63e59",
   "metadata": {},
   "outputs": [
    {
     "data": {
      "text/html": [
       "<div>\n",
       "<style scoped>\n",
       "    .dataframe tbody tr th:only-of-type {\n",
       "        vertical-align: middle;\n",
       "    }\n",
       "\n",
       "    .dataframe tbody tr th {\n",
       "        vertical-align: top;\n",
       "    }\n",
       "\n",
       "    .dataframe thead th {\n",
       "        text-align: right;\n",
       "    }\n",
       "</style>\n",
       "<table border=\"1\" class=\"dataframe\">\n",
       "  <thead>\n",
       "    <tr style=\"text-align: right;\">\n",
       "      <th></th>\n",
       "      <th>month</th>\n",
       "    </tr>\n",
       "  </thead>\n",
       "  <tbody>\n",
       "    <tr>\n",
       "      <th>jan</th>\n",
       "      <td>1월</td>\n",
       "    </tr>\n",
       "    <tr>\n",
       "      <th>feb</th>\n",
       "      <td>2월</td>\n",
       "    </tr>\n",
       "    <tr>\n",
       "      <th>mar</th>\n",
       "      <td>3월</td>\n",
       "    </tr>\n",
       "  </tbody>\n",
       "</table>\n",
       "</div>"
      ],
      "text/plain": [
       "    month\n",
       "jan    1월\n",
       "feb    2월\n",
       "mar    3월"
      ]
     },
     "execution_count": 119,
     "metadata": {},
     "output_type": "execute_result"
    }
   ],
   "source": [
    "df = pd.DataFrame(['1월', '2월', '3월'], index=['jan', 'feb', 'mar'], columns=['month'])\n",
    "df"
   ]
  },
  {
   "cell_type": "code",
   "execution_count": 123,
   "id": "60e95665-20c3-41f0-98d9-24fad1ad4b47",
   "metadata": {},
   "outputs": [
    {
     "data": {
      "text/html": [
       "<div>\n",
       "<style scoped>\n",
       "    .dataframe tbody tr th:only-of-type {\n",
       "        vertical-align: middle;\n",
       "    }\n",
       "\n",
       "    .dataframe tbody tr th {\n",
       "        vertical-align: top;\n",
       "    }\n",
       "\n",
       "    .dataframe thead th {\n",
       "        text-align: right;\n",
       "    }\n",
       "</style>\n",
       "<table border=\"1\" class=\"dataframe\">\n",
       "  <thead>\n",
       "    <tr style=\"text-align: right;\">\n",
       "      <th></th>\n",
       "      <th>month</th>\n",
       "    </tr>\n",
       "  </thead>\n",
       "  <tbody>\n",
       "    <tr>\n",
       "      <th>jan</th>\n",
       "      <td>1월</td>\n",
       "    </tr>\n",
       "    <tr>\n",
       "      <th>feb</th>\n",
       "      <td>2월</td>\n",
       "    </tr>\n",
       "    <tr>\n",
       "      <th>mar</th>\n",
       "      <td>3월</td>\n",
       "    </tr>\n",
       "  </tbody>\n",
       "</table>\n",
       "</div>"
      ],
      "text/plain": [
       "    month\n",
       "jan    1월\n",
       "feb    2월\n",
       "mar    3월"
      ]
     },
     "execution_count": 123,
     "metadata": {},
     "output_type": "execute_result"
    }
   ],
   "source": [
    "df = pd.DataFrame(['1월', '2월', '3월'])\n",
    "df.index = ['jan', 'feb', 'mar']\n",
    "df.columns = ['month']\n",
    "df"
   ]
  },
  {
   "cell_type": "code",
   "execution_count": 125,
   "id": "5790f508-0774-4743-b8bb-53bc1ef8087b",
   "metadata": {},
   "outputs": [
    {
     "data": {
      "text/html": [
       "<div>\n",
       "<style scoped>\n",
       "    .dataframe tbody tr th:only-of-type {\n",
       "        vertical-align: middle;\n",
       "    }\n",
       "\n",
       "    .dataframe tbody tr th {\n",
       "        vertical-align: top;\n",
       "    }\n",
       "\n",
       "    .dataframe thead th {\n",
       "        text-align: right;\n",
       "    }\n",
       "</style>\n",
       "<table border=\"1\" class=\"dataframe\">\n",
       "  <thead>\n",
       "    <tr style=\"text-align: right;\">\n",
       "      <th></th>\n",
       "      <th>0</th>\n",
       "      <th>1</th>\n",
       "      <th>2</th>\n",
       "    </tr>\n",
       "  </thead>\n",
       "  <tbody>\n",
       "    <tr>\n",
       "      <th>0</th>\n",
       "      <td>1월</td>\n",
       "      <td>2월</td>\n",
       "      <td>3월</td>\n",
       "    </tr>\n",
       "    <tr>\n",
       "      <th>1</th>\n",
       "      <td>1000</td>\n",
       "      <td>2000</td>\n",
       "      <td>3000</td>\n",
       "    </tr>\n",
       "  </tbody>\n",
       "</table>\n",
       "</div>"
      ],
      "text/plain": [
       "      0     1     2\n",
       "0    1월    2월    3월\n",
       "1  1000  2000  3000"
      ]
     },
     "execution_count": 125,
     "metadata": {},
     "output_type": "execute_result"
    }
   ],
   "source": [
    "df = pd.DataFrame([['1월', '2월', '3월'], [1000, 2000, 3000]])\n",
    "df"
   ]
  },
  {
   "cell_type": "code",
   "execution_count": 127,
   "id": "0c3fa233-4b6e-45e0-8519-4ccc5ca0890e",
   "metadata": {},
   "outputs": [
    {
     "data": {
      "text/html": [
       "<div>\n",
       "<style scoped>\n",
       "    .dataframe tbody tr th:only-of-type {\n",
       "        vertical-align: middle;\n",
       "    }\n",
       "\n",
       "    .dataframe tbody tr th {\n",
       "        vertical-align: top;\n",
       "    }\n",
       "\n",
       "    .dataframe thead th {\n",
       "        text-align: right;\n",
       "    }\n",
       "</style>\n",
       "<table border=\"1\" class=\"dataframe\">\n",
       "  <thead>\n",
       "    <tr style=\"text-align: right;\">\n",
       "      <th></th>\n",
       "      <th>month</th>\n",
       "      <th>sales</th>\n",
       "    </tr>\n",
       "  </thead>\n",
       "  <tbody>\n",
       "    <tr>\n",
       "      <th>0</th>\n",
       "      <td>1월</td>\n",
       "      <td>1000</td>\n",
       "    </tr>\n",
       "    <tr>\n",
       "      <th>1</th>\n",
       "      <td>2월</td>\n",
       "      <td>2000</td>\n",
       "    </tr>\n",
       "    <tr>\n",
       "      <th>2</th>\n",
       "      <td>3월</td>\n",
       "      <td>3000</td>\n",
       "    </tr>\n",
       "  </tbody>\n",
       "</table>\n",
       "</div>"
      ],
      "text/plain": [
       "  month  sales\n",
       "0    1월   1000\n",
       "1    2월   2000\n",
       "2    3월   3000"
      ]
     },
     "execution_count": 127,
     "metadata": {},
     "output_type": "execute_result"
    }
   ],
   "source": [
    "data = {'month' : ['1월', '2월', '3월'], 'sales': [1000, 2000, 3000]}\n",
    "df = pd.DataFrame(data)\n",
    "df"
   ]
  },
  {
   "cell_type": "code",
   "execution_count": 129,
   "id": "2bf28ac1-0b2f-4616-9d6f-4fce22a29eaf",
   "metadata": {},
   "outputs": [
    {
     "data": {
      "text/plain": [
       "array([['1월', 1000],\n",
       "       ['2월', 2000],\n",
       "       ['3월', 3000]], dtype=object)"
      ]
     },
     "execution_count": 129,
     "metadata": {},
     "output_type": "execute_result"
    }
   ],
   "source": [
    "df.to_numpy()"
   ]
  },
  {
   "cell_type": "code",
   "execution_count": 130,
   "id": "dca91927-82cf-4e35-a577-7442c19270a7",
   "metadata": {},
   "outputs": [
    {
     "data": {
      "text/html": [
       "<div>\n",
       "<style scoped>\n",
       "    .dataframe tbody tr th:only-of-type {\n",
       "        vertical-align: middle;\n",
       "    }\n",
       "\n",
       "    .dataframe tbody tr th {\n",
       "        vertical-align: top;\n",
       "    }\n",
       "\n",
       "    .dataframe thead th {\n",
       "        text-align: right;\n",
       "    }\n",
       "</style>\n",
       "<table border=\"1\" class=\"dataframe\">\n",
       "  <thead>\n",
       "    <tr style=\"text-align: right;\">\n",
       "      <th></th>\n",
       "      <th>Open</th>\n",
       "      <th>High</th>\n",
       "      <th>Low</th>\n",
       "      <th>Close</th>\n",
       "      <th>Volume</th>\n",
       "      <th>Change</th>\n",
       "    </tr>\n",
       "    <tr>\n",
       "      <th>Date</th>\n",
       "      <th></th>\n",
       "      <th></th>\n",
       "      <th></th>\n",
       "      <th></th>\n",
       "      <th></th>\n",
       "      <th></th>\n",
       "    </tr>\n",
       "  </thead>\n",
       "  <tbody>\n",
       "    <tr>\n",
       "      <th>2020-01-02</th>\n",
       "      <td>55500</td>\n",
       "      <td>56000</td>\n",
       "      <td>55000</td>\n",
       "      <td>55200</td>\n",
       "      <td>12993228</td>\n",
       "      <td>-0.010753</td>\n",
       "    </tr>\n",
       "    <tr>\n",
       "      <th>2020-01-03</th>\n",
       "      <td>56000</td>\n",
       "      <td>56600</td>\n",
       "      <td>54900</td>\n",
       "      <td>55500</td>\n",
       "      <td>15422255</td>\n",
       "      <td>0.005435</td>\n",
       "    </tr>\n",
       "    <tr>\n",
       "      <th>2020-01-06</th>\n",
       "      <td>54900</td>\n",
       "      <td>55600</td>\n",
       "      <td>54600</td>\n",
       "      <td>55500</td>\n",
       "      <td>10278951</td>\n",
       "      <td>0.000000</td>\n",
       "    </tr>\n",
       "    <tr>\n",
       "      <th>2020-01-07</th>\n",
       "      <td>55700</td>\n",
       "      <td>56400</td>\n",
       "      <td>55600</td>\n",
       "      <td>55800</td>\n",
       "      <td>10009778</td>\n",
       "      <td>0.005405</td>\n",
       "    </tr>\n",
       "    <tr>\n",
       "      <th>2020-01-08</th>\n",
       "      <td>56200</td>\n",
       "      <td>57400</td>\n",
       "      <td>55900</td>\n",
       "      <td>56800</td>\n",
       "      <td>23501171</td>\n",
       "      <td>0.017921</td>\n",
       "    </tr>\n",
       "    <tr>\n",
       "      <th>...</th>\n",
       "      <td>...</td>\n",
       "      <td>...</td>\n",
       "      <td>...</td>\n",
       "      <td>...</td>\n",
       "      <td>...</td>\n",
       "      <td>...</td>\n",
       "    </tr>\n",
       "    <tr>\n",
       "      <th>2024-04-30</th>\n",
       "      <td>77000</td>\n",
       "      <td>78500</td>\n",
       "      <td>76600</td>\n",
       "      <td>77500</td>\n",
       "      <td>19007007</td>\n",
       "      <td>0.010430</td>\n",
       "    </tr>\n",
       "    <tr>\n",
       "      <th>2024-05-02</th>\n",
       "      <td>77600</td>\n",
       "      <td>78600</td>\n",
       "      <td>77300</td>\n",
       "      <td>78000</td>\n",
       "      <td>18900640</td>\n",
       "      <td>0.006452</td>\n",
       "    </tr>\n",
       "    <tr>\n",
       "      <th>2024-05-03</th>\n",
       "      <td>79000</td>\n",
       "      <td>79000</td>\n",
       "      <td>77500</td>\n",
       "      <td>77600</td>\n",
       "      <td>13151889</td>\n",
       "      <td>-0.005128</td>\n",
       "    </tr>\n",
       "    <tr>\n",
       "      <th>2024-05-07</th>\n",
       "      <td>79600</td>\n",
       "      <td>81300</td>\n",
       "      <td>79400</td>\n",
       "      <td>81300</td>\n",
       "      <td>26238868</td>\n",
       "      <td>0.047680</td>\n",
       "    </tr>\n",
       "    <tr>\n",
       "      <th>2024-05-08</th>\n",
       "      <td>80800</td>\n",
       "      <td>81200</td>\n",
       "      <td>80500</td>\n",
       "      <td>80900</td>\n",
       "      <td>6669168</td>\n",
       "      <td>-0.004920</td>\n",
       "    </tr>\n",
       "  </tbody>\n",
       "</table>\n",
       "<p>1073 rows × 6 columns</p>\n",
       "</div>"
      ],
      "text/plain": [
       "             Open   High    Low  Close    Volume    Change\n",
       "Date                                                      \n",
       "2020-01-02  55500  56000  55000  55200  12993228 -0.010753\n",
       "2020-01-03  56000  56600  54900  55500  15422255  0.005435\n",
       "2020-01-06  54900  55600  54600  55500  10278951  0.000000\n",
       "2020-01-07  55700  56400  55600  55800  10009778  0.005405\n",
       "2020-01-08  56200  57400  55900  56800  23501171  0.017921\n",
       "...           ...    ...    ...    ...       ...       ...\n",
       "2024-04-30  77000  78500  76600  77500  19007007  0.010430\n",
       "2024-05-02  77600  78600  77300  78000  18900640  0.006452\n",
       "2024-05-03  79000  79000  77500  77600  13151889 -0.005128\n",
       "2024-05-07  79600  81300  79400  81300  26238868  0.047680\n",
       "2024-05-08  80800  81200  80500  80900   6669168 -0.004920\n",
       "\n",
       "[1073 rows x 6 columns]"
      ]
     },
     "execution_count": 130,
     "metadata": {},
     "output_type": "execute_result"
    }
   ],
   "source": [
    "df = pd.read_csv('./data/samsung.csv', index_col=0, header=0) # 2020 ~ 2024-05-08\n",
    "df"
   ]
  },
  {
   "cell_type": "code",
   "execution_count": 131,
   "id": "8fae86ce-ff2a-4241-8427-2024c87da114",
   "metadata": {},
   "outputs": [
    {
     "data": {
      "text/plain": [
       "Date\n",
       "2020-01-02    55500\n",
       "2020-01-03    56000\n",
       "2020-01-06    54900\n",
       "2020-01-07    55700\n",
       "2020-01-08    56200\n",
       "              ...  \n",
       "2024-04-30    77000\n",
       "2024-05-02    77600\n",
       "2024-05-03    79000\n",
       "2024-05-07    79600\n",
       "2024-05-08    80800\n",
       "Name: Open, Length: 1073, dtype: int64"
      ]
     },
     "execution_count": 131,
     "metadata": {},
     "output_type": "execute_result"
    }
   ],
   "source": [
    "df['Open']"
   ]
  },
  {
   "cell_type": "code",
   "execution_count": 132,
   "id": "b666cbc6-0b25-4ed9-a2a0-95be6b630351",
   "metadata": {},
   "outputs": [
    {
     "data": {
      "text/html": [
       "<div>\n",
       "<style scoped>\n",
       "    .dataframe tbody tr th:only-of-type {\n",
       "        vertical-align: middle;\n",
       "    }\n",
       "\n",
       "    .dataframe tbody tr th {\n",
       "        vertical-align: top;\n",
       "    }\n",
       "\n",
       "    .dataframe thead th {\n",
       "        text-align: right;\n",
       "    }\n",
       "</style>\n",
       "<table border=\"1\" class=\"dataframe\">\n",
       "  <thead>\n",
       "    <tr style=\"text-align: right;\">\n",
       "      <th></th>\n",
       "      <th>Open</th>\n",
       "      <th>Close</th>\n",
       "    </tr>\n",
       "    <tr>\n",
       "      <th>Date</th>\n",
       "      <th></th>\n",
       "      <th></th>\n",
       "    </tr>\n",
       "  </thead>\n",
       "  <tbody>\n",
       "    <tr>\n",
       "      <th>2020-01-02</th>\n",
       "      <td>55500</td>\n",
       "      <td>55200</td>\n",
       "    </tr>\n",
       "    <tr>\n",
       "      <th>2020-01-03</th>\n",
       "      <td>56000</td>\n",
       "      <td>55500</td>\n",
       "    </tr>\n",
       "    <tr>\n",
       "      <th>2020-01-06</th>\n",
       "      <td>54900</td>\n",
       "      <td>55500</td>\n",
       "    </tr>\n",
       "  </tbody>\n",
       "</table>\n",
       "</div>"
      ],
      "text/plain": [
       "             Open  Close\n",
       "Date                    \n",
       "2020-01-02  55500  55200\n",
       "2020-01-03  56000  55500\n",
       "2020-01-06  54900  55500"
      ]
     },
     "execution_count": 132,
     "metadata": {},
     "output_type": "execute_result"
    }
   ],
   "source": [
    "df[['Open', 'Close']].head(3) # DataFrame"
   ]
  },
  {
   "cell_type": "code",
   "execution_count": 134,
   "id": "8f46ec69-d1f8-479f-a698-6b0eee3645be",
   "metadata": {},
   "outputs": [
    {
     "data": {
      "text/plain": [
       "Open         54900.0\n",
       "High         55600.0\n",
       "Low          54600.0\n",
       "Close        55500.0\n",
       "Volume    10278951.0\n",
       "Change           0.0\n",
       "Name: 2020-01-06, dtype: float64"
      ]
     },
     "execution_count": 134,
     "metadata": {},
     "output_type": "execute_result"
    }
   ],
   "source": [
    "df.loc['2020-01-02']"
   ]
  },
  {
   "cell_type": "code",
   "execution_count": 137,
   "id": "121d2745-d6ad-4026-b2bb-aa50ee05ad13",
   "metadata": {},
   "outputs": [
    {
     "data": {
      "text/html": [
       "<div>\n",
       "<style scoped>\n",
       "    .dataframe tbody tr th:only-of-type {\n",
       "        vertical-align: middle;\n",
       "    }\n",
       "\n",
       "    .dataframe tbody tr th {\n",
       "        vertical-align: top;\n",
       "    }\n",
       "\n",
       "    .dataframe thead th {\n",
       "        text-align: right;\n",
       "    }\n",
       "</style>\n",
       "<table border=\"1\" class=\"dataframe\">\n",
       "  <thead>\n",
       "    <tr style=\"text-align: right;\">\n",
       "      <th></th>\n",
       "      <th>Open</th>\n",
       "      <th>High</th>\n",
       "      <th>Low</th>\n",
       "      <th>Close</th>\n",
       "      <th>Volume</th>\n",
       "      <th>Change</th>\n",
       "    </tr>\n",
       "    <tr>\n",
       "      <th>Date</th>\n",
       "      <th></th>\n",
       "      <th></th>\n",
       "      <th></th>\n",
       "      <th></th>\n",
       "      <th></th>\n",
       "      <th></th>\n",
       "    </tr>\n",
       "  </thead>\n",
       "  <tbody>\n",
       "    <tr>\n",
       "      <th>2020-01-02</th>\n",
       "      <td>55500</td>\n",
       "      <td>56000</td>\n",
       "      <td>55000</td>\n",
       "      <td>55200</td>\n",
       "      <td>12993228</td>\n",
       "      <td>-0.010753</td>\n",
       "    </tr>\n",
       "    <tr>\n",
       "      <th>2020-01-03</th>\n",
       "      <td>56000</td>\n",
       "      <td>56600</td>\n",
       "      <td>54900</td>\n",
       "      <td>55500</td>\n",
       "      <td>15422255</td>\n",
       "      <td>0.005435</td>\n",
       "    </tr>\n",
       "    <tr>\n",
       "      <th>2020-01-06</th>\n",
       "      <td>54900</td>\n",
       "      <td>55600</td>\n",
       "      <td>54600</td>\n",
       "      <td>55500</td>\n",
       "      <td>10278951</td>\n",
       "      <td>0.000000</td>\n",
       "    </tr>\n",
       "  </tbody>\n",
       "</table>\n",
       "</div>"
      ],
      "text/plain": [
       "             Open   High    Low  Close    Volume    Change\n",
       "Date                                                      \n",
       "2020-01-02  55500  56000  55000  55200  12993228 -0.010753\n",
       "2020-01-03  56000  56600  54900  55500  15422255  0.005435\n",
       "2020-01-06  54900  55600  54600  55500  10278951  0.000000"
      ]
     },
     "execution_count": 137,
     "metadata": {},
     "output_type": "execute_result"
    }
   ],
   "source": [
    "df.loc[['2020-01-02', '2020-01-03', '2020-01-06']]"
   ]
  },
  {
   "cell_type": "code",
   "execution_count": 139,
   "id": "e4e8c549-2826-47a5-844f-ccee6a03862c",
   "metadata": {},
   "outputs": [
    {
     "data": {
      "text/html": [
       "<div>\n",
       "<style scoped>\n",
       "    .dataframe tbody tr th:only-of-type {\n",
       "        vertical-align: middle;\n",
       "    }\n",
       "\n",
       "    .dataframe tbody tr th {\n",
       "        vertical-align: top;\n",
       "    }\n",
       "\n",
       "    .dataframe thead th {\n",
       "        text-align: right;\n",
       "    }\n",
       "</style>\n",
       "<table border=\"1\" class=\"dataframe\">\n",
       "  <thead>\n",
       "    <tr style=\"text-align: right;\">\n",
       "      <th></th>\n",
       "      <th>Open</th>\n",
       "      <th>High</th>\n",
       "      <th>Low</th>\n",
       "      <th>Close</th>\n",
       "      <th>Volume</th>\n",
       "      <th>Change</th>\n",
       "    </tr>\n",
       "    <tr>\n",
       "      <th>Date</th>\n",
       "      <th></th>\n",
       "      <th></th>\n",
       "      <th></th>\n",
       "      <th></th>\n",
       "      <th></th>\n",
       "      <th></th>\n",
       "    </tr>\n",
       "  </thead>\n",
       "  <tbody>\n",
       "    <tr>\n",
       "      <th>2020-01-02</th>\n",
       "      <td>55500</td>\n",
       "      <td>56000</td>\n",
       "      <td>55000</td>\n",
       "      <td>55200</td>\n",
       "      <td>12993228</td>\n",
       "      <td>-0.010753</td>\n",
       "    </tr>\n",
       "    <tr>\n",
       "      <th>2020-01-03</th>\n",
       "      <td>56000</td>\n",
       "      <td>56600</td>\n",
       "      <td>54900</td>\n",
       "      <td>55500</td>\n",
       "      <td>15422255</td>\n",
       "      <td>0.005435</td>\n",
       "    </tr>\n",
       "    <tr>\n",
       "      <th>2020-01-06</th>\n",
       "      <td>54900</td>\n",
       "      <td>55600</td>\n",
       "      <td>54600</td>\n",
       "      <td>55500</td>\n",
       "      <td>10278951</td>\n",
       "      <td>0.000000</td>\n",
       "    </tr>\n",
       "  </tbody>\n",
       "</table>\n",
       "</div>"
      ],
      "text/plain": [
       "             Open   High    Low  Close    Volume    Change\n",
       "Date                                                      \n",
       "2020-01-02  55500  56000  55000  55200  12993228 -0.010753\n",
       "2020-01-03  56000  56600  54900  55500  15422255  0.005435\n",
       "2020-01-06  54900  55600  54600  55500  10278951  0.000000"
      ]
     },
     "execution_count": 139,
     "metadata": {},
     "output_type": "execute_result"
    }
   ],
   "source": [
    "df.iloc[[0, 1, 2]] # 행 고유 인덱스, 언어의 배열 문법"
   ]
  },
  {
   "cell_type": "code",
   "execution_count": 141,
   "id": "a3323af3-26f2-4ce9-87a0-dbd572e72b1e",
   "metadata": {},
   "outputs": [
    {
     "data": {
      "text/html": [
       "<div>\n",
       "<style scoped>\n",
       "    .dataframe tbody tr th:only-of-type {\n",
       "        vertical-align: middle;\n",
       "    }\n",
       "\n",
       "    .dataframe tbody tr th {\n",
       "        vertical-align: top;\n",
       "    }\n",
       "\n",
       "    .dataframe thead th {\n",
       "        text-align: right;\n",
       "    }\n",
       "</style>\n",
       "<table border=\"1\" class=\"dataframe\">\n",
       "  <thead>\n",
       "    <tr style=\"text-align: right;\">\n",
       "      <th></th>\n",
       "      <th>Open</th>\n",
       "      <th>High</th>\n",
       "      <th>Low</th>\n",
       "      <th>Close</th>\n",
       "      <th>Volume</th>\n",
       "      <th>Change</th>\n",
       "    </tr>\n",
       "    <tr>\n",
       "      <th>Date</th>\n",
       "      <th></th>\n",
       "      <th></th>\n",
       "      <th></th>\n",
       "      <th></th>\n",
       "      <th></th>\n",
       "      <th></th>\n",
       "    </tr>\n",
       "  </thead>\n",
       "  <tbody>\n",
       "    <tr>\n",
       "      <th>2020-01-02</th>\n",
       "      <td>55500</td>\n",
       "      <td>56000</td>\n",
       "      <td>55000</td>\n",
       "      <td>55200</td>\n",
       "      <td>12993228</td>\n",
       "      <td>-0.010753</td>\n",
       "    </tr>\n",
       "    <tr>\n",
       "      <th>2020-01-03</th>\n",
       "      <td>56000</td>\n",
       "      <td>56600</td>\n",
       "      <td>54900</td>\n",
       "      <td>55500</td>\n",
       "      <td>15422255</td>\n",
       "      <td>0.005435</td>\n",
       "    </tr>\n",
       "    <tr>\n",
       "      <th>2020-01-06</th>\n",
       "      <td>54900</td>\n",
       "      <td>55600</td>\n",
       "      <td>54600</td>\n",
       "      <td>55500</td>\n",
       "      <td>10278951</td>\n",
       "      <td>0.000000</td>\n",
       "    </tr>\n",
       "  </tbody>\n",
       "</table>\n",
       "</div>"
      ],
      "text/plain": [
       "             Open   High    Low  Close    Volume    Change\n",
       "Date                                                      \n",
       "2020-01-02  55500  56000  55000  55200  12993228 -0.010753\n",
       "2020-01-03  56000  56600  54900  55500  15422255  0.005435\n",
       "2020-01-06  54900  55600  54600  55500  10278951  0.000000"
      ]
     },
     "execution_count": 141,
     "metadata": {},
     "output_type": "execute_result"
    }
   ],
   "source": [
    "df.loc['2020-01-02':'2020-01-06']"
   ]
  },
  {
   "cell_type": "code",
   "execution_count": 144,
   "id": "f6abf0cd-10f9-4eba-b33c-5c68fcca8a21",
   "metadata": {},
   "outputs": [
    {
     "data": {
      "text/html": [
       "<div>\n",
       "<style scoped>\n",
       "    .dataframe tbody tr th:only-of-type {\n",
       "        vertical-align: middle;\n",
       "    }\n",
       "\n",
       "    .dataframe tbody tr th {\n",
       "        vertical-align: top;\n",
       "    }\n",
       "\n",
       "    .dataframe thead th {\n",
       "        text-align: right;\n",
       "    }\n",
       "</style>\n",
       "<table border=\"1\" class=\"dataframe\">\n",
       "  <thead>\n",
       "    <tr style=\"text-align: right;\">\n",
       "      <th></th>\n",
       "      <th>Open</th>\n",
       "      <th>High</th>\n",
       "      <th>Low</th>\n",
       "      <th>Close</th>\n",
       "    </tr>\n",
       "    <tr>\n",
       "      <th>Date</th>\n",
       "      <th></th>\n",
       "      <th></th>\n",
       "      <th></th>\n",
       "      <th></th>\n",
       "    </tr>\n",
       "  </thead>\n",
       "  <tbody>\n",
       "    <tr>\n",
       "      <th>2020-01-02</th>\n",
       "      <td>55500</td>\n",
       "      <td>56000</td>\n",
       "      <td>55000</td>\n",
       "      <td>55200</td>\n",
       "    </tr>\n",
       "    <tr>\n",
       "      <th>2020-01-03</th>\n",
       "      <td>56000</td>\n",
       "      <td>56600</td>\n",
       "      <td>54900</td>\n",
       "      <td>55500</td>\n",
       "    </tr>\n",
       "    <tr>\n",
       "      <th>2020-01-06</th>\n",
       "      <td>54900</td>\n",
       "      <td>55600</td>\n",
       "      <td>54600</td>\n",
       "      <td>55500</td>\n",
       "    </tr>\n",
       "  </tbody>\n",
       "</table>\n",
       "</div>"
      ],
      "text/plain": [
       "             Open   High    Low  Close\n",
       "Date                                  \n",
       "2020-01-02  55500  56000  55000  55200\n",
       "2020-01-03  56000  56600  54900  55500\n",
       "2020-01-06  54900  55600  54600  55500"
      ]
     },
     "execution_count": 144,
     "metadata": {},
     "output_type": "execute_result"
    }
   ],
   "source": [
    "df[df.columns[0:4]].head(3)"
   ]
  },
  {
   "cell_type": "markdown",
   "id": "1addb2ec-8c8a-4aac-8c53-c08b9febac82",
   "metadata": {},
   "source": [
    "## 자신이 관심 있는 기업 주가 수집(삼성, NVIDIA, TSLA, SK하이닉스(000660))"
   ]
  },
  {
   "cell_type": "code",
   "execution_count": 148,
   "id": "2e169349-9ac8-43d0-8ae8-eef5230c1e7b",
   "metadata": {},
   "outputs": [],
   "source": [
    "import FinanceDataReader as fdr\n",
    "# KRX : KRX 종목 전체\n",
    "# KOSPI : KOSPI 종목\n",
    "# KOSDAQ : KOSDAQ 종목\n",
    "# KONEX : KONEX 종목\n",
    "# NASDAQ : 나스닥 종목\n",
    "# NYSE : 뉴욕증권거래소 종목\n",
    "# SP500 : S&P500 종목"
   ]
  },
  {
   "cell_type": "code",
   "execution_count": 160,
   "id": "133b0685-d644-4f2c-a17c-08e38a85ca93",
   "metadata": {},
   "outputs": [],
   "source": [
    "df_krx = fdr.StockListing(\"KRX\") # 상장 업체 목록"
   ]
  },
  {
   "cell_type": "code",
   "execution_count": 193,
   "id": "c8bec988-24fa-4bf8-88a1-ef84c3a81da7",
   "metadata": {},
   "outputs": [],
   "source": [
    "# 주어진 회사 이름과 정확히 일치하는 종목 코드 찾기\n",
    "# company = \"삼성전자\"  # 여기서 \"회사이름\"을 실제 회사 이름으로 변경하세요.\n",
    "# code = df_krx[df_krx['Name'] == company]\n",
    "# print(code)"
   ]
  },
  {
   "cell_type": "markdown",
   "id": "8e700cea-fcbb-4123-ba1a-7ccdb8f3b9f2",
   "metadata": {},
   "source": [
    "## 한국 주식 수집 함수"
   ]
  },
  {
   "cell_type": "code",
   "execution_count": 186,
   "id": "10638852-bd29-402b-8f6c-5a04dae81e44",
   "metadata": {},
   "outputs": [
    {
     "data": {
      "text/plain": [
       "'005930'"
      ]
     },
     "execution_count": 186,
     "metadata": {},
     "output_type": "execute_result"
    }
   ],
   "source": [
    "df_krx = fdr.StockListing(\"KRX\") # 상장 업체 목록\n",
    "def get_code_krx(company):\n",
    "    df_krx = fdr.StockListing(\"KRX\") # 상장 업체 목록\n",
    "    code = df_krx[df_krx['Name'].str.lower() == company.lower()]['Code'][0]\n",
    "\n",
    "    return code\n",
    "\n",
    "get_code_krx('삼성전자')"
   ]
  },
  {
   "cell_type": "markdown",
   "id": "f22e2a32-091e-4496-87fb-82fbaba124b7",
   "metadata": {},
   "source": [
    "## 국내 주식 거래 정보 수집"
   ]
  },
  {
   "cell_type": "code",
   "execution_count": 210,
   "id": "9d85fcfc-d891-472b-a76b-3d8c50f3f014",
   "metadata": {},
   "outputs": [
    {
     "data": {
      "text/html": [
       "<div>\n",
       "<style scoped>\n",
       "    .dataframe tbody tr th:only-of-type {\n",
       "        vertical-align: middle;\n",
       "    }\n",
       "\n",
       "    .dataframe tbody tr th {\n",
       "        vertical-align: top;\n",
       "    }\n",
       "\n",
       "    .dataframe thead th {\n",
       "        text-align: right;\n",
       "    }\n",
       "</style>\n",
       "<table border=\"1\" class=\"dataframe\">\n",
       "  <thead>\n",
       "    <tr style=\"text-align: right;\">\n",
       "      <th></th>\n",
       "      <th>Open</th>\n",
       "      <th>High</th>\n",
       "      <th>Low</th>\n",
       "      <th>Close</th>\n",
       "      <th>Volume</th>\n",
       "      <th>Change</th>\n",
       "    </tr>\n",
       "    <tr>\n",
       "      <th>Date</th>\n",
       "      <th></th>\n",
       "      <th></th>\n",
       "      <th></th>\n",
       "      <th></th>\n",
       "      <th></th>\n",
       "      <th></th>\n",
       "    </tr>\n",
       "  </thead>\n",
       "  <tbody>\n",
       "    <tr>\n",
       "      <th>2015-01-02</th>\n",
       "      <td>26799</td>\n",
       "      <td>26799</td>\n",
       "      <td>26540</td>\n",
       "      <td>26600</td>\n",
       "      <td>175499</td>\n",
       "      <td>0.002261</td>\n",
       "    </tr>\n",
       "    <tr>\n",
       "      <th>2015-01-05</th>\n",
       "      <td>26720</td>\n",
       "      <td>26720</td>\n",
       "      <td>26260</td>\n",
       "      <td>26660</td>\n",
       "      <td>202790</td>\n",
       "      <td>0.002256</td>\n",
       "    </tr>\n",
       "    <tr>\n",
       "      <th>2015-01-06</th>\n",
       "      <td>26300</td>\n",
       "      <td>26340</td>\n",
       "      <td>25760</td>\n",
       "      <td>25900</td>\n",
       "      <td>304710</td>\n",
       "      <td>-0.028507</td>\n",
       "    </tr>\n",
       "    <tr>\n",
       "      <th>2015-01-07</th>\n",
       "      <td>25880</td>\n",
       "      <td>26220</td>\n",
       "      <td>25640</td>\n",
       "      <td>26140</td>\n",
       "      <td>286455</td>\n",
       "      <td>0.009266</td>\n",
       "    </tr>\n",
       "    <tr>\n",
       "      <th>2015-01-08</th>\n",
       "      <td>26780</td>\n",
       "      <td>26780</td>\n",
       "      <td>26199</td>\n",
       "      <td>26280</td>\n",
       "      <td>289552</td>\n",
       "      <td>0.005356</td>\n",
       "    </tr>\n",
       "  </tbody>\n",
       "</table>\n",
       "</div>"
      ],
      "text/plain": [
       "             Open   High    Low  Close  Volume    Change\n",
       "Date                                                    \n",
       "2015-01-02  26799  26799  26540  26600  175499  0.002261\n",
       "2015-01-05  26720  26720  26260  26660  202790  0.002256\n",
       "2015-01-06  26300  26340  25760  25900  304710 -0.028507\n",
       "2015-01-07  25880  26220  25640  26140  286455  0.009266\n",
       "2015-01-08  26780  26780  26199  26280  289552  0.005356"
      ]
     },
     "execution_count": 210,
     "metadata": {},
     "output_type": "execute_result"
    }
   ],
   "source": [
    "def get_list_krx(company, start, end):\n",
    "    code = get_code_krx(company) # 기업 코드\n",
    "    df = fdr.DataReader(code, start, end)\n",
    "\n",
    "    return df\n",
    "\n",
    "get_list_krx('삼성전자', '2015-01-01', '2024-05-14').head(5)"
   ]
  },
  {
   "cell_type": "markdown",
   "id": "fb2633b8-d6f7-4c8f-a401-3e80dc970521",
   "metadata": {},
   "source": [
    "## 해외 주식 수집 함수"
   ]
  },
  {
   "cell_type": "code",
   "execution_count": 205,
   "id": "2027c3d7-a1bb-4191-b166-cf97cedf4448",
   "metadata": {},
   "outputs": [
    {
     "name": "stderr",
     "output_type": "stream",
     "text": [
      "100%|████████████████████████████████████████████████████████████████████████████| 3780/3780 [00:02<00:00, 1501.44it/s]\n"
     ]
    },
    {
     "name": "stdout",
     "output_type": "stream",
     "text": [
      "  Symbol         Name IndustryCode Industry\n",
      "2   NVDA  NVIDIA Corp     57101010      반도체\n",
      "<class 'pandas.core.series.Series'>\n",
      "<class 'str'>\n",
      "NVDA\n"
     ]
    }
   ],
   "source": [
    "df_nasdaq = fdr.StockListing(\"NASDAQ\") # 상장 업체 목록\n",
    "print(df_nasdaq[df_nasdaq['Name'].str.contains('NVIDIA', case=False)])\n",
    "print(type(df_nasdaq[df_nasdaq['Name'].str.contains('NVIDIA', case=False)]['Symbol']))\n",
    "# print(type(df_nasdaq[df_nasdaq['Name'].str.contains('NVIDIA', case=False)]['Symbol'][0])) # index 2, X\n",
    "print(type(df_nasdaq[df_nasdaq['Name'].str.contains('NVIDIA', case=False)]['Symbol'].iloc[0])) # array index\n",
    "print(df_nasdaq[df_nasdaq['Name'].str.contains('NVIDIA', case=False)]['Symbol'].iloc[0])"
   ]
  },
  {
   "cell_type": "code",
   "execution_count": 196,
   "id": "3b284f2c-5d7c-4777-884b-620929cc6ce8",
   "metadata": {},
   "outputs": [
    {
     "name": "stderr",
     "output_type": "stream",
     "text": [
      "100%|████████████████████████████████████████████████████████████████████████████| 3780/3780 [00:03<00:00, 1210.35it/s]\n"
     ]
    },
    {
     "data": {
      "text/plain": [
       "'NVDA'"
      ]
     },
     "execution_count": 196,
     "metadata": {},
     "output_type": "execute_result"
    }
   ],
   "source": [
    "def get_symbol_nasdaq(company):\n",
    "    df_nasdaq = fdr.StockListing(\"NASDAQ\") # 상장 업체 목록\n",
    "    symbol = df_nasdaq[df_nasdaq['Name'].str.contains(company, case=False)]['Symbol'].iloc[0]\n",
    "\n",
    "    return symbol\n",
    "\n",
    "get_symbol_nasdaq('NVIDIA')"
   ]
  },
  {
   "cell_type": "markdown",
   "id": "52662a2f-fad6-4a6d-8453-a6181a371945",
   "metadata": {},
   "source": [
    "## 해외 주식 거래 정보 수집"
   ]
  },
  {
   "cell_type": "code",
   "execution_count": 275,
   "id": "6f022ff2-2827-4290-aec9-0e197cbf0e1d",
   "metadata": {},
   "outputs": [
    {
     "name": "stderr",
     "output_type": "stream",
     "text": [
      "100%|████████████████████████████████████████████████████████████████████████████| 3780/3780 [00:03<00:00, 1175.77it/s]\n"
     ]
    },
    {
     "data": {
      "text/html": [
       "<div>\n",
       "<style scoped>\n",
       "    .dataframe tbody tr th:only-of-type {\n",
       "        vertical-align: middle;\n",
       "    }\n",
       "\n",
       "    .dataframe tbody tr th {\n",
       "        vertical-align: top;\n",
       "    }\n",
       "\n",
       "    .dataframe thead th {\n",
       "        text-align: right;\n",
       "    }\n",
       "</style>\n",
       "<table border=\"1\" class=\"dataframe\">\n",
       "  <thead>\n",
       "    <tr style=\"text-align: right;\">\n",
       "      <th></th>\n",
       "      <th>Open</th>\n",
       "      <th>High</th>\n",
       "      <th>Low</th>\n",
       "      <th>Close</th>\n",
       "      <th>Adj Close</th>\n",
       "      <th>Volume</th>\n",
       "    </tr>\n",
       "    <tr>\n",
       "      <th>Date</th>\n",
       "      <th></th>\n",
       "      <th></th>\n",
       "      <th></th>\n",
       "      <th></th>\n",
       "      <th></th>\n",
       "      <th></th>\n",
       "    </tr>\n",
       "  </thead>\n",
       "  <tbody>\n",
       "    <tr>\n",
       "      <th>2015-01-02</th>\n",
       "      <td>6844</td>\n",
       "      <td>6895</td>\n",
       "      <td>6735</td>\n",
       "      <td>6844</td>\n",
       "      <td>6572</td>\n",
       "      <td>11368000</td>\n",
       "    </tr>\n",
       "    <tr>\n",
       "      <th>2015-01-05</th>\n",
       "      <td>6844</td>\n",
       "      <td>6864</td>\n",
       "      <td>6698</td>\n",
       "      <td>6728</td>\n",
       "      <td>6461</td>\n",
       "      <td>19795200</td>\n",
       "    </tr>\n",
       "    <tr>\n",
       "      <th>2015-01-06</th>\n",
       "      <td>6738</td>\n",
       "      <td>6745</td>\n",
       "      <td>6517</td>\n",
       "      <td>6524</td>\n",
       "      <td>6265</td>\n",
       "      <td>19776400</td>\n",
       "    </tr>\n",
       "  </tbody>\n",
       "</table>\n",
       "</div>"
      ],
      "text/plain": [
       "            Open  High   Low  Close  Adj Close    Volume\n",
       "Date                                                    \n",
       "2015-01-02  6844  6895  6735   6844       6572  11368000\n",
       "2015-01-05  6844  6864  6698   6728       6461  19795200\n",
       "2015-01-06  6738  6745  6517   6524       6265  19776400"
      ]
     },
     "execution_count": 275,
     "metadata": {},
     "output_type": "execute_result"
    }
   ],
   "source": [
    "def get_list_nasdaq(company, start, end):  # 예시: 'AAPL', '2020-01-01', '2024-05-14'\n",
    "    code = get_symbol_nasdaq(company)  # 기업 코드\n",
    "    df = fdr.DataReader(code, start, end)\n",
    "    exchange_rate = 1360  # 환율 적용 1$ = 1360\n",
    "\n",
    "    # 각 컬럼에 환율 적용 후 정수형으로 변환\n",
    "    df['Open'] = (df['Open'] * exchange_rate).astype(int)\n",
    "    df['High'] = (df['High'] * exchange_rate).astype(int)\n",
    "    df['Low'] = (df['Low'] * exchange_rate).astype(int)\n",
    "    df['Close'] = (df['Close'] * exchange_rate).astype(int)\n",
    "    df['Adj Close'] = (df['Adj Close'] * exchange_rate).astype(int)\n",
    "\n",
    "    return df\n",
    "\n",
    "get_list_nasdaq('NVIDIA', '2015-01-01', '2024-05-14').head(3)"
   ]
  },
  {
   "cell_type": "markdown",
   "id": "d14e47b0-5562-49ab-87a4-cc988a68a30e",
   "metadata": {},
   "source": [
    "## index(날짜)를 이용한 거래 날짜 통일\n",
    "- 국내와 해외 휴장일이 다름"
   ]
  },
  {
   "cell_type": "code",
   "execution_count": 276,
   "id": "e0323a17-f94c-46e4-a013-75620b94a799",
   "metadata": {},
   "outputs": [
    {
     "data": {
      "text/html": [
       "<div>\n",
       "<style scoped>\n",
       "    .dataframe tbody tr th:only-of-type {\n",
       "        vertical-align: middle;\n",
       "    }\n",
       "\n",
       "    .dataframe tbody tr th {\n",
       "        vertical-align: top;\n",
       "    }\n",
       "\n",
       "    .dataframe thead th {\n",
       "        text-align: right;\n",
       "    }\n",
       "</style>\n",
       "<table border=\"1\" class=\"dataframe\">\n",
       "  <thead>\n",
       "    <tr style=\"text-align: right;\">\n",
       "      <th></th>\n",
       "      <th>Open</th>\n",
       "      <th>High</th>\n",
       "      <th>Low</th>\n",
       "      <th>Close</th>\n",
       "      <th>Volume</th>\n",
       "      <th>Change</th>\n",
       "    </tr>\n",
       "    <tr>\n",
       "      <th>Date</th>\n",
       "      <th></th>\n",
       "      <th></th>\n",
       "      <th></th>\n",
       "      <th></th>\n",
       "      <th></th>\n",
       "      <th></th>\n",
       "    </tr>\n",
       "  </thead>\n",
       "  <tbody>\n",
       "    <tr>\n",
       "      <th>2024-05-10</th>\n",
       "      <td>80400</td>\n",
       "      <td>81100</td>\n",
       "      <td>78900</td>\n",
       "      <td>79200</td>\n",
       "      <td>16976124</td>\n",
       "      <td>-0.006274</td>\n",
       "    </tr>\n",
       "    <tr>\n",
       "      <th>2024-05-13</th>\n",
       "      <td>79400</td>\n",
       "      <td>79900</td>\n",
       "      <td>77600</td>\n",
       "      <td>78400</td>\n",
       "      <td>18652344</td>\n",
       "      <td>-0.010101</td>\n",
       "    </tr>\n",
       "    <tr>\n",
       "      <th>2024-05-14</th>\n",
       "      <td>78600</td>\n",
       "      <td>78800</td>\n",
       "      <td>77900</td>\n",
       "      <td>78100</td>\n",
       "      <td>8135942</td>\n",
       "      <td>-0.003827</td>\n",
       "    </tr>\n",
       "  </tbody>\n",
       "</table>\n",
       "</div>"
      ],
      "text/plain": [
       "             Open   High    Low  Close    Volume    Change\n",
       "Date                                                      \n",
       "2024-05-10  80400  81100  78900  79200  16976124 -0.006274\n",
       "2024-05-13  79400  79900  77600  78400  18652344 -0.010101\n",
       "2024-05-14  78600  78800  77900  78100   8135942 -0.003827"
      ]
     },
     "metadata": {},
     "output_type": "display_data"
    },
    {
     "name": "stderr",
     "output_type": "stream",
     "text": [
      "100%|████████████████████████████████████████████████████████████████████████████| 3780/3780 [00:03<00:00, 1232.20it/s]\n"
     ]
    },
    {
     "data": {
      "text/html": [
       "<div>\n",
       "<style scoped>\n",
       "    .dataframe tbody tr th:only-of-type {\n",
       "        vertical-align: middle;\n",
       "    }\n",
       "\n",
       "    .dataframe tbody tr th {\n",
       "        vertical-align: top;\n",
       "    }\n",
       "\n",
       "    .dataframe thead th {\n",
       "        text-align: right;\n",
       "    }\n",
       "</style>\n",
       "<table border=\"1\" class=\"dataframe\">\n",
       "  <thead>\n",
       "    <tr style=\"text-align: right;\">\n",
       "      <th></th>\n",
       "      <th>Open</th>\n",
       "      <th>High</th>\n",
       "      <th>Low</th>\n",
       "      <th>Close</th>\n",
       "      <th>Adj Close</th>\n",
       "      <th>Volume</th>\n",
       "    </tr>\n",
       "    <tr>\n",
       "      <th>Date</th>\n",
       "      <th></th>\n",
       "      <th></th>\n",
       "      <th></th>\n",
       "      <th></th>\n",
       "      <th></th>\n",
       "      <th></th>\n",
       "    </tr>\n",
       "  </thead>\n",
       "  <tbody>\n",
       "    <tr>\n",
       "      <th>2024-05-09</th>\n",
       "      <td>1231194</td>\n",
       "      <td>1238579</td>\n",
       "      <td>1199941</td>\n",
       "      <td>1206959</td>\n",
       "      <td>1206959</td>\n",
       "      <td>37801300</td>\n",
       "    </tr>\n",
       "    <tr>\n",
       "      <th>2024-05-10</th>\n",
       "      <td>1228147</td>\n",
       "      <td>1243053</td>\n",
       "      <td>1213487</td>\n",
       "      <td>1222340</td>\n",
       "      <td>1222340</td>\n",
       "      <td>33532500</td>\n",
       "    </tr>\n",
       "    <tr>\n",
       "      <th>2024-05-13</th>\n",
       "      <td>1230500</td>\n",
       "      <td>1237572</td>\n",
       "      <td>1203994</td>\n",
       "      <td>1229426</td>\n",
       "      <td>1229426</td>\n",
       "      <td>28879300</td>\n",
       "    </tr>\n",
       "  </tbody>\n",
       "</table>\n",
       "</div>"
      ],
      "text/plain": [
       "               Open     High      Low    Close  Adj Close    Volume\n",
       "Date                                                               \n",
       "2024-05-09  1231194  1238579  1199941  1206959    1206959  37801300\n",
       "2024-05-10  1228147  1243053  1213487  1222340    1222340  33532500\n",
       "2024-05-13  1230500  1237572  1203994  1229426    1229426  28879300"
      ]
     },
     "metadata": {},
     "output_type": "display_data"
    }
   ],
   "source": [
    "samsung = get_list_krx('삼성전자', '2015-01-01', '2024-05-14')\n",
    "display(samsung.tail(3))\n",
    "nvda = get_list_nasdaq('NVIDIA', '2015-01-01', '2024-05-14')\n",
    "display(nvda.tail(3))"
   ]
  },
  {
   "cell_type": "code",
   "execution_count": 277,
   "id": "0ec09cee-a9f6-495a-94a4-ce2d71946d92",
   "metadata": {},
   "outputs": [
    {
     "name": "stdout",
     "output_type": "stream",
     "text": [
      "(2304, 6)\n",
      "(2356, 6)\n"
     ]
    }
   ],
   "source": [
    "print(samsung.shape)\n",
    "print(nvda.shape)"
   ]
  },
  {
   "cell_type": "code",
   "execution_count": 278,
   "id": "e8828e27-2eb0-4564-b7e8-a4e2224f02be",
   "metadata": {},
   "outputs": [
    {
     "data": {
      "text/html": [
       "<div>\n",
       "<style scoped>\n",
       "    .dataframe tbody tr th:only-of-type {\n",
       "        vertical-align: middle;\n",
       "    }\n",
       "\n",
       "    .dataframe tbody tr th {\n",
       "        vertical-align: top;\n",
       "    }\n",
       "\n",
       "    .dataframe thead th {\n",
       "        text-align: right;\n",
       "    }\n",
       "</style>\n",
       "<table border=\"1\" class=\"dataframe\">\n",
       "  <thead>\n",
       "    <tr style=\"text-align: right;\">\n",
       "      <th></th>\n",
       "      <th>Close</th>\n",
       "    </tr>\n",
       "    <tr>\n",
       "      <th>Date</th>\n",
       "      <th></th>\n",
       "    </tr>\n",
       "  </thead>\n",
       "  <tbody>\n",
       "    <tr>\n",
       "      <th>2015-01-02</th>\n",
       "      <td>26600</td>\n",
       "    </tr>\n",
       "    <tr>\n",
       "      <th>2015-01-05</th>\n",
       "      <td>26660</td>\n",
       "    </tr>\n",
       "    <tr>\n",
       "      <th>2015-01-06</th>\n",
       "      <td>25900</td>\n",
       "    </tr>\n",
       "  </tbody>\n",
       "</table>\n",
       "</div>"
      ],
      "text/plain": [
       "            Close\n",
       "Date             \n",
       "2015-01-02  26600\n",
       "2015-01-05  26660\n",
       "2015-01-06  25900"
      ]
     },
     "execution_count": 278,
     "metadata": {},
     "output_type": "execute_result"
    }
   ],
   "source": [
    "samsung = samsung[['Close']]\n",
    "samsung.head(3)"
   ]
  },
  {
   "cell_type": "code",
   "execution_count": 279,
   "id": "a4371817-1bde-4fd6-899d-908c3d69df17",
   "metadata": {},
   "outputs": [
    {
     "data": {
      "text/html": [
       "<div>\n",
       "<style scoped>\n",
       "    .dataframe tbody tr th:only-of-type {\n",
       "        vertical-align: middle;\n",
       "    }\n",
       "\n",
       "    .dataframe tbody tr th {\n",
       "        vertical-align: top;\n",
       "    }\n",
       "\n",
       "    .dataframe thead th {\n",
       "        text-align: right;\n",
       "    }\n",
       "</style>\n",
       "<table border=\"1\" class=\"dataframe\">\n",
       "  <thead>\n",
       "    <tr style=\"text-align: right;\">\n",
       "      <th></th>\n",
       "      <th>Close</th>\n",
       "    </tr>\n",
       "    <tr>\n",
       "      <th>Date</th>\n",
       "      <th></th>\n",
       "    </tr>\n",
       "  </thead>\n",
       "  <tbody>\n",
       "    <tr>\n",
       "      <th>2015-01-02</th>\n",
       "      <td>6844</td>\n",
       "    </tr>\n",
       "    <tr>\n",
       "      <th>2015-01-05</th>\n",
       "      <td>6728</td>\n",
       "    </tr>\n",
       "    <tr>\n",
       "      <th>2015-01-06</th>\n",
       "      <td>6524</td>\n",
       "    </tr>\n",
       "  </tbody>\n",
       "</table>\n",
       "</div>"
      ],
      "text/plain": [
       "            Close\n",
       "Date             \n",
       "2015-01-02   6844\n",
       "2015-01-05   6728\n",
       "2015-01-06   6524"
      ]
     },
     "execution_count": 279,
     "metadata": {},
     "output_type": "execute_result"
    }
   ],
   "source": [
    "nvda = nvda[['Close']]\n",
    "nvda.head(3)"
   ]
  },
  {
   "cell_type": "code",
   "execution_count": 280,
   "id": "4d30ad01-5d34-4a16-9d2e-c1ac4afc951d",
   "metadata": {},
   "outputs": [
    {
     "data": {
      "text/html": [
       "<div>\n",
       "<style scoped>\n",
       "    .dataframe tbody tr th:only-of-type {\n",
       "        vertical-align: middle;\n",
       "    }\n",
       "\n",
       "    .dataframe tbody tr th {\n",
       "        vertical-align: top;\n",
       "    }\n",
       "\n",
       "    .dataframe thead th {\n",
       "        text-align: right;\n",
       "    }\n",
       "</style>\n",
       "<table border=\"1\" class=\"dataframe\">\n",
       "  <thead>\n",
       "    <tr style=\"text-align: right;\">\n",
       "      <th></th>\n",
       "      <th>Samsung</th>\n",
       "    </tr>\n",
       "    <tr>\n",
       "      <th>Date</th>\n",
       "      <th></th>\n",
       "    </tr>\n",
       "  </thead>\n",
       "  <tbody>\n",
       "    <tr>\n",
       "      <th>2015-01-02</th>\n",
       "      <td>26600</td>\n",
       "    </tr>\n",
       "    <tr>\n",
       "      <th>2015-01-05</th>\n",
       "      <td>26660</td>\n",
       "    </tr>\n",
       "    <tr>\n",
       "      <th>2015-01-06</th>\n",
       "      <td>25900</td>\n",
       "    </tr>\n",
       "  </tbody>\n",
       "</table>\n",
       "</div>"
      ],
      "text/plain": [
       "            Samsung\n",
       "Date               \n",
       "2015-01-02    26600\n",
       "2015-01-05    26660\n",
       "2015-01-06    25900"
      ]
     },
     "metadata": {},
     "output_type": "display_data"
    },
    {
     "data": {
      "text/html": [
       "<div>\n",
       "<style scoped>\n",
       "    .dataframe tbody tr th:only-of-type {\n",
       "        vertical-align: middle;\n",
       "    }\n",
       "\n",
       "    .dataframe tbody tr th {\n",
       "        vertical-align: top;\n",
       "    }\n",
       "\n",
       "    .dataframe thead th {\n",
       "        text-align: right;\n",
       "    }\n",
       "</style>\n",
       "<table border=\"1\" class=\"dataframe\">\n",
       "  <thead>\n",
       "    <tr style=\"text-align: right;\">\n",
       "      <th></th>\n",
       "      <th>NVIDIA</th>\n",
       "    </tr>\n",
       "    <tr>\n",
       "      <th>Date</th>\n",
       "      <th></th>\n",
       "    </tr>\n",
       "  </thead>\n",
       "  <tbody>\n",
       "    <tr>\n",
       "      <th>2015-01-02</th>\n",
       "      <td>6844</td>\n",
       "    </tr>\n",
       "    <tr>\n",
       "      <th>2015-01-05</th>\n",
       "      <td>6728</td>\n",
       "    </tr>\n",
       "    <tr>\n",
       "      <th>2015-01-06</th>\n",
       "      <td>6524</td>\n",
       "    </tr>\n",
       "  </tbody>\n",
       "</table>\n",
       "</div>"
      ],
      "text/plain": [
       "            NVIDIA\n",
       "Date              \n",
       "2015-01-02    6844\n",
       "2015-01-05    6728\n",
       "2015-01-06    6524"
      ]
     },
     "metadata": {},
     "output_type": "display_data"
    }
   ],
   "source": [
    "samsung.columns = ['Samsung']\n",
    "display(samsung.head(3))\n",
    "nvda.columns = ['NVIDIA']\n",
    "display(nvda.head(3))"
   ]
  },
  {
   "cell_type": "code",
   "execution_count": 281,
   "id": "a44a3905-a532-482f-aa68-d2ad7150496d",
   "metadata": {},
   "outputs": [
    {
     "data": {
      "text/plain": [
       "(2231, 2)"
      ]
     },
     "execution_count": 281,
     "metadata": {},
     "output_type": "execute_result"
    }
   ],
   "source": [
    "# 같은 날짜 기준으로 join\n",
    "df = samsung.join(nvda, how='inner')\n",
    "df.shape"
   ]
  },
  {
   "cell_type": "code",
   "execution_count": 282,
   "id": "231acbcd-4735-4dda-a06b-780b77f55621",
   "metadata": {},
   "outputs": [
    {
     "data": {
      "text/html": [
       "<div>\n",
       "<style scoped>\n",
       "    .dataframe tbody tr th:only-of-type {\n",
       "        vertical-align: middle;\n",
       "    }\n",
       "\n",
       "    .dataframe tbody tr th {\n",
       "        vertical-align: top;\n",
       "    }\n",
       "\n",
       "    .dataframe thead th {\n",
       "        text-align: right;\n",
       "    }\n",
       "</style>\n",
       "<table border=\"1\" class=\"dataframe\">\n",
       "  <thead>\n",
       "    <tr style=\"text-align: right;\">\n",
       "      <th></th>\n",
       "      <th>Samsung</th>\n",
       "      <th>NVIDIA</th>\n",
       "    </tr>\n",
       "    <tr>\n",
       "      <th>Date</th>\n",
       "      <th></th>\n",
       "      <th></th>\n",
       "    </tr>\n",
       "  </thead>\n",
       "  <tbody>\n",
       "    <tr>\n",
       "      <th>2015-01-02</th>\n",
       "      <td>26600</td>\n",
       "      <td>6844</td>\n",
       "    </tr>\n",
       "    <tr>\n",
       "      <th>2015-01-05</th>\n",
       "      <td>26660</td>\n",
       "      <td>6728</td>\n",
       "    </tr>\n",
       "    <tr>\n",
       "      <th>2015-01-06</th>\n",
       "      <td>25900</td>\n",
       "      <td>6524</td>\n",
       "    </tr>\n",
       "    <tr>\n",
       "      <th>2015-01-07</th>\n",
       "      <td>26140</td>\n",
       "      <td>6507</td>\n",
       "    </tr>\n",
       "    <tr>\n",
       "      <th>2015-01-08</th>\n",
       "      <td>26280</td>\n",
       "      <td>6752</td>\n",
       "    </tr>\n",
       "  </tbody>\n",
       "</table>\n",
       "</div>"
      ],
      "text/plain": [
       "            Samsung  NVIDIA\n",
       "Date                       \n",
       "2015-01-02    26600    6844\n",
       "2015-01-05    26660    6728\n",
       "2015-01-06    25900    6524\n",
       "2015-01-07    26140    6507\n",
       "2015-01-08    26280    6752"
      ]
     },
     "execution_count": 282,
     "metadata": {},
     "output_type": "execute_result"
    }
   ],
   "source": [
    "df.head() # 한국에만 있는 "
   ]
  },
  {
   "cell_type": "markdown",
   "id": "e1771056-d6c9-4152-b90c-5332771a245e",
   "metadata": {},
   "source": [
    "## 변동률(등락률) 계산"
   ]
  },
  {
   "cell_type": "code",
   "execution_count": 283,
   "id": "65bc3aa7-769c-418e-b534-e04da64dc876",
   "metadata": {},
   "outputs": [
    {
     "data": {
      "text/html": [
       "<div>\n",
       "<style scoped>\n",
       "    .dataframe tbody tr th:only-of-type {\n",
       "        vertical-align: middle;\n",
       "    }\n",
       "\n",
       "    .dataframe tbody tr th {\n",
       "        vertical-align: top;\n",
       "    }\n",
       "\n",
       "    .dataframe thead th {\n",
       "        text-align: right;\n",
       "    }\n",
       "</style>\n",
       "<table border=\"1\" class=\"dataframe\">\n",
       "  <thead>\n",
       "    <tr style=\"text-align: right;\">\n",
       "      <th></th>\n",
       "      <th>Samsung</th>\n",
       "      <th>NVIDIA</th>\n",
       "    </tr>\n",
       "    <tr>\n",
       "      <th>Date</th>\n",
       "      <th></th>\n",
       "      <th></th>\n",
       "    </tr>\n",
       "  </thead>\n",
       "  <tbody>\n",
       "    <tr>\n",
       "      <th>2015-01-02</th>\n",
       "      <td>26600</td>\n",
       "      <td>6844</td>\n",
       "    </tr>\n",
       "    <tr>\n",
       "      <th>2015-01-05</th>\n",
       "      <td>26660</td>\n",
       "      <td>6728</td>\n",
       "    </tr>\n",
       "    <tr>\n",
       "      <th>2015-01-06</th>\n",
       "      <td>25900</td>\n",
       "      <td>6524</td>\n",
       "    </tr>\n",
       "  </tbody>\n",
       "</table>\n",
       "</div>"
      ],
      "text/plain": [
       "            Samsung  NVIDIA\n",
       "Date                       \n",
       "2015-01-02    26600    6844\n",
       "2015-01-05    26660    6728\n",
       "2015-01-06    25900    6524"
      ]
     },
     "execution_count": 283,
     "metadata": {},
     "output_type": "execute_result"
    }
   ],
   "source": [
    "df_test = df.copy() # deep copy\n",
    "df_test.head(3)"
   ]
  },
  {
   "cell_type": "code",
   "execution_count": 284,
   "id": "3e87e321-621f-4b10-97d4-c56aeae00de8",
   "metadata": {},
   "outputs": [
    {
     "data": {
      "text/html": [
       "<div>\n",
       "<style scoped>\n",
       "    .dataframe tbody tr th:only-of-type {\n",
       "        vertical-align: middle;\n",
       "    }\n",
       "\n",
       "    .dataframe tbody tr th {\n",
       "        vertical-align: top;\n",
       "    }\n",
       "\n",
       "    .dataframe thead th {\n",
       "        text-align: right;\n",
       "    }\n",
       "</style>\n",
       "<table border=\"1\" class=\"dataframe\">\n",
       "  <thead>\n",
       "    <tr style=\"text-align: right;\">\n",
       "      <th></th>\n",
       "      <th>Samsung</th>\n",
       "      <th>NVIDIA</th>\n",
       "      <th>Samsung_change</th>\n",
       "      <th>NVIDIA_change</th>\n",
       "    </tr>\n",
       "    <tr>\n",
       "      <th>Date</th>\n",
       "      <th></th>\n",
       "      <th></th>\n",
       "      <th></th>\n",
       "      <th></th>\n",
       "    </tr>\n",
       "  </thead>\n",
       "  <tbody>\n",
       "    <tr>\n",
       "      <th>2015-01-02</th>\n",
       "      <td>26600</td>\n",
       "      <td>6844</td>\n",
       "      <td>NaN</td>\n",
       "      <td>NaN</td>\n",
       "    </tr>\n",
       "    <tr>\n",
       "      <th>2015-01-05</th>\n",
       "      <td>26660</td>\n",
       "      <td>6728</td>\n",
       "      <td>0.002256</td>\n",
       "      <td>-0.016949</td>\n",
       "    </tr>\n",
       "    <tr>\n",
       "      <th>2015-01-06</th>\n",
       "      <td>25900</td>\n",
       "      <td>6524</td>\n",
       "      <td>-0.028507</td>\n",
       "      <td>-0.030321</td>\n",
       "    </tr>\n",
       "  </tbody>\n",
       "</table>\n",
       "</div>"
      ],
      "text/plain": [
       "            Samsung  NVIDIA  Samsung_change  NVIDIA_change\n",
       "Date                                                      \n",
       "2015-01-02    26600    6844             NaN            NaN\n",
       "2015-01-05    26660    6728        0.002256      -0.016949\n",
       "2015-01-06    25900    6524       -0.028507      -0.030321"
      ]
     },
     "execution_count": 284,
     "metadata": {},
     "output_type": "execute_result"
    }
   ],
   "source": [
    "df_test['Samsung_change'] = df_test['Samsung'].pct_change()\n",
    "df_test['NVIDIA_change'] = df_test['NVIDIA'].pct_change()\n",
    "df_test.head(3)"
   ]
  },
  {
   "cell_type": "code",
   "execution_count": 285,
   "id": "cf23d04f-3ce4-4c49-bf25-6e5b03f95753",
   "metadata": {},
   "outputs": [
    {
     "data": {
      "text/html": [
       "<div>\n",
       "<style scoped>\n",
       "    .dataframe tbody tr th:only-of-type {\n",
       "        vertical-align: middle;\n",
       "    }\n",
       "\n",
       "    .dataframe tbody tr th {\n",
       "        vertical-align: top;\n",
       "    }\n",
       "\n",
       "    .dataframe thead th {\n",
       "        text-align: right;\n",
       "    }\n",
       "</style>\n",
       "<table border=\"1\" class=\"dataframe\">\n",
       "  <thead>\n",
       "    <tr style=\"text-align: right;\">\n",
       "      <th></th>\n",
       "      <th>Samsung</th>\n",
       "      <th>NVIDIA</th>\n",
       "      <th>Samsung_change</th>\n",
       "      <th>NVIDIA_change</th>\n",
       "    </tr>\n",
       "    <tr>\n",
       "      <th>Date</th>\n",
       "      <th></th>\n",
       "      <th></th>\n",
       "      <th></th>\n",
       "      <th></th>\n",
       "    </tr>\n",
       "  </thead>\n",
       "  <tbody>\n",
       "    <tr>\n",
       "      <th>2015-01-02</th>\n",
       "      <td>26600</td>\n",
       "      <td>6844</td>\n",
       "      <td>0.000000</td>\n",
       "      <td>0.000000</td>\n",
       "    </tr>\n",
       "    <tr>\n",
       "      <th>2015-01-05</th>\n",
       "      <td>26660</td>\n",
       "      <td>6728</td>\n",
       "      <td>0.002256</td>\n",
       "      <td>-0.016949</td>\n",
       "    </tr>\n",
       "    <tr>\n",
       "      <th>2015-01-06</th>\n",
       "      <td>25900</td>\n",
       "      <td>6524</td>\n",
       "      <td>-0.028507</td>\n",
       "      <td>-0.030321</td>\n",
       "    </tr>\n",
       "  </tbody>\n",
       "</table>\n",
       "</div>"
      ],
      "text/plain": [
       "            Samsung  NVIDIA  Samsung_change  NVIDIA_change\n",
       "Date                                                      \n",
       "2015-01-02    26600    6844        0.000000       0.000000\n",
       "2015-01-05    26660    6728        0.002256      -0.016949\n",
       "2015-01-06    25900    6524       -0.028507      -0.030321"
      ]
     },
     "execution_count": 285,
     "metadata": {},
     "output_type": "execute_result"
    }
   ],
   "source": [
    "df_test.fillna(0, inplace=True)\n",
    "df_test.head(3)"
   ]
  },
  {
   "cell_type": "code",
   "execution_count": 286,
   "id": "087b37d9-1fdc-482f-aa68-1445133739ae",
   "metadata": {},
   "outputs": [],
   "source": [
    "df = df_test"
   ]
  },
  {
   "cell_type": "markdown",
   "id": "9df696fd-4f51-41c8-a6e0-80c1a0f7b190",
   "metadata": {},
   "source": [
    "### 시각화 한글 처리"
   ]
  },
  {
   "cell_type": "code",
   "execution_count": 287,
   "id": "1126051a-3703-46ac-9d77-75682c3d5aa1",
   "metadata": {},
   "outputs": [],
   "source": [
    "import matplotlib\n",
    "import matplotlib.pyplot as plt\n",
    "from matplotlib import font_manager, rc\n",
    "\n",
    "import platform \n",
    "\n",
    "if (platform.system() == 'Windows'):  # Windows, Linux, Darwin\n",
    "    rc('font', family=font_manager.FontProperties(fname=\"C:/Windows/Fonts/malgun.ttf\").get_name())\n",
    "    path = '.' # Local\n",
    "elif (platform.system() == 'Linux'):   \n",
    "    rc('font', family='NanumBarunGothic')  # Ubuntu 18.04 기준 한글 처리\n",
    "    path = '/content/drive/My Drive/kd_ml' # Colab\n",
    "else:\n",
    "    pass\n",
    "\n",
    "plt.rcParams[\"font.size\"] = 12         # 글자 크기\n",
    "# plt.rcParams[\"figure.figsize\"] = (10, 3) # 10:4의 그래프 비율\n",
    "plt.rcParams['axes.unicode_minus'] = False  # minus 부호는 unicode 적용시 한글이 깨짐으로 설정"
   ]
  },
  {
   "cell_type": "code",
   "execution_count": 288,
   "id": "0bb4735f-3641-455c-befd-09a2db2c9896",
   "metadata": {},
   "outputs": [
    {
     "data": {
      "image/png": "[encoded data removed]",
      "text/plain": [
       "<Figure size 1500x400 with 1 Axes>"
      ]
     },
     "metadata": {},
     "output_type": "display_data"
    }
   ],
   "source": [
    "line = df[['Samsung', 'NVIDIA']].plot(ylabel='주가', figsize=(15, 4))"
   ]
  },
  {
   "cell_type": "code",
   "execution_count": 289,
   "id": "3ac5b276-9929-43e2-acb9-49b5091b59ce",
   "metadata": {},
   "outputs": [
    {
     "data": {
      "text/html": [
       "<div>\n",
       "<style scoped>\n",
       "    .dataframe tbody tr th:only-of-type {\n",
       "        vertical-align: middle;\n",
       "    }\n",
       "\n",
       "    .dataframe tbody tr th {\n",
       "        vertical-align: top;\n",
       "    }\n",
       "\n",
       "    .dataframe thead th {\n",
       "        text-align: right;\n",
       "    }\n",
       "</style>\n",
       "<table border=\"1\" class=\"dataframe\">\n",
       "  <thead>\n",
       "    <tr style=\"text-align: right;\">\n",
       "      <th></th>\n",
       "      <th>Samsung</th>\n",
       "      <th>NVIDIA</th>\n",
       "      <th>Samsung_change</th>\n",
       "      <th>NVIDIA_change</th>\n",
       "    </tr>\n",
       "    <tr>\n",
       "      <th>Date</th>\n",
       "      <th></th>\n",
       "      <th></th>\n",
       "      <th></th>\n",
       "      <th></th>\n",
       "    </tr>\n",
       "  </thead>\n",
       "  <tbody>\n",
       "    <tr>\n",
       "      <th>2015-01-02</th>\n",
       "      <td>26600</td>\n",
       "      <td>6844</td>\n",
       "      <td>0.000000</td>\n",
       "      <td>0.000000</td>\n",
       "    </tr>\n",
       "    <tr>\n",
       "      <th>2015-01-05</th>\n",
       "      <td>26660</td>\n",
       "      <td>6728</td>\n",
       "      <td>0.002256</td>\n",
       "      <td>-0.016949</td>\n",
       "    </tr>\n",
       "    <tr>\n",
       "      <th>2015-01-06</th>\n",
       "      <td>25900</td>\n",
       "      <td>6524</td>\n",
       "      <td>-0.028507</td>\n",
       "      <td>-0.030321</td>\n",
       "    </tr>\n",
       "    <tr>\n",
       "      <th>2015-01-07</th>\n",
       "      <td>26140</td>\n",
       "      <td>6507</td>\n",
       "      <td>0.009266</td>\n",
       "      <td>-0.002606</td>\n",
       "    </tr>\n",
       "    <tr>\n",
       "      <th>2015-01-08</th>\n",
       "      <td>26280</td>\n",
       "      <td>6752</td>\n",
       "      <td>0.005356</td>\n",
       "      <td>0.037652</td>\n",
       "    </tr>\n",
       "    <tr>\n",
       "      <th>...</th>\n",
       "      <td>...</td>\n",
       "      <td>...</td>\n",
       "      <td>...</td>\n",
       "      <td>...</td>\n",
       "    </tr>\n",
       "    <tr>\n",
       "      <th>2024-05-07</th>\n",
       "      <td>81300</td>\n",
       "      <td>1231534</td>\n",
       "      <td>0.047680</td>\n",
       "      <td>0.019879</td>\n",
       "    </tr>\n",
       "    <tr>\n",
       "      <th>2024-05-08</th>\n",
       "      <td>81300</td>\n",
       "      <td>1229603</td>\n",
       "      <td>0.000000</td>\n",
       "      <td>-0.001568</td>\n",
       "    </tr>\n",
       "    <tr>\n",
       "      <th>2024-05-09</th>\n",
       "      <td>79700</td>\n",
       "      <td>1206959</td>\n",
       "      <td>-0.019680</td>\n",
       "      <td>-0.018416</td>\n",
       "    </tr>\n",
       "    <tr>\n",
       "      <th>2024-05-10</th>\n",
       "      <td>79200</td>\n",
       "      <td>1222340</td>\n",
       "      <td>-0.006274</td>\n",
       "      <td>0.012744</td>\n",
       "    </tr>\n",
       "    <tr>\n",
       "      <th>2024-05-13</th>\n",
       "      <td>78400</td>\n",
       "      <td>1229426</td>\n",
       "      <td>-0.010101</td>\n",
       "      <td>0.005797</td>\n",
       "    </tr>\n",
       "  </tbody>\n",
       "</table>\n",
       "<p>2231 rows × 4 columns</p>\n",
       "</div>"
      ],
      "text/plain": [
       "            Samsung   NVIDIA  Samsung_change  NVIDIA_change\n",
       "Date                                                       \n",
       "2015-01-02    26600     6844        0.000000       0.000000\n",
       "2015-01-05    26660     6728        0.002256      -0.016949\n",
       "2015-01-06    25900     6524       -0.028507      -0.030321\n",
       "2015-01-07    26140     6507        0.009266      -0.002606\n",
       "2015-01-08    26280     6752        0.005356       0.037652\n",
       "...             ...      ...             ...            ...\n",
       "2024-05-07    81300  1231534        0.047680       0.019879\n",
       "2024-05-08    81300  1229603        0.000000      -0.001568\n",
       "2024-05-09    79700  1206959       -0.019680      -0.018416\n",
       "2024-05-10    79200  1222340       -0.006274       0.012744\n",
       "2024-05-13    78400  1229426       -0.010101       0.005797\n",
       "\n",
       "[2231 rows x 4 columns]"
      ]
     },
     "execution_count": 289,
     "metadata": {},
     "output_type": "execute_result"
    }
   ],
   "source": [
    "df"
   ]
  },
  {
   "cell_type": "markdown",
   "id": "e4d6f8b6-64fd-4c12-9a20-1c51f9d59215",
   "metadata": {},
   "source": [
    "## 수익률 비교"
   ]
  },
  {
   "cell_type": "code",
   "execution_count": 290,
   "id": "370ce1d1-3d53-4168-b00d-2c75416cd561",
   "metadata": {},
   "outputs": [
    {
     "name": "stdout",
     "output_type": "stream",
     "text": [
      "26600\n",
      "6844\n"
     ]
    }
   ],
   "source": [
    "Samsung_start = df.iloc[0]['Samsung'].astype(int)\n",
    "NVIDIA_start = df.iloc[0]['NVIDIA'].astype(int)\n",
    "\n",
    "print(Samsung_start)\n",
    "print(NVIDIA_start)"
   ]
  },
  {
   "cell_type": "code",
   "execution_count": 293,
   "id": "fe12ef90-0877-4942-af13-4d7f5245b998",
   "metadata": {},
   "outputs": [
    {
     "data": {
      "text/html": [
       "<div>\n",
       "<style scoped>\n",
       "    .dataframe tbody tr th:only-of-type {\n",
       "        vertical-align: middle;\n",
       "    }\n",
       "\n",
       "    .dataframe tbody tr th {\n",
       "        vertical-align: top;\n",
       "    }\n",
       "\n",
       "    .dataframe thead th {\n",
       "        text-align: right;\n",
       "    }\n",
       "</style>\n",
       "<table border=\"1\" class=\"dataframe\">\n",
       "  <thead>\n",
       "    <tr style=\"text-align: right;\">\n",
       "      <th></th>\n",
       "      <th>Samsung</th>\n",
       "      <th>NVIDIA</th>\n",
       "      <th>Samsung_change</th>\n",
       "      <th>NVIDIA_change</th>\n",
       "      <th>Samsung_rate</th>\n",
       "      <th>NVIDIA_rate</th>\n",
       "    </tr>\n",
       "    <tr>\n",
       "      <th>Date</th>\n",
       "      <th></th>\n",
       "      <th></th>\n",
       "      <th></th>\n",
       "      <th></th>\n",
       "      <th></th>\n",
       "      <th></th>\n",
       "    </tr>\n",
       "  </thead>\n",
       "  <tbody>\n",
       "    <tr>\n",
       "      <th>2015-01-02</th>\n",
       "      <td>26600</td>\n",
       "      <td>6844</td>\n",
       "      <td>0.000000</td>\n",
       "      <td>0.000000</td>\n",
       "      <td>0.000000</td>\n",
       "      <td>0.000000</td>\n",
       "    </tr>\n",
       "    <tr>\n",
       "      <th>2015-01-05</th>\n",
       "      <td>26660</td>\n",
       "      <td>6728</td>\n",
       "      <td>0.002256</td>\n",
       "      <td>-0.016949</td>\n",
       "      <td>0.002256</td>\n",
       "      <td>-0.016949</td>\n",
       "    </tr>\n",
       "    <tr>\n",
       "      <th>2015-01-06</th>\n",
       "      <td>25900</td>\n",
       "      <td>6524</td>\n",
       "      <td>-0.028507</td>\n",
       "      <td>-0.030321</td>\n",
       "      <td>-0.026316</td>\n",
       "      <td>-0.046756</td>\n",
       "    </tr>\n",
       "    <tr>\n",
       "      <th>2015-01-07</th>\n",
       "      <td>26140</td>\n",
       "      <td>6507</td>\n",
       "      <td>0.009266</td>\n",
       "      <td>-0.002606</td>\n",
       "      <td>-0.017293</td>\n",
       "      <td>-0.049240</td>\n",
       "    </tr>\n",
       "    <tr>\n",
       "      <th>2015-01-08</th>\n",
       "      <td>26280</td>\n",
       "      <td>6752</td>\n",
       "      <td>0.005356</td>\n",
       "      <td>0.037652</td>\n",
       "      <td>-0.012030</td>\n",
       "      <td>-0.013442</td>\n",
       "    </tr>\n",
       "    <tr>\n",
       "      <th>...</th>\n",
       "      <td>...</td>\n",
       "      <td>...</td>\n",
       "      <td>...</td>\n",
       "      <td>...</td>\n",
       "      <td>...</td>\n",
       "      <td>...</td>\n",
       "    </tr>\n",
       "    <tr>\n",
       "      <th>2024-05-07</th>\n",
       "      <td>81300</td>\n",
       "      <td>1231534</td>\n",
       "      <td>0.047680</td>\n",
       "      <td>0.019879</td>\n",
       "      <td>2.056391</td>\n",
       "      <td>178.943600</td>\n",
       "    </tr>\n",
       "    <tr>\n",
       "      <th>2024-05-08</th>\n",
       "      <td>81300</td>\n",
       "      <td>1229603</td>\n",
       "      <td>0.000000</td>\n",
       "      <td>-0.001568</td>\n",
       "      <td>2.056391</td>\n",
       "      <td>178.661455</td>\n",
       "    </tr>\n",
       "    <tr>\n",
       "      <th>2024-05-09</th>\n",
       "      <td>79700</td>\n",
       "      <td>1206959</td>\n",
       "      <td>-0.019680</td>\n",
       "      <td>-0.018416</td>\n",
       "      <td>1.996241</td>\n",
       "      <td>175.352864</td>\n",
       "    </tr>\n",
       "    <tr>\n",
       "      <th>2024-05-10</th>\n",
       "      <td>79200</td>\n",
       "      <td>1222340</td>\n",
       "      <td>-0.006274</td>\n",
       "      <td>0.012744</td>\n",
       "      <td>1.977444</td>\n",
       "      <td>177.600234</td>\n",
       "    </tr>\n",
       "    <tr>\n",
       "      <th>2024-05-13</th>\n",
       "      <td>78400</td>\n",
       "      <td>1229426</td>\n",
       "      <td>-0.010101</td>\n",
       "      <td>0.005797</td>\n",
       "      <td>1.947368</td>\n",
       "      <td>178.635593</td>\n",
       "    </tr>\n",
       "  </tbody>\n",
       "</table>\n",
       "<p>2231 rows × 6 columns</p>\n",
       "</div>"
      ],
      "text/plain": [
       "            Samsung   NVIDIA  Samsung_change  NVIDIA_change  Samsung_rate  \\\n",
       "Date                                                                        \n",
       "2015-01-02    26600     6844        0.000000       0.000000      0.000000   \n",
       "2015-01-05    26660     6728        0.002256      -0.016949      0.002256   \n",
       "2015-01-06    25900     6524       -0.028507      -0.030321     -0.026316   \n",
       "2015-01-07    26140     6507        0.009266      -0.002606     -0.017293   \n",
       "2015-01-08    26280     6752        0.005356       0.037652     -0.012030   \n",
       "...             ...      ...             ...            ...           ...   \n",
       "2024-05-07    81300  1231534        0.047680       0.019879      2.056391   \n",
       "2024-05-08    81300  1229603        0.000000      -0.001568      2.056391   \n",
       "2024-05-09    79700  1206959       -0.019680      -0.018416      1.996241   \n",
       "2024-05-10    79200  1222340       -0.006274       0.012744      1.977444   \n",
       "2024-05-13    78400  1229426       -0.010101       0.005797      1.947368   \n",
       "\n",
       "            NVIDIA_rate  \n",
       "Date                     \n",
       "2015-01-02     0.000000  \n",
       "2015-01-05    -0.016949  \n",
       "2015-01-06    -0.046756  \n",
       "2015-01-07    -0.049240  \n",
       "2015-01-08    -0.013442  \n",
       "...                 ...  \n",
       "2024-05-07   178.943600  \n",
       "2024-05-08   178.661455  \n",
       "2024-05-09   175.352864  \n",
       "2024-05-10   177.600234  \n",
       "2024-05-13   178.635593  \n",
       "\n",
       "[2231 rows x 6 columns]"
      ]
     },
     "execution_count": 293,
     "metadata": {},
     "output_type": "execute_result"
    }
   ],
   "source": [
    "df['Samsung_rate'] = (df['Samsung'] / Samsung_start - 1)  # 원금을 제외한 수익률\n",
    "df['NVIDIA_rate'] = (df['NVIDIA'] / NVIDIA_start - 1)  \n",
    "\n",
    "df"
   ]
  },
  {
   "cell_type": "code",
   "execution_count": 295,
   "id": "9c296d7c-6eca-4239-bb1f-07e1675a5577",
   "metadata": {},
   "outputs": [
    {
     "data": {
      "text/plain": [
       "<Axes: xlabel='거래일', ylabel='주가'>"
      ]
     },
     "execution_count": 295,
     "metadata": {},
     "output_type": "execute_result"
    },
    {
     "data": {
      "image/png": "[encoded data removed]",
      "text/plain": [
       "<Figure size 1500x400 with 1 Axes>"
      ]
     },
     "metadata": {},
     "output_type": "display_data"
    }
   ],
   "source": [
    "df[['Samsung_rate', 'NVIDIA_rate']].plot(xlabel='거래일'), ylabel='주가',  figsize=(15, 4))"
   ]
  },
  {
   "cell_type": "code",
   "execution_count": null,
   "id": "34e26ada-d670-4707-a658-5eeb90e5c0b4",
   "metadata": {},
   "outputs": [],
   "source": []
  },
  {
   "cell_type": "code",
   "execution_count": null,
   "id": "df9d6950-bcde-41e2-bb2f-a8d0d8c0eb72",
   "metadata": {},
   "outputs": [],
   "source": []
  },
  {
   "cell_type": "code",
   "execution_count": null,
   "id": "b202b7be-87e4-420b-a387-c12883b3611a",
   "metadata": {},
   "outputs": [],
   "source": []
  },
  {
   "cell_type": "code",
   "execution_count": 209,
   "id": "c3c099c3-e26a-4dae-aa10-409551159985",
   "metadata": {},
   "outputs": [
    {
     "name": "stderr",
     "output_type": "stream",
     "text": [
      "100%|████████████████████████████████████████████████████████████████████████████| 3780/3780 [00:02<00:00, 1339.85it/s]\n"
     ]
    },
    {
     "data": {
      "text/html": [
       "<div>\n",
       "<style scoped>\n",
       "    .dataframe tbody tr th:only-of-type {\n",
       "        vertical-align: middle;\n",
       "    }\n",
       "\n",
       "    .dataframe tbody tr th {\n",
       "        vertical-align: top;\n",
       "    }\n",
       "\n",
       "    .dataframe thead th {\n",
       "        text-align: right;\n",
       "    }\n",
       "</style>\n",
       "<table border=\"1\" class=\"dataframe\">\n",
       "  <thead>\n",
       "    <tr style=\"text-align: right;\">\n",
       "      <th></th>\n",
       "      <th>Open</th>\n",
       "      <th>High</th>\n",
       "      <th>Low</th>\n",
       "      <th>Close</th>\n",
       "      <th>Adj Close</th>\n",
       "      <th>Volume</th>\n",
       "    </tr>\n",
       "    <tr>\n",
       "      <th>Date</th>\n",
       "      <th></th>\n",
       "      <th></th>\n",
       "      <th></th>\n",
       "      <th></th>\n",
       "      <th></th>\n",
       "      <th></th>\n",
       "    </tr>\n",
       "  </thead>\n",
       "  <tbody>\n",
       "    <tr>\n",
       "      <th>2024-05-07</th>\n",
       "      <td>1.238933e+06</td>\n",
       "      <td>1.248222e+06</td>\n",
       "      <td>1.119620e+06</td>\n",
       "      <td>1.231534e+06</td>\n",
       "      <td>1.231534e+06</td>\n",
       "      <td>43734200</td>\n",
       "    </tr>\n",
       "    <tr>\n",
       "      <th>2024-05-08</th>\n",
       "      <td>1.216969e+06</td>\n",
       "      <td>1.240238e+06</td>\n",
       "      <td>1.216112e+06</td>\n",
       "      <td>1.229603e+06</td>\n",
       "      <td>1.229603e+06</td>\n",
       "      <td>32572100</td>\n",
       "    </tr>\n",
       "    <tr>\n",
       "      <th>2024-05-09</th>\n",
       "      <td>1.231194e+06</td>\n",
       "      <td>1.238579e+06</td>\n",
       "      <td>1.199942e+06</td>\n",
       "      <td>1.206959e+06</td>\n",
       "      <td>1.206959e+06</td>\n",
       "      <td>37801300</td>\n",
       "    </tr>\n",
       "    <tr>\n",
       "      <th>2024-05-10</th>\n",
       "      <td>1.228148e+06</td>\n",
       "      <td>1.243054e+06</td>\n",
       "      <td>1.213487e+06</td>\n",
       "      <td>1.222341e+06</td>\n",
       "      <td>1.222341e+06</td>\n",
       "      <td>33532500</td>\n",
       "    </tr>\n",
       "    <tr>\n",
       "      <th>2024-05-13</th>\n",
       "      <td>1.230501e+06</td>\n",
       "      <td>1.237573e+06</td>\n",
       "      <td>1.203994e+06</td>\n",
       "      <td>1.229426e+06</td>\n",
       "      <td>1.229426e+06</td>\n",
       "      <td>28879300</td>\n",
       "    </tr>\n",
       "  </tbody>\n",
       "</table>\n",
       "</div>"
      ],
      "text/plain": [
       "                    Open          High           Low         Close  \\\n",
       "Date                                                                 \n",
       "2024-05-07  1.238933e+06  1.248222e+06  1.119620e+06  1.231534e+06   \n",
       "2024-05-08  1.216969e+06  1.240238e+06  1.216112e+06  1.229603e+06   \n",
       "2024-05-09  1.231194e+06  1.238579e+06  1.199942e+06  1.206959e+06   \n",
       "2024-05-10  1.228148e+06  1.243054e+06  1.213487e+06  1.222341e+06   \n",
       "2024-05-13  1.230501e+06  1.237573e+06  1.203994e+06  1.229426e+06   \n",
       "\n",
       "               Adj Close    Volume  \n",
       "Date                                \n",
       "2024-05-07  1.231534e+06  43734200  \n",
       "2024-05-08  1.229603e+06  32572100  \n",
       "2024-05-09  1.206959e+06  37801300  \n",
       "2024-05-10  1.222341e+06  33532500  \n",
       "2024-05-13  1.229426e+06  28879300  "
      ]
     },
     "execution_count": 209,
     "metadata": {},
     "output_type": "execute_result"
    }
   ],
   "source": []
  },
  {
   "cell_type": "code",
   "execution_count": null,
   "id": "998df265-22f6-4e07-9434-30f7f0e5dae3",
   "metadata": {},
   "outputs": [],
   "source": [
    "# 종가 2개 결합\n"
   ]
  },
  {
   "cell_type": "code",
   "execution_count": null,
   "id": "629d9586-6640-4c51-8704-0a558f5cc3e9",
   "metadata": {},
   "outputs": [],
   "source": []
  },
  {
   "cell_type": "code",
   "execution_count": null,
   "id": "9004aabd-8aed-4cf6-8dfb-73c31d74d728",
   "metadata": {},
   "outputs": [],
   "source": []
  },
  {
   "cell_type": "code",
   "execution_count": null,
   "id": "de754785-a0ae-4887-bf17-3cf826952647",
   "metadata": {},
   "outputs": [],
   "source": []
  }
 ],
 "metadata": {
  "kernelspec": {
   "display_name": "ai",
   "language": "python",
   "name": "ai"
  },
  "language_info": {
   "codemirror_mode": {
    "name": "ipython",
    "version": 3
   },
   "file_extension": ".py",
   "mimetype": "text/x-python",
   "name": "python",
   "nbconvert_exporter": "python",
   "pygments_lexer": "ipython3",
   "version": "3.10.13"
  }
 },
 "nbformat": 4,
 "nbformat_minor": 5
}
