{
 "cells": [
  {
   "cell_type": "markdown",
   "metadata": {},
   "source": [
    "## '한국 복지 패널 데이터'를 이용한 데이터 분석\n",
    "### 연령대별 이혼율 분석하기"
   ]
  },
  {
   "cell_type": "code",
   "execution_count": 1,
   "metadata": {},
   "outputs": [
    {
     "name": "stdout",
     "output_type": "stream",
     "text": [
      "<class 'pandas.core.frame.DataFrame'>\n"
     ]
    }
   ],
   "source": [
    "import warnings\n",
    "warnings.filterwarnings(action='ignore')\n",
    "\n",
    "import numpy as np\n",
    "import pandas as pd\n",
    "import matplotlib.pyplot as plt\n",
    "import seaborn as sns\n",
    "\n",
    "plt.rcParams.update({'figure.figsize': \"8, 6\"})\n",
    "plt.rcParams.update({'font.family' : 'Malgun Gothic'})\n",
    "\n",
    "pd.set_option('display.max_rows', 100)     # 행은 최대 100까지 출력\n",
    "pd.set_option('display.max_columns', None) # 열은 무제한 출력\n",
    "\n",
    "raw = pd.read_spss('./Koweps_hpwc17_2022_beta1.sav');\n",
    "print(type(raw))\n",
    "\n",
    "# 1~17차 머지데이터_변수명.xlsx\n",
    "raw=raw.rename(\n",
    "columns={'h17_g3'     : 'gender',         #  성별, 1: 남, 2: 여\n",
    "         'h17_g4'     : 'birth',          #  태어난 연도\n",
    "         'h17_g10'    : 'marriage_type',  #  혼인 상태\n",
    "         'h17_g11'    : 'religion',       #  종교, 1: 있음, 2: 없음\n",
    "         'p1702_8aq1' : 'income',         #  일한달의 월 평균 임금 \n",
    "         'h17_eco9'   : 'code_job',       #  직업 코드\n",
    "         'h17_reg7'   : 'code_region'})   #  7개 권역별 지역구분\n",
    "\n",
    "# 직종 코드 확인\n",
    "# list_job=pd.read_excel('./Koweps_Codebook_2022.xlsx', sheet_name='직종코드')\n",
    "# print(type(list_job))\n",
    "# print(list_job.head(5))\n",
    "\n",
    "# 직종의 merge\n",
    "# raw=raw.merge(list_job, how='left', on='code_job')\n",
    "# raw[['code_job', 'job']].head(5)\n",
    "\n",
    "# 성별 변경\n",
    "# raw['gender'] = np.where(raw['gender'] == 1, 'male', 'female')\n",
    "# raw['gender'].head(3)\n",
    "\n",
    "# 연령\n",
    "raw=raw.assign(age=((2023-raw['birth']))) # 만나이\n",
    "\n",
    "# 연령대 파생 변수 제작\n",
    "# age < 30: young, age < 60: middle, old\n",
    "raw=raw.assign(ageg=np.where(raw['age'] < 30, 'young', np.where(raw['age'] < 60, 'middle', 'old')))\n",
    "\n",
    "# marriage 파생 변수 제작\n",
    "# 1: 유배우, 3: 이혼 -> 1: marriage, 2: divorce, 3: etc\n",
    "def marrage(x):\n",
    "    sw=''\n",
    "    if x==1:\n",
    "        sw='marriage'\n",
    "    elif x==3:\n",
    "        sw='divorce'\n",
    "    else:\n",
    "        sw='etc'\n",
    "        \n",
    "    return sw\n",
    "\n",
    "raw['marriage']=raw['marriage_type'].apply(marrage)\n",
    "\n",
    "plt.rcParams.update({'figure.figsize': \"6, 4\"})\n",
    "plt.rcParams.update({'font.family' : 'Malgun Gothic'})"
   ]
  },
  {
   "cell_type": "code",
   "execution_count": 2,
   "metadata": {},
   "outputs": [
    {
     "data": {
      "text/html": [
       "<div>\n",
       "<style scoped>\n",
       "    .dataframe tbody tr th:only-of-type {\n",
       "        vertical-align: middle;\n",
       "    }\n",
       "\n",
       "    .dataframe tbody tr th {\n",
       "        vertical-align: top;\n",
       "    }\n",
       "\n",
       "    .dataframe thead th {\n",
       "        text-align: right;\n",
       "    }\n",
       "</style>\n",
       "<table border=\"1\" class=\"dataframe\">\n",
       "  <thead>\n",
       "    <tr style=\"text-align: right;\">\n",
       "      <th></th>\n",
       "      <th>ageg</th>\n",
       "      <th>marriage</th>\n",
       "    </tr>\n",
       "  </thead>\n",
       "  <tbody>\n",
       "    <tr>\n",
       "      <th>2</th>\n",
       "      <td>old</td>\n",
       "      <td>divorce</td>\n",
       "    </tr>\n",
       "    <tr>\n",
       "      <th>3</th>\n",
       "      <td>old</td>\n",
       "      <td>marriage</td>\n",
       "    </tr>\n",
       "    <tr>\n",
       "      <th>4</th>\n",
       "      <td>old</td>\n",
       "      <td>marriage</td>\n",
       "    </tr>\n",
       "  </tbody>\n",
       "</table>\n",
       "</div>"
      ],
      "text/plain": [
       "  ageg  marriage\n",
       "2  old   divorce\n",
       "3  old  marriage\n",
       "4  old  marriage"
      ]
     },
     "execution_count": 2,
     "metadata": {},
     "output_type": "execute_result"
    }
   ],
   "source": [
    "df=raw.copy()\n",
    "df=df[['ageg', 'marriage']]\n",
    "df=df.query('marriage != \"etc\"')\n",
    "df.head(3)"
   ]
  },
  {
   "cell_type": "code",
   "execution_count": 3,
   "metadata": {},
   "outputs": [
    {
     "data": {
      "text/html": [
       "<div>\n",
       "<style scoped>\n",
       "    .dataframe tbody tr th:only-of-type {\n",
       "        vertical-align: middle;\n",
       "    }\n",
       "\n",
       "    .dataframe tbody tr th {\n",
       "        vertical-align: top;\n",
       "    }\n",
       "\n",
       "    .dataframe thead th {\n",
       "        text-align: right;\n",
       "    }\n",
       "</style>\n",
       "<table border=\"1\" class=\"dataframe\">\n",
       "  <thead>\n",
       "    <tr style=\"text-align: right;\">\n",
       "      <th></th>\n",
       "      <th>ageg</th>\n",
       "      <th>marriage</th>\n",
       "      <th>n</th>\n",
       "    </tr>\n",
       "  </thead>\n",
       "  <tbody>\n",
       "    <tr>\n",
       "      <th>0</th>\n",
       "      <td>middle</td>\n",
       "      <td>divorce</td>\n",
       "      <td>363</td>\n",
       "    </tr>\n",
       "    <tr>\n",
       "      <th>1</th>\n",
       "      <td>middle</td>\n",
       "      <td>marriage</td>\n",
       "      <td>3599</td>\n",
       "    </tr>\n",
       "    <tr>\n",
       "      <th>2</th>\n",
       "      <td>old</td>\n",
       "      <td>divorce</td>\n",
       "      <td>526</td>\n",
       "    </tr>\n",
       "    <tr>\n",
       "      <th>3</th>\n",
       "      <td>old</td>\n",
       "      <td>marriage</td>\n",
       "      <td>4852</td>\n",
       "    </tr>\n",
       "    <tr>\n",
       "      <th>4</th>\n",
       "      <td>young</td>\n",
       "      <td>divorce</td>\n",
       "      <td>4</td>\n",
       "    </tr>\n",
       "    <tr>\n",
       "      <th>5</th>\n",
       "      <td>young</td>\n",
       "      <td>marriage</td>\n",
       "      <td>49</td>\n",
       "    </tr>\n",
       "  </tbody>\n",
       "</table>\n",
       "</div>"
      ],
      "text/plain": [
       "     ageg  marriage     n\n",
       "0  middle   divorce   363\n",
       "1  middle  marriage  3599\n",
       "2     old   divorce   526\n",
       "3     old  marriage  4852\n",
       "4   young   divorce     4\n",
       "5   young  marriage    49"
      ]
     },
     "execution_count": 3,
     "metadata": {},
     "output_type": "execute_result"
    }
   ],
   "source": [
    "# 연령대별 이혼률표\n",
    "df2=df.groupby(['ageg', 'marriage'], as_index=False).agg(n=('marriage', 'count'))\n",
    "df2"
   ]
  },
  {
   "cell_type": "code",
   "execution_count": 4,
   "metadata": {},
   "outputs": [
    {
     "name": "stdout",
     "output_type": "stream",
     "text": [
      "53\n"
     ]
    }
   ],
   "source": [
    "# pandas 1.4 미만 사용 방법 ★\n",
    "youngtot = df2.query('ageg==\"young\"')['n'].sum()\n",
    "print(youngtot)\n",
    "middletot = df2.query('ageg==\"middle\"')['n'].sum()\n",
    "oldtot = df2.query('ageg==\"old\"')['n'].sum()"
   ]
  },
  {
   "cell_type": "code",
   "execution_count": 6,
   "metadata": {},
   "outputs": [
    {
     "data": {
      "text/html": [
       "<div>\n",
       "<style scoped>\n",
       "    .dataframe tbody tr th:only-of-type {\n",
       "        vertical-align: middle;\n",
       "    }\n",
       "\n",
       "    .dataframe tbody tr th {\n",
       "        vertical-align: top;\n",
       "    }\n",
       "\n",
       "    .dataframe thead th {\n",
       "        text-align: right;\n",
       "    }\n",
       "</style>\n",
       "<table border=\"1\" class=\"dataframe\">\n",
       "  <thead>\n",
       "    <tr style=\"text-align: right;\">\n",
       "      <th></th>\n",
       "      <th>ageg</th>\n",
       "      <th>marriage</th>\n",
       "      <th>n</th>\n",
       "      <th>proportion</th>\n",
       "    </tr>\n",
       "  </thead>\n",
       "  <tbody>\n",
       "    <tr>\n",
       "      <th>0</th>\n",
       "      <td>middle</td>\n",
       "      <td>divorce</td>\n",
       "      <td>363</td>\n",
       "      <td>0.091620</td>\n",
       "    </tr>\n",
       "    <tr>\n",
       "      <th>1</th>\n",
       "      <td>middle</td>\n",
       "      <td>marriage</td>\n",
       "      <td>3599</td>\n",
       "      <td>0.908380</td>\n",
       "    </tr>\n",
       "    <tr>\n",
       "      <th>2</th>\n",
       "      <td>old</td>\n",
       "      <td>divorce</td>\n",
       "      <td>526</td>\n",
       "      <td>0.097806</td>\n",
       "    </tr>\n",
       "    <tr>\n",
       "      <th>3</th>\n",
       "      <td>old</td>\n",
       "      <td>marriage</td>\n",
       "      <td>4852</td>\n",
       "      <td>0.902194</td>\n",
       "    </tr>\n",
       "    <tr>\n",
       "      <th>4</th>\n",
       "      <td>young</td>\n",
       "      <td>divorce</td>\n",
       "      <td>4</td>\n",
       "      <td>0.075472</td>\n",
       "    </tr>\n",
       "    <tr>\n",
       "      <th>5</th>\n",
       "      <td>young</td>\n",
       "      <td>marriage</td>\n",
       "      <td>49</td>\n",
       "      <td>0.924528</td>\n",
       "    </tr>\n",
       "  </tbody>\n",
       "</table>\n",
       "</div>"
      ],
      "text/plain": [
       "     ageg  marriage     n  proportion\n",
       "0  middle   divorce   363    0.091620\n",
       "1  middle  marriage  3599    0.908380\n",
       "2     old   divorce   526    0.097806\n",
       "3     old  marriage  4852    0.902194\n",
       "4   young   divorce     4    0.075472\n",
       "5   young  marriage    49    0.924528"
      ]
     },
     "execution_count": 6,
     "metadata": {},
     "output_type": "execute_result"
    }
   ],
   "source": [
    "df2['proportion']=np.where(df2['ageg']=='young', df2['n']/youngtot, \\\n",
    "      np.where(df2['ageg']=='middle', df2['n']/middletot, df2['n']/oldtot))\n",
    "df2"
   ]
  },
  {
   "cell_type": "code",
   "execution_count": 7,
   "metadata": {},
   "outputs": [
    {
     "data": {
      "text/html": [
       "<div>\n",
       "<style scoped>\n",
       "    .dataframe tbody tr th:only-of-type {\n",
       "        vertical-align: middle;\n",
       "    }\n",
       "\n",
       "    .dataframe tbody tr th {\n",
       "        vertical-align: top;\n",
       "    }\n",
       "\n",
       "    .dataframe thead th {\n",
       "        text-align: right;\n",
       "    }\n",
       "</style>\n",
       "<table border=\"1\" class=\"dataframe\">\n",
       "  <thead>\n",
       "    <tr style=\"text-align: right;\">\n",
       "      <th></th>\n",
       "      <th>ageg</th>\n",
       "      <th>marriage</th>\n",
       "      <th>n</th>\n",
       "      <th>proportion</th>\n",
       "    </tr>\n",
       "  </thead>\n",
       "  <tbody>\n",
       "    <tr>\n",
       "      <th>0</th>\n",
       "      <td>middle</td>\n",
       "      <td>divorce</td>\n",
       "      <td>363</td>\n",
       "      <td>9.16</td>\n",
       "    </tr>\n",
       "    <tr>\n",
       "      <th>2</th>\n",
       "      <td>old</td>\n",
       "      <td>divorce</td>\n",
       "      <td>526</td>\n",
       "      <td>9.78</td>\n",
       "    </tr>\n",
       "    <tr>\n",
       "      <th>4</th>\n",
       "      <td>young</td>\n",
       "      <td>divorce</td>\n",
       "      <td>4</td>\n",
       "      <td>7.55</td>\n",
       "    </tr>\n",
       "  </tbody>\n",
       "</table>\n",
       "</div>"
      ],
      "text/plain": [
       "     ageg marriage    n  proportion\n",
       "0  middle  divorce  363        9.16\n",
       "2     old  divorce  526        9.78\n",
       "4   young  divorce    4        7.55"
      ]
     },
     "execution_count": 7,
     "metadata": {},
     "output_type": "execute_result"
    }
   ],
   "source": [
    "df2=df2.query('marriage==\"divorce\"') # 이혼 자료만 필터링\n",
    "df2['proportion'] = round(df2['proportion'] * 100, 2)\n",
    "df2"
   ]
  },
  {
   "cell_type": "code",
   "execution_count": 11,
   "metadata": {},
   "outputs": [
    {
     "data": {
      "image/png": "[encoded data removed]",
      "text/plain": [
       "<Figure size 1000x500 with 1 Axes>"
      ]
     },
     "metadata": {},
     "output_type": "display_data"
    }
   ],
   "source": [
    "plt.rcParams.update({'figure.figsize': \"10, 5\"})\n",
    "sns.barplot(data=df2, x='ageg', y='proportion', order=['young', 'middle', 'old']);"
   ]
  },
  {
   "cell_type": "code",
   "execution_count": null,
   "metadata": {},
   "outputs": [],
   "source": [
    "# 분석결과에 대한 스토리텔링 제작을 다양한 자료의 검색 및 확인이 필요함.\n",
    "# 같은 분석 결과라고 하더라도 분석가의 설명이 전혀 다른 이미지를 전달 할 수 있음.\n",
    "# 우수한 전달력을위해 인문학적인 지식이 필요함."
   ]
  },
  {
   "cell_type": "code",
   "execution_count": null,
   "metadata": {},
   "outputs": [],
   "source": []
  }
 ],
 "metadata": {
  "kernelspec": {
   "display_name": "ai",
   "language": "python",
   "name": "python3"
  },
  "language_info": {
   "codemirror_mode": {
    "name": "ipython",
    "version": 3
   },
   "file_extension": ".py",
   "mimetype": "text/x-python",
   "name": "python",
   "nbconvert_exporter": "python",
   "pygments_lexer": "ipython3",
   "version": "3.9.18"
  }
 },
 "nbformat": 4,
 "nbformat_minor": 4
}
