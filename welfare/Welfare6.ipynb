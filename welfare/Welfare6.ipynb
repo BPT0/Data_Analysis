{
 "cells": [
  {
   "cell_type": "markdown",
   "metadata": {},
   "source": [
    "## '한국 복지 패널 데이터'를 이용한 데이터 분석\n",
    "### 연령대 및 종교 유무에 따른 이혼율 분석하기"
   ]
  },
  {
   "cell_type": "code",
   "execution_count": 1,
   "metadata": {},
   "outputs": [
    {
     "name": "stdout",
     "output_type": "stream",
     "text": [
      "<class 'pandas.core.frame.DataFrame'>\n"
     ]
    }
   ],
   "source": [
    "import warnings\n",
    "warnings.filterwarnings(action='ignore')\n",
    "\n",
    "import numpy as np\n",
    "import pandas as pd\n",
    "import matplotlib.pyplot as plt\n",
    "import seaborn as sns\n",
    "\n",
    "plt.rcParams.update({'figure.figsize': \"8, 6\"})\n",
    "plt.rcParams.update({'font.family' : 'Malgun Gothic'})\n",
    "\n",
    "pd.set_option('display.max_rows', 100)     # 행은 최대 100까지 출력\n",
    "pd.set_option('display.max_columns', None) # 열은 무제한 출력\n",
    "\n",
    "raw = pd.read_spss('./Koweps_hpwc17_2022_beta1.sav');\n",
    "print(type(raw))\n",
    "\n",
    "# 1~17차 머지데이터_변수명.xlsx\n",
    "raw=raw.rename(\n",
    "columns={'h17_g3'     : 'gender',         #  성별, 1: 남, 2: 여\n",
    "         'h17_g4'     : 'birth',          #  태어난 연도\n",
    "         'h17_g10'    : 'marriage_type',  #  혼인 상태\n",
    "         'h17_g11'    : 'religion',       #  종교, 1: 있음, 2: 없음\n",
    "         'p1702_8aq1' : 'income',         #  일한달의 월 평균 임금 \n",
    "         'h17_eco9'   : 'code_job',       #  직업 코드\n",
    "         'h17_reg7'   : 'code_region'})   #  7개 권역별 지역구분\n",
    "\n",
    "# 직종 코드 확인\n",
    "# list_job=pd.read_excel('./Koweps_Codebook_2022.xlsx', sheet_name='직종코드')\n",
    "# print(type(list_job))\n",
    "# print(list_job.head(5))\n",
    "\n",
    "# 직종의 merge\n",
    "# raw=raw.merge(list_job, how='left', on='code_job')\n",
    "# raw[['code_job', 'job']].head(5)\n",
    "\n",
    "# 성별 변경\n",
    "# raw['gender'] = np.where(raw['gender'] == 1, 'male', 'female')\n",
    "# raw['gender'].head(3)\n",
    "\n",
    "# 연령\n",
    "raw=raw.assign(age=((2023-raw['birth']))) # 만나이\n",
    "\n",
    "# 연령대 파생 변수 제작\n",
    "# age < 30: young, age < 60: middle, old\n",
    "raw=raw.assign(ageg=np.where(raw['age'] < 30, 'young', np.where(raw['age'] < 60, 'middle', 'old')))\n",
    "\n",
    "# marriage 파생 변수 제작\n",
    "# 1: 유배우, 3: 이혼 -> 1: marriage, 2: divorce, 3: etc\n",
    "def marrage(x):\n",
    "    sw=''\n",
    "    if x==1:\n",
    "        sw='marriage'\n",
    "    elif x==3:\n",
    "        sw='divorce'\n",
    "    else:\n",
    "        sw='etc'\n",
    "        \n",
    "    return sw\n",
    "\n",
    "raw['marriage']=raw['marriage_type'].apply(marrage)\n",
    "\n",
    "plt.rcParams.update({'figure.figsize': \"6, 4\"})\n",
    "plt.rcParams.update({'font.family' : 'Malgun Gothic'})"
   ]
  },
  {
   "cell_type": "code",
   "execution_count": 2,
   "metadata": {},
   "outputs": [],
   "source": [
    "df=raw.copy()\n",
    "df['religion'] = np.where(df['religion']==1, 'yes', 'no')"
   ]
  },
  {
   "cell_type": "code",
   "execution_count": 3,
   "metadata": {},
   "outputs": [
    {
     "data": {
      "text/html": [
       "<div>\n",
       "<style scoped>\n",
       "    .dataframe tbody tr th:only-of-type {\n",
       "        vertical-align: middle;\n",
       "    }\n",
       "\n",
       "    .dataframe tbody tr th {\n",
       "        vertical-align: top;\n",
       "    }\n",
       "\n",
       "    .dataframe thead th {\n",
       "        text-align: right;\n",
       "    }\n",
       "</style>\n",
       "<table border=\"1\" class=\"dataframe\">\n",
       "  <thead>\n",
       "    <tr style=\"text-align: right;\">\n",
       "      <th></th>\n",
       "      <th>ageg</th>\n",
       "      <th>religion</th>\n",
       "      <th>marriage</th>\n",
       "    </tr>\n",
       "  </thead>\n",
       "  <tbody>\n",
       "    <tr>\n",
       "      <th>0</th>\n",
       "      <td>old</td>\n",
       "      <td>yes</td>\n",
       "      <td>etc</td>\n",
       "    </tr>\n",
       "    <tr>\n",
       "      <th>1</th>\n",
       "      <td>old</td>\n",
       "      <td>no</td>\n",
       "      <td>etc</td>\n",
       "    </tr>\n",
       "    <tr>\n",
       "      <th>2</th>\n",
       "      <td>old</td>\n",
       "      <td>yes</td>\n",
       "      <td>divorce</td>\n",
       "    </tr>\n",
       "  </tbody>\n",
       "</table>\n",
       "</div>"
      ],
      "text/plain": [
       "  ageg religion marriage\n",
       "0  old      yes      etc\n",
       "1  old       no      etc\n",
       "2  old      yes  divorce"
      ]
     },
     "execution_count": 3,
     "metadata": {},
     "output_type": "execute_result"
    }
   ],
   "source": [
    "df=df[['ageg', 'religion', 'marriage']]\n",
    "df.head(3)"
   ]
  },
  {
   "cell_type": "code",
   "execution_count": 4,
   "metadata": {},
   "outputs": [
    {
     "data": {
      "text/html": [
       "<div>\n",
       "<style scoped>\n",
       "    .dataframe tbody tr th:only-of-type {\n",
       "        vertical-align: middle;\n",
       "    }\n",
       "\n",
       "    .dataframe tbody tr th {\n",
       "        vertical-align: top;\n",
       "    }\n",
       "\n",
       "    .dataframe thead th {\n",
       "        text-align: right;\n",
       "    }\n",
       "</style>\n",
       "<table border=\"1\" class=\"dataframe\">\n",
       "  <thead>\n",
       "    <tr style=\"text-align: right;\">\n",
       "      <th></th>\n",
       "      <th>ageg</th>\n",
       "      <th>religion</th>\n",
       "      <th>marriage</th>\n",
       "    </tr>\n",
       "  </thead>\n",
       "  <tbody>\n",
       "    <tr>\n",
       "      <th>2</th>\n",
       "      <td>old</td>\n",
       "      <td>yes</td>\n",
       "      <td>divorce</td>\n",
       "    </tr>\n",
       "    <tr>\n",
       "      <th>3</th>\n",
       "      <td>old</td>\n",
       "      <td>yes</td>\n",
       "      <td>marriage</td>\n",
       "    </tr>\n",
       "    <tr>\n",
       "      <th>4</th>\n",
       "      <td>old</td>\n",
       "      <td>yes</td>\n",
       "      <td>marriage</td>\n",
       "    </tr>\n",
       "  </tbody>\n",
       "</table>\n",
       "</div>"
      ],
      "text/plain": [
       "  ageg religion  marriage\n",
       "2  old      yes   divorce\n",
       "3  old      yes  marriage\n",
       "4  old      yes  marriage"
      ]
     },
     "execution_count": 4,
     "metadata": {},
     "output_type": "execute_result"
    }
   ],
   "source": [
    "# etc 제외\n",
    "df=df.query('marriage != \"etc\"')\n",
    "df.head(3)"
   ]
  },
  {
   "cell_type": "code",
   "execution_count": 5,
   "metadata": {},
   "outputs": [
    {
     "data": {
      "text/plain": [
       "ageg\n",
       "old       5378\n",
       "middle    3962\n",
       "young       53\n",
       "Name: count, dtype: int64"
      ]
     },
     "execution_count": 5,
     "metadata": {},
     "output_type": "execute_result"
    }
   ],
   "source": [
    "df['ageg'].value_counts()"
   ]
  },
  {
   "cell_type": "code",
   "execution_count": 6,
   "metadata": {},
   "outputs": [
    {
     "data": {
      "text/html": [
       "<div>\n",
       "<style scoped>\n",
       "    .dataframe tbody tr th:only-of-type {\n",
       "        vertical-align: middle;\n",
       "    }\n",
       "\n",
       "    .dataframe tbody tr th {\n",
       "        vertical-align: top;\n",
       "    }\n",
       "\n",
       "    .dataframe thead th {\n",
       "        text-align: right;\n",
       "    }\n",
       "</style>\n",
       "<table border=\"1\" class=\"dataframe\">\n",
       "  <thead>\n",
       "    <tr style=\"text-align: right;\">\n",
       "      <th></th>\n",
       "      <th>ageg</th>\n",
       "      <th>religion</th>\n",
       "      <th>marriage</th>\n",
       "    </tr>\n",
       "  </thead>\n",
       "  <tbody>\n",
       "    <tr>\n",
       "      <th>2</th>\n",
       "      <td>old</td>\n",
       "      <td>yes</td>\n",
       "      <td>divorce</td>\n",
       "    </tr>\n",
       "    <tr>\n",
       "      <th>3</th>\n",
       "      <td>old</td>\n",
       "      <td>yes</td>\n",
       "      <td>marriage</td>\n",
       "    </tr>\n",
       "    <tr>\n",
       "      <th>4</th>\n",
       "      <td>old</td>\n",
       "      <td>yes</td>\n",
       "      <td>marriage</td>\n",
       "    </tr>\n",
       "  </tbody>\n",
       "</table>\n",
       "</div>"
      ],
      "text/plain": [
       "  ageg religion  marriage\n",
       "2  old      yes   divorce\n",
       "3  old      yes  marriage\n",
       "4  old      yes  marriage"
      ]
     },
     "execution_count": 6,
     "metadata": {},
     "output_type": "execute_result"
    }
   ],
   "source": [
    "df=df.query('ageg != \"young\"') # young 제외\n",
    "df.head(3)"
   ]
  },
  {
   "cell_type": "code",
   "execution_count": 7,
   "metadata": {},
   "outputs": [
    {
     "data": {
      "text/html": [
       "<div>\n",
       "<style scoped>\n",
       "    .dataframe tbody tr th:only-of-type {\n",
       "        vertical-align: middle;\n",
       "    }\n",
       "\n",
       "    .dataframe tbody tr th {\n",
       "        vertical-align: top;\n",
       "    }\n",
       "\n",
       "    .dataframe thead th {\n",
       "        text-align: right;\n",
       "    }\n",
       "</style>\n",
       "<table border=\"1\" class=\"dataframe\">\n",
       "  <thead>\n",
       "    <tr style=\"text-align: right;\">\n",
       "      <th></th>\n",
       "      <th>ageg</th>\n",
       "      <th>religion</th>\n",
       "      <th>marriage</th>\n",
       "      <th>size</th>\n",
       "    </tr>\n",
       "  </thead>\n",
       "  <tbody>\n",
       "    <tr>\n",
       "      <th>0</th>\n",
       "      <td>middle</td>\n",
       "      <td>no</td>\n",
       "      <td>divorce</td>\n",
       "      <td>236</td>\n",
       "    </tr>\n",
       "    <tr>\n",
       "      <th>1</th>\n",
       "      <td>middle</td>\n",
       "      <td>no</td>\n",
       "      <td>marriage</td>\n",
       "      <td>2206</td>\n",
       "    </tr>\n",
       "    <tr>\n",
       "      <th>2</th>\n",
       "      <td>middle</td>\n",
       "      <td>yes</td>\n",
       "      <td>divorce</td>\n",
       "      <td>127</td>\n",
       "    </tr>\n",
       "    <tr>\n",
       "      <th>3</th>\n",
       "      <td>middle</td>\n",
       "      <td>yes</td>\n",
       "      <td>marriage</td>\n",
       "      <td>1393</td>\n",
       "    </tr>\n",
       "    <tr>\n",
       "      <th>4</th>\n",
       "      <td>old</td>\n",
       "      <td>no</td>\n",
       "      <td>divorce</td>\n",
       "      <td>266</td>\n",
       "    </tr>\n",
       "    <tr>\n",
       "      <th>5</th>\n",
       "      <td>old</td>\n",
       "      <td>no</td>\n",
       "      <td>marriage</td>\n",
       "      <td>2240</td>\n",
       "    </tr>\n",
       "    <tr>\n",
       "      <th>6</th>\n",
       "      <td>old</td>\n",
       "      <td>yes</td>\n",
       "      <td>divorce</td>\n",
       "      <td>260</td>\n",
       "    </tr>\n",
       "    <tr>\n",
       "      <th>7</th>\n",
       "      <td>old</td>\n",
       "      <td>yes</td>\n",
       "      <td>marriage</td>\n",
       "      <td>2612</td>\n",
       "    </tr>\n",
       "  </tbody>\n",
       "</table>\n",
       "</div>"
      ],
      "text/plain": [
       "     ageg religion  marriage  size\n",
       "0  middle       no   divorce   236\n",
       "1  middle       no  marriage  2206\n",
       "2  middle      yes   divorce   127\n",
       "3  middle      yes  marriage  1393\n",
       "4     old       no   divorce   266\n",
       "5     old       no  marriage  2240\n",
       "6     old      yes   divorce   260\n",
       "7     old      yes  marriage  2612"
      ]
     },
     "execution_count": 7,
     "metadata": {},
     "output_type": "execute_result"
    }
   ],
   "source": [
    "# 연령대 및 종교 유무에 따른 이혼율 분석하기\n",
    "df2=df.groupby(['ageg', 'religion', 'marriage'], as_index=False)['marriage'].size()\n",
    "df2"
   ]
  },
  {
   "cell_type": "code",
   "execution_count": 24,
   "metadata": {},
   "outputs": [
    {
     "data": {
      "text/plain": [
       "ageg    religion  marriage\n",
       "middle  no        divorce      236\n",
       "                  marriage    2206\n",
       "        yes       divorce      127\n",
       "                  marriage    1393\n",
       "old     no        divorce      266\n",
       "                  marriage    2240\n",
       "        yes       divorce      260\n",
       "                  marriage    2612\n",
       "Name: marriage, dtype: int64"
      ]
     },
     "execution_count": 24,
     "metadata": {},
     "output_type": "execute_result"
    }
   ],
   "source": [
    "# 연령대 및 종교 유무에 따른 이혼율 분석하기\n",
    "df2=df.groupby(['ageg', 'religion', 'marriage'], as_index=True)['marriage'].size()\n",
    "df2 # 이혼률을 구하기위하여 4개의 total 변수가 필요함."
   ]
  },
  {
   "cell_type": "code",
   "execution_count": 47,
   "metadata": {},
   "outputs": [
    {
     "name": "stdout",
     "output_type": "stream",
     "text": [
      "<class 'pandas.core.series.Series'>\n",
      "ageg    ageg    religion  marriage\n",
      "middle  middle  no        divorce      6.0\n",
      "                          marriage    55.7\n",
      "                yes       divorce      3.2\n",
      "                          marriage    35.2\n",
      "old     old     no        divorce      4.9\n",
      "                          marriage    41.7\n",
      "                yes       divorce      4.8\n",
      "                          marriage    48.6\n",
      "Name: marriage, dtype: float64\n"
     ]
    }
   ],
   "source": [
    "# lambda 함수를 이용한 비율 계산\n",
    "# level=[0]: ageg, index의 깊이, 0: ageg, 1: religion\n",
    "# 1번 index인 religion는 집계용으로 사용됨, lambda 함수의 x 변수 값으로 할당됨.\n",
    "df3=round(df2.groupby(level=[0]).apply(lambda x: x/x.sum()), 3)*100\n",
    "print(type(df3))\n",
    "print(df3)"
   ]
  },
  {
   "cell_type": "code",
   "execution_count": 41,
   "metadata": {},
   "outputs": [
    {
     "data": {
      "text/plain": [
       "MultiIndex([('middle', 'middle',  'no',  'divorce'),\n",
       "            ('middle', 'middle',  'no', 'marriage'),\n",
       "            ('middle', 'middle', 'yes',  'divorce'),\n",
       "            ('middle', 'middle', 'yes', 'marriage'),\n",
       "            (   'old',    'old',  'no',  'divorce'),\n",
       "            (   'old',    'old',  'no', 'marriage'),\n",
       "            (   'old',    'old', 'yes',  'divorce'),\n",
       "            (   'old',    'old', 'yes', 'marriage')],\n",
       "           names=['ageg', 'ageg', 'religion', 'marriage'])"
      ]
     },
     "execution_count": 41,
     "metadata": {},
     "output_type": "execute_result"
    }
   ],
   "source": [
    "df3.index # index가 여러개로 구성된 버그 확인, 'ageg', 'ageg', 'religion', 'marriage'"
   ]
  },
  {
   "cell_type": "code",
   "execution_count": 43,
   "metadata": {},
   "outputs": [
    {
     "data": {
      "text/plain": [
       "ageg    religion  marriage\n",
       "middle  no        divorce      6.0\n",
       "                  marriage    55.7\n",
       "        yes       divorce      3.2\n",
       "                  marriage    35.2\n",
       "old     no        divorce      4.9\n",
       "                  marriage    41.7\n",
       "        yes       divorce      4.8\n",
       "                  marriage    48.6\n",
       "Name: marriage, dtype: float64"
      ]
     },
     "execution_count": 43,
     "metadata": {},
     "output_type": "execute_result"
    }
   ],
   "source": [
    "# level 0: ageg\n",
    "# level 1: religion\n",
    "# level 2: ageg\n",
    "# level 3: religion\n",
    "df3.droplevel(axis=0, level=0) # 첫번째 multi index level 삭제"
   ]
  },
  {
   "cell_type": "code",
   "execution_count": 48,
   "metadata": {},
   "outputs": [
    {
     "name": "stdout",
     "output_type": "stream",
     "text": [
      "ageg    religion  ageg    religion  marriage\n",
      "middle  no        middle  no        divorce      9.7\n",
      "                                    marriage    90.3\n",
      "        yes       middle  yes       divorce      8.4\n",
      "                                    marriage    91.6\n",
      "old     no        old     no        divorce     10.6\n",
      "                                    marriage    89.4\n",
      "        yes       old     yes       divorce      9.1\n",
      "                                    marriage    90.9\n",
      "Name: marriage, dtype: float64\n"
     ]
    }
   ],
   "source": [
    "# lambda 함수를 이용한 비율 계산\n",
    "# level=[0, 1]: index의 깊이, 0: ageg, 1: religion\n",
    "# 2번 index인 marriage는 집계용으로 사용됨, lambda 함수의 x 변수 값으로 할당됨.\n",
    "df3=round(df2.groupby(level=[0, 1]).apply(lambda x: x/x.sum()), 3)*100\n",
    "# print(type(df3))\n",
    "print(df3)"
   ]
  },
  {
   "cell_type": "code",
   "execution_count": 49,
   "metadata": {},
   "outputs": [
    {
     "data": {
      "text/plain": [
       "ageg    religion  marriage\n",
       "middle  no        divorce      9.7\n",
       "                  marriage    90.3\n",
       "        yes       divorce      8.4\n",
       "                  marriage    91.6\n",
       "old     no        divorce     10.6\n",
       "                  marriage    89.4\n",
       "        yes       divorce      9.1\n",
       "                  marriage    90.9\n",
       "Name: marriage, dtype: float64"
      ]
     },
     "execution_count": 49,
     "metadata": {},
     "output_type": "execute_result"
    }
   ],
   "source": [
    "# level 0: ageg\n",
    "# level 1: religion\n",
    "# level 2: ageg\n",
    "# level 3: religion\n",
    "# level 4: marriage\n",
    "# multi index level 0, 1 delete\n",
    "df3 = df3.droplevel(axis=0, level=[0, 1])\n",
    "df3"
   ]
  },
  {
   "cell_type": "code",
   "execution_count": 50,
   "metadata": {},
   "outputs": [
    {
     "data": {
      "text/html": [
       "<div>\n",
       "<style scoped>\n",
       "    .dataframe tbody tr th:only-of-type {\n",
       "        vertical-align: middle;\n",
       "    }\n",
       "\n",
       "    .dataframe tbody tr th {\n",
       "        vertical-align: top;\n",
       "    }\n",
       "\n",
       "    .dataframe thead th {\n",
       "        text-align: right;\n",
       "    }\n",
       "</style>\n",
       "<table border=\"1\" class=\"dataframe\">\n",
       "  <thead>\n",
       "    <tr style=\"text-align: right;\">\n",
       "      <th></th>\n",
       "      <th>ageg</th>\n",
       "      <th>religion</th>\n",
       "      <th>marriage</th>\n",
       "      <th>proportion</th>\n",
       "    </tr>\n",
       "  </thead>\n",
       "  <tbody>\n",
       "    <tr>\n",
       "      <th>0</th>\n",
       "      <td>middle</td>\n",
       "      <td>no</td>\n",
       "      <td>divorce</td>\n",
       "      <td>9.7</td>\n",
       "    </tr>\n",
       "    <tr>\n",
       "      <th>1</th>\n",
       "      <td>middle</td>\n",
       "      <td>no</td>\n",
       "      <td>marriage</td>\n",
       "      <td>90.3</td>\n",
       "    </tr>\n",
       "    <tr>\n",
       "      <th>2</th>\n",
       "      <td>middle</td>\n",
       "      <td>yes</td>\n",
       "      <td>divorce</td>\n",
       "      <td>8.4</td>\n",
       "    </tr>\n",
       "    <tr>\n",
       "      <th>3</th>\n",
       "      <td>middle</td>\n",
       "      <td>yes</td>\n",
       "      <td>marriage</td>\n",
       "      <td>91.6</td>\n",
       "    </tr>\n",
       "    <tr>\n",
       "      <th>4</th>\n",
       "      <td>old</td>\n",
       "      <td>no</td>\n",
       "      <td>divorce</td>\n",
       "      <td>10.6</td>\n",
       "    </tr>\n",
       "    <tr>\n",
       "      <th>5</th>\n",
       "      <td>old</td>\n",
       "      <td>no</td>\n",
       "      <td>marriage</td>\n",
       "      <td>89.4</td>\n",
       "    </tr>\n",
       "    <tr>\n",
       "      <th>6</th>\n",
       "      <td>old</td>\n",
       "      <td>yes</td>\n",
       "      <td>divorce</td>\n",
       "      <td>9.1</td>\n",
       "    </tr>\n",
       "    <tr>\n",
       "      <th>7</th>\n",
       "      <td>old</td>\n",
       "      <td>yes</td>\n",
       "      <td>marriage</td>\n",
       "      <td>90.9</td>\n",
       "    </tr>\n",
       "  </tbody>\n",
       "</table>\n",
       "</div>"
      ],
      "text/plain": [
       "     ageg religion  marriage  proportion\n",
       "0  middle       no   divorce         9.7\n",
       "1  middle       no  marriage        90.3\n",
       "2  middle      yes   divorce         8.4\n",
       "3  middle      yes  marriage        91.6\n",
       "4     old       no   divorce        10.6\n",
       "5     old       no  marriage        89.4\n",
       "6     old      yes   divorce         9.1\n",
       "7     old      yes  marriage        90.9"
      ]
     },
     "execution_count": 50,
     "metadata": {},
     "output_type": "execute_result"
    }
   ],
   "source": [
    "# reset_index(): index -> column\n",
    "df4=pd.DataFrame(df3).rename(columns={'marriage': 'proportion'}).reset_index()\n",
    "df4"
   ]
  },
  {
   "cell_type": "code",
   "execution_count": 51,
   "metadata": {},
   "outputs": [
    {
     "data": {
      "text/html": [
       "<div>\n",
       "<style scoped>\n",
       "    .dataframe tbody tr th:only-of-type {\n",
       "        vertical-align: middle;\n",
       "    }\n",
       "\n",
       "    .dataframe tbody tr th {\n",
       "        vertical-align: top;\n",
       "    }\n",
       "\n",
       "    .dataframe thead th {\n",
       "        text-align: right;\n",
       "    }\n",
       "</style>\n",
       "<table border=\"1\" class=\"dataframe\">\n",
       "  <thead>\n",
       "    <tr style=\"text-align: right;\">\n",
       "      <th></th>\n",
       "      <th>ageg</th>\n",
       "      <th>religion</th>\n",
       "      <th>marriage</th>\n",
       "      <th>proportion</th>\n",
       "    </tr>\n",
       "  </thead>\n",
       "  <tbody>\n",
       "    <tr>\n",
       "      <th>0</th>\n",
       "      <td>middle</td>\n",
       "      <td>no</td>\n",
       "      <td>divorce</td>\n",
       "      <td>9.7</td>\n",
       "    </tr>\n",
       "    <tr>\n",
       "      <th>2</th>\n",
       "      <td>middle</td>\n",
       "      <td>yes</td>\n",
       "      <td>divorce</td>\n",
       "      <td>8.4</td>\n",
       "    </tr>\n",
       "    <tr>\n",
       "      <th>4</th>\n",
       "      <td>old</td>\n",
       "      <td>no</td>\n",
       "      <td>divorce</td>\n",
       "      <td>10.6</td>\n",
       "    </tr>\n",
       "    <tr>\n",
       "      <th>6</th>\n",
       "      <td>old</td>\n",
       "      <td>yes</td>\n",
       "      <td>divorce</td>\n",
       "      <td>9.1</td>\n",
       "    </tr>\n",
       "  </tbody>\n",
       "</table>\n",
       "</div>"
      ],
      "text/plain": [
       "     ageg religion marriage  proportion\n",
       "0  middle       no  divorce         9.7\n",
       "2  middle      yes  divorce         8.4\n",
       "4     old       no  divorce        10.6\n",
       "6     old      yes  divorce         9.1"
      ]
     },
     "execution_count": 51,
     "metadata": {},
     "output_type": "execute_result"
    }
   ],
   "source": [
    "df4=df4.query('marriage==\"divorce\"')\n",
    "df4"
   ]
  },
  {
   "cell_type": "code",
   "execution_count": 53,
   "metadata": {},
   "outputs": [
    {
     "data": {
      "image/png": "[encoded data removed]",
      "text/plain": [
       "<Figure size 1000x500 with 1 Axes>"
      ]
     },
     "metadata": {},
     "output_type": "display_data"
    }
   ],
   "source": [
    "plt.rcParams.update({'figure.figsize': \"10, 5\"})\n",
    "sns.barplot(data=df4, y='proportion', x='ageg', hue='religion');\n",
    "# old로 갈수록 종교가 있는 사람과 없는 사람의 이혼률의 차이가 커진다."
   ]
  },
  {
   "cell_type": "code",
   "execution_count": null,
   "metadata": {},
   "outputs": [],
   "source": []
  }
 ],
 "metadata": {
  "kernelspec": {
   "display_name": "ai",
   "language": "python",
   "name": "python3"
  },
  "language_info": {
   "codemirror_mode": {
    "name": "ipython",
    "version": 3
   },
   "file_extension": ".py",
   "mimetype": "text/x-python",
   "name": "python",
   "nbconvert_exporter": "python",
   "pygments_lexer": "ipython3",
   "version": "3.9.18"
  }
 },
 "nbformat": 4,
 "nbformat_minor": 4
}
