{
 "cells": [
  {
   "cell_type": "markdown",
   "id": "65f67d32-dd34-4055-9551-cc1ab01b2af5",
   "metadata": {},
   "source": [
    "# 빙어 낚시터 방문시 잡을 수 있는 물고기의 예상 크기는?\n",
    "- 평균, 편차, 분산, 표준 편차\n",
    "- 모든 빙어의 크기를 알 수 없음으로 표본을 이용하여 평균을 산출하고 기댓값으로 사용한다.\n",
    "- 표본: 먼저온 사람들이 잡은 빙어\n",
    "- 기댓값: 먼저온 사람들이 잡은 빙어의 평균"
   ]
  },
  {
   "cell_type": "code",
   "execution_count": 2,
   "id": "399663a0-6cc2-40e4-999c-0bba98a8da42",
   "metadata": {},
   "outputs": [],
   "source": [
    "import numpy as np"
   ]
  },
  {
   "cell_type": "code",
   "execution_count": 5,
   "id": "30a6f5b3-32e9-4c9b-8985-1bb7ac2e14e5",
   "metadata": {},
   "outputs": [
    {
     "name": "stdout",
     "output_type": "stream",
     "text": [
      "<class 'numpy.ndarray'>\n",
      "[ 6  7  8  9 10]\n"
     ]
    }
   ],
   "source": [
    "# 가상의 데이터를 준비\n",
    "fish = np.arange(6, 11)\n",
    "print(type(fish))\n",
    "print(fish) # \",\"  가 없음."
   ]
  },
  {
   "cell_type": "code",
   "execution_count": 9,
   "id": "1c8d1294-1356-4fd6-a69f-db9df14e7fb8",
   "metadata": {},
   "outputs": [
    {
     "name": "stdout",
     "output_type": "stream",
     "text": [
      "<class 'range'>\n",
      "range(6, 11)\n",
      "<class 'list'>\n",
      "[6, 7, 8, 9, 10]\n"
     ]
    }
   ],
   "source": [
    "test = range(6, 11)\n",
    "print(type(test))\n",
    "print(test)\n",
    "\n",
    "test = []\n",
    "for i in range(6, 11):\n",
    "    test.append(i)\n",
    "\n",
    "print(type(test))\n",
    "print(test)"
   ]
  },
  {
   "cell_type": "code",
   "execution_count": 13,
   "id": "11386af2-5ada-44d0-a400-414c0e2e0616",
   "metadata": {},
   "outputs": [
    {
     "name": "stdout",
     "output_type": "stream",
     "text": [
      "<class 'list'>\n",
      "[6, 7, 8, 9, 10]\n"
     ]
    }
   ],
   "source": [
    "test2 = [i for i in range(6, 11)]\n",
    "print(type(test2))\n",
    "print(test2)"
   ]
  },
  {
   "cell_type": "code",
   "execution_count": 16,
   "id": "846c4f02-eeb0-43e5-9d4d-4127dcc86992",
   "metadata": {},
   "outputs": [
    {
     "name": "stdout",
     "output_type": "stream",
     "text": [
      "[ 7  8  9 10 11]\n"
     ]
    },
    {
     "ename": "TypeError",
     "evalue": "can only concatenate list (not \"int\") to list",
     "output_type": "error",
     "traceback": [
      "\u001b[1;31m---------------------------------------------------------------------------\u001b[0m",
      "\u001b[1;31mTypeError\u001b[0m                                 Traceback (most recent call last)",
      "Cell \u001b[1;32mIn[16], line 2\u001b[0m\n\u001b[0;32m      1\u001b[0m \u001b[38;5;28mprint\u001b[39m(fish \u001b[38;5;241m+\u001b[39m \u001b[38;5;241m1\u001b[39m) \u001b[38;5;66;03m# Vector 연산 (가지고 있는 데이터에 1씩 더함)\u001b[39;00m\n\u001b[1;32m----> 2\u001b[0m \u001b[38;5;28mprint\u001b[39m(\u001b[43mtest\u001b[49m\u001b[43m \u001b[49m\u001b[38;5;241;43m+\u001b[39;49m\u001b[43m \u001b[49m\u001b[38;5;241;43m1\u001b[39;49m)\n",
      "\u001b[1;31mTypeError\u001b[0m: can only concatenate list (not \"int\") to list"
     ]
    }
   ],
   "source": [
    "print(fish + 1) # Vector 연산 (가지고 있는 데이터에 1씩 더함), \n",
    "# 스트라이드 연산 : list + int : 각요소 + int 연산  \n",
    "\n",
    "# list 는 Vector 연산을 수행 불가함\n",
    "print(test + 1) # TypeError: can only concatenate list (not \"int\") to list\n",
    "print(test2 + 1) # list와 int는 type이 달라서 연산이 불가능한다."
   ]
  },
  {
   "cell_type": "code",
   "execution_count": 22,
   "id": "05dbe49a-b6ee-4d5d-b4a0-912b1ed6d39e",
   "metadata": {},
   "outputs": [
    {
     "name": "stdout",
     "output_type": "stream",
     "text": [
      "40\n",
      "40\n",
      "8.0\n",
      "8.0\n"
     ]
    }
   ],
   "source": [
    "# 합계\n",
    "print(fish.sum())\n",
    "print(np.sum(fish))\n",
    "\n",
    "# 평균\n",
    "print(fish.mean())\n",
    "print(np.mean(fish))"
   ]
  },
  {
   "cell_type": "code",
   "execution_count": 45,
   "id": "671cd0b7-5004-4548-b9a6-d68001b1717c",
   "metadata": {},
   "outputs": [
    {
     "name": "stdout",
     "output_type": "stream",
     "text": [
      "[ 9 10  6  7  9  6  6  7 10 10  7  8 10  8 10  9 10  8 10  8 10  7  7  6\n",
      "  7  7  7  7  6 10  7  6  6  9  8  7  6  9  7  7  9 10  6  7  9 10  8 10\n",
      "  6  9  7  8  6 10  7  8  8  7  6  7  9 10  9  7  9  6  6  8  8  7  9 10\n",
      "  8  6  6  7  7  9  6  6 10  8 10  9  9  6  9 10  9 10 10 10  7  6 10  8\n",
      "  6  8 10  7]\n"
     ]
    }
   ],
   "source": [
    "# 호수의 모든 빙어, 모집단 고정\n",
    "np.random.seed(1) # seed 값을 고정하여 생성되는 rand값을 고정할 수 있음\n",
    "fish = np.random.randint(6, 11, size=100)\n",
    "print(fish)"
   ]
  },
  {
   "cell_type": "code",
   "execution_count": 46,
   "id": "d2071284-2eb7-4e81-aa2a-f7c98393977b",
   "metadata": {},
   "outputs": [
    {
     "data": {
      "text/plain": [
       "100"
      ]
     },
     "execution_count": 46,
     "metadata": {},
     "output_type": "execute_result"
    }
   ],
   "source": [
    "len(fish)"
   ]
  },
  {
   "cell_type": "code",
   "execution_count": 39,
   "id": "73ddcbd4-c17f-4344-aaa1-aedd6752a448",
   "metadata": {},
   "outputs": [
    {
     "data": {
      "text/plain": [
       "7.97"
      ]
     },
     "execution_count": 39,
     "metadata": {},
     "output_type": "execute_result"
    }
   ],
   "source": [
    "avg = np.mean(fish) # 모평균\n",
    "avg"
   ]
  },
  {
   "cell_type": "code",
   "execution_count": 38,
   "id": "ef4859ed-1247-432c-8762-ab310a949999",
   "metadata": {},
   "outputs": [
    {
     "name": "stdout",
     "output_type": "stream",
     "text": [
      "대표적으로 많이 잡히는 빙어의 크기: 7.97 cm\n",
      "예상되는 빙어의 크기: 7.97 cm\n",
      "기대되는 빙어의 크기: 7.97 cm\n"
     ]
    }
   ],
   "source": [
    "print('대표적으로 많이 잡히는 빙어의 크기: {0} cm'.format(avg))\n",
    "print('예상되는 빙어의 크기: {0} cm'.format(avg))\n",
    "print('기대되는 빙어의 크기: {0} cm'.format(avg)) # 기댓값 = 보통 = 평균"
   ]
  },
  {
   "cell_type": "code",
   "execution_count": 41,
   "id": "1caadadc-7401-4d56-8088-19ad9fd3a2ba",
   "metadata": {},
   "outputs": [
    {
     "name": "stdout",
     "output_type": "stream",
     "text": [
      "평균과 차이: -1.0300000000000002\n",
      "평균과 차이: -2.0300000000000002\n",
      "평균과 차이: 1.9699999999999998\n",
      "평균과 차이: 0.9699999999999998\n",
      "평균과 차이: -1.0300000000000002\n",
      "평균과 차이: 1.9699999999999998\n"
     ]
    }
   ],
   "source": [
    "for item in fish[:6]: # 0 ~ 5 를 의미함\n",
    "    print(f'평균과 차이: {avg - item}') # 편차: 평균으로부터의 차이"
   ]
  },
  {
   "cell_type": "code",
   "execution_count": 49,
   "id": "1dd1724a-14a0-48de-9b3e-41a64371ce86",
   "metadata": {},
   "outputs": [
    {
     "data": {
      "image/png": "[encoded data removed]",
      "text/plain": [
       "<Figure size 1000x400 with 1 Axes>"
      ]
     },
     "metadata": {},
     "output_type": "display_data"
    }
   ],
   "source": [
    "import matplotlib.pyplot as plt\n",
    "\n",
    "plt.figure(figsize=(10, 4))\n",
    "plt.scatter(range(1, len(fish) + 1), fish, color='blue') # 연속 데이터가 아님\n",
    "plt.show()"
   ]
  },
  {
   "cell_type": "code",
   "execution_count": null,
   "id": "5bcce15b-90bd-4690-b632-22f289fd0f16",
   "metadata": {},
   "outputs": [],
   "source": []
  },
  {
   "cell_type": "code",
   "execution_count": null,
   "id": "47559858-13fe-453a-a5cf-afefe14ebf27",
   "metadata": {},
   "outputs": [],
   "source": []
  },
  {
   "cell_type": "code",
   "execution_count": null,
   "id": "9373cc9c-421a-4443-9818-c9ca2b2d58be",
   "metadata": {},
   "outputs": [],
   "source": []
  },
  {
   "cell_type": "code",
   "execution_count": null,
   "id": "6863457d-1295-47a9-9644-13ce9a3ad433",
   "metadata": {},
   "outputs": [],
   "source": []
  },
  {
   "cell_type": "code",
   "execution_count": null,
   "id": "9fd440a4-c13c-4c44-93d2-1a9feff3e00e",
   "metadata": {},
   "outputs": [],
   "source": []
  },
  {
   "cell_type": "code",
   "execution_count": null,
   "id": "47d3bbc1-c2e9-4208-bc33-259998702131",
   "metadata": {},
   "outputs": [],
   "source": []
  },
  {
   "cell_type": "code",
   "execution_count": null,
   "id": "611b474f-9f80-48a2-9df7-675a456d4c36",
   "metadata": {},
   "outputs": [],
   "source": []
  },
  {
   "cell_type": "code",
   "execution_count": null,
   "id": "91294477-43f0-472c-a881-44f9e6af36e7",
   "metadata": {},
   "outputs": [],
   "source": []
  },
  {
   "cell_type": "code",
   "execution_count": null,
   "id": "894da204-b1f2-4dbd-ad17-e6569d2a2bea",
   "metadata": {},
   "outputs": [],
   "source": []
  },
  {
   "cell_type": "code",
   "execution_count": null,
   "id": "25cb9b9f-a602-4d10-ba1b-e9bc1e71dcd4",
   "metadata": {},
   "outputs": [],
   "source": []
  }
 ],
 "metadata": {
  "kernelspec": {
   "display_name": "ai",
   "language": "python",
   "name": "ai"
  },
  "language_info": {
   "codemirror_mode": {
    "name": "ipython",
    "version": 3
   },
   "file_extension": ".py",
   "mimetype": "text/x-python",
   "name": "python",
   "nbconvert_exporter": "python",
   "pygments_lexer": "ipython3",
   "version": "3.10.13"
  }
 },
 "nbformat": 4,
 "nbformat_minor": 5
}
